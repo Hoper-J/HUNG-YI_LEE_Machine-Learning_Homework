{
 "cells": [
  {
   "cell_type": "markdown",
   "metadata": {},
   "source": [
    "# Medium Baseline\n",
    "You can search for the “Medium” tag to check for changes (Ctrl + F or Command + F)"
   ]
  },
  {
   "cell_type": "markdown",
   "metadata": {
    "id": "C_jdZ5vHJ4A9"
   },
   "source": [
    "# Task description\n",
    "- Classify the speakers of given features.\n",
    "- Main goal: Learn how to use transformer.\n",
    "- Baselines:\n",
    "  - Easy: Run sample code and know how to use transformer.\n",
    "  - Medium: Know how to adjust parameters of transformer.\n",
    "  - Strong: Construct [conformer](https://arxiv.org/abs/2005.08100) which is a variety of transformer. \n",
    "  - Boss: Implement [Self-Attention Pooling](https://arxiv.org/pdf/2008.01077v1.pdf) & [Additive Margin Softmax](https://arxiv.org/pdf/1801.05599.pdf) to further boost the performance.\n",
    "\n",
    "- Other links\n",
    "  - Competiton: [link](https://www.kaggle.com/t/49ea0c385a974db5919ec67299ba2e6b)\n",
    "  - Slide: [link](https://docs.google.com/presentation/d/1LDAW0GGrC9B6D7dlNdYzQL6D60-iKgFr/edit?usp=sharing&ouid=104280564485377739218&rtpof=true&sd=true)\n",
    "  - Data: [link](https://github.com/googly-mingto/ML2023HW4/releases)\n",
    "\n"
   ]
  },
  {
   "cell_type": "code",
   "execution_count": 1,
   "metadata": {
    "colab": {
     "base_uri": "https://localhost:8080/"
    },
    "id": "gtKxUzSgXKj3",
    "outputId": "3f59402c-95a7-4fbd-a39c-57606590a89c",
    "tags": []
   },
   "outputs": [],
   "source": [
    "# !wget https://github.com/googly-mingto/ML2023HW4/releases/download/data/Dataset.tar.gz.partaa\n",
    "# !wget https://github.com/googly-mingto/ML2023HW4/releases/download/data/Dataset.tar.gz.partab\n",
    "# !wget https://github.com/googly-mingto/ML2023HW4/releases/download/data/Dataset.tar.gz.partac\n",
    "# !wget https://github.com/googly-mingto/ML2023HW4/releases/download/data/Dataset.tar.gz.partad\n",
    "\n",
    "# !cat Dataset.tar.gz.part* > Dataset.tar.gz\n",
    "# !rm Dataset.tar.gz.partaa\n",
    "# !rm Dataset.tar.gz.partab\n",
    "# !rm Dataset.tar.gz.partac\n",
    "# !rm Dataset.tar.gz.partad\n",
    "# # unzip the file\n",
    "# !tar zxf Dataset.tar.gz\n",
    "# !rm Dataset.tar.gz"
   ]
  },
  {
   "cell_type": "code",
   "execution_count": 2,
   "metadata": {
    "colab": {
     "base_uri": "https://localhost:8080/"
    },
    "id": "U6Y1cfpDfpON",
    "outputId": "6ba26637-5c7b-48a9-be0b-1f10ba76590a",
    "tags": []
   },
   "outputs": [],
   "source": [
    "# !tar zxf Dataset.tar.gz"
   ]
  },
  {
   "cell_type": "code",
   "execution_count": 3,
   "metadata": {
    "id": "E6burzCXIyuA",
    "tags": []
   },
   "outputs": [],
   "source": [
    "import numpy as np\n",
    "import torch\n",
    "import random\n",
    "\n",
    "def set_seed(seed):\n",
    "    np.random.seed(seed)\n",
    "    random.seed(seed)\n",
    "    torch.manual_seed(seed)\n",
    "    if torch.cuda.is_available():\n",
    "        torch.cuda.manual_seed(seed)\n",
    "        torch.cuda.manual_seed_all(seed)\n",
    "    torch.backends.cudnn.benchmark = False\n",
    "    torch.backends.cudnn.deterministic = True\n",
    "\n",
    "set_seed(87)"
   ]
  },
  {
   "cell_type": "markdown",
   "metadata": {
    "id": "k7dVbxW2LASN"
   },
   "source": [
    "# Data\n",
    "\n",
    "## Dataset\n",
    "- Original dataset is [Voxceleb2](https://www.robots.ox.ac.uk/~vgg/data/voxceleb/vox2.html).\n",
    "- The [license](https://creativecommons.org/licenses/by/4.0/) and [complete version](https://www.robots.ox.ac.uk/~vgg/data/voxceleb/files/license.txt) of Voxceleb2.\n",
    "- We randomly select 600 speakers from Voxceleb2.\n",
    "- Then preprocess the raw waveforms into mel-spectrograms.\n",
    "\n",
    "- Args:\n",
    "  - data_dir: The path to the data directory.\n",
    "  - metadata_path: The path to the metadata.\n",
    "  - segment_len: The length of audio segment for training. \n",
    "- The architecture of data directory \\\\\n",
    "  - data directory \\\\\n",
    "  |---- metadata.json \\\\\n",
    "  |---- testdata.json \\\\\n",
    "  |---- mapping.json \\\\\n",
    "  |---- uttr-{random string}.pt \\\\\n",
    "\n",
    "- The information in metadata\n",
    "  - \"n_mels\": The dimention of mel-spectrogram.\n",
    "  - \"speakers\": A dictionary. \n",
    "    - Key: speaker ids.\n",
    "    - value: \"feature_path\" and \"mel_len\"\n",
    "\n",
    "\n",
    "For efficiency, we segment the mel-spectrograms into segments in the traing step."
   ]
  },
  {
   "cell_type": "code",
   "execution_count": 4,
   "metadata": {
    "id": "KpuGxl4CI2pr",
    "tags": []
   },
   "outputs": [],
   "source": [
    "import os\n",
    "import json\n",
    "import torch\n",
    "import random\n",
    "from pathlib import Path\n",
    "from torch.utils.data import Dataset\n",
    "from torch.nn.utils.rnn import pad_sequence\n",
    " \n",
    " \n",
    "class myDataset(Dataset):\n",
    "    def __init__(self, data_dir, segment_len=128):\n",
    "        self.data_dir = data_dir\n",
    "        self.segment_len = segment_len\n",
    "\n",
    "        # Load the mapping from speaker neme to their corresponding id. \n",
    "        mapping_path = Path(data_dir) / \"mapping.json\"\n",
    "        mapping = json.load(mapping_path.open())\n",
    "        self.speaker2id = mapping[\"speaker2id\"]\n",
    "\n",
    "        # Load metadata of training data.\n",
    "        metadata_path = Path(data_dir) / \"metadata.json\"\n",
    "        metadata = json.load(open(metadata_path))[\"speakers\"]\n",
    "\n",
    "        # Get the total number of speaker.\n",
    "        self.speaker_num = len(metadata.keys())\n",
    "        self.data = []\n",
    "        for speaker in metadata.keys():\n",
    "            for utterances in metadata[speaker]:\n",
    "                self.data.append([utterances[\"feature_path\"], self.speaker2id[speaker]])\n",
    "\n",
    "    def __len__(self):\n",
    "            return len(self.data)\n",
    "\n",
    "    def __getitem__(self, index):\n",
    "        feat_path, speaker = self.data[index]\n",
    "        # Load preprocessed mel-spectrogram.\n",
    "        mel = torch.load(os.path.join(self.data_dir, feat_path))\n",
    "\n",
    "        # Segment mel-spectrogram into \"segment_len\" frames.\n",
    "        if len(mel) > self.segment_len:\n",
    "            # Randomly get the starting point of the segment.\n",
    "            start = random.randint(0, len(mel) - self.segment_len)\n",
    "            # Get a segment with \"segment_len\" frames.\n",
    "            mel = torch.FloatTensor(mel[start:start+self.segment_len])\n",
    "        else:\n",
    "            mel = torch.FloatTensor(mel)\n",
    "        # Turn the speaker id into long for computing loss later.\n",
    "        speaker = torch.FloatTensor([speaker]).long()  # .long().dtype = torch.int64\n",
    "        return mel, speaker\n",
    "\n",
    "    def get_speaker_number(self):\n",
    "        return self.speaker_num"
   ]
  },
  {
   "cell_type": "markdown",
   "metadata": {
    "id": "668hverTMlGN"
   },
   "source": [
    "## Dataloader\n",
    "- Split dataset into training dataset(90%) and validation dataset(10%).\n",
    "- Create dataloader to iterate the data."
   ]
  },
  {
   "cell_type": "code",
   "execution_count": 5,
   "metadata": {
    "id": "B7c2gZYoJDRS"
   },
   "outputs": [],
   "source": [
    "import torch\n",
    "from torch.utils.data import DataLoader, random_split\n",
    "from torch.nn.utils.rnn import pad_sequence\n",
    "\n",
    "\n",
    "def collate_batch(batch):\n",
    "    # Process features within a batch.\n",
    "    \"\"\"Collate a batch of data.\"\"\"\n",
    "    mel, speaker = zip(*batch)\n",
    "    # Because we train the model batch by batch, we need to pad the features in the same batch to make their lengths the same.\n",
    "    mel = pad_sequence(mel, batch_first=True, padding_value=-20)    # pad log 10^(-20) which is very small value.\n",
    "    # mel: (batch size, length, 40)\n",
    "    return mel, torch.FloatTensor(speaker).long()\n",
    "\n",
    "\n",
    "def get_dataloader(data_dir, batch_size, n_workers):\n",
    "    \"\"\"Generate dataloader\"\"\"\n",
    "    dataset = myDataset(data_dir)\n",
    "    speaker_num = dataset.get_speaker_number()\n",
    "    # Split dataset into training dataset and validation dataset\n",
    "    trainlen = int(0.9 * len(dataset))\n",
    "    lengths = [trainlen, len(dataset) - trainlen]\n",
    "    trainset, validset = random_split(dataset, lengths)\n",
    "\n",
    "    train_loader = DataLoader(\n",
    "        trainset,\n",
    "        batch_size=batch_size,\n",
    "        shuffle=True,\n",
    "        drop_last=True,\n",
    "        num_workers=n_workers,\n",
    "        pin_memory=True,\n",
    "        collate_fn=collate_batch,\n",
    "    )\n",
    "    valid_loader = DataLoader(\n",
    "        validset,\n",
    "        batch_size=batch_size,\n",
    "        num_workers=n_workers,\n",
    "        drop_last=True,\n",
    "        pin_memory=True,\n",
    "        collate_fn=collate_batch,\n",
    "    )\n",
    "\n",
    "    return train_loader, valid_loader, speaker_num"
   ]
  },
  {
   "cell_type": "markdown",
   "metadata": {
    "id": "5FOSZYxrMqhc"
   },
   "source": [
    "# Model\n",
    "- TransformerEncoderLayer:\n",
    "  - Base transformer encoder layer in [Attention Is All You Need](https://arxiv.org/abs/1706.03762)\n",
    "  - Parameters:\n",
    "    - d_model: the number of expected features of the input (required).\n",
    "\n",
    "    - nhead: the number of heads of the multiheadattention models (required).\n",
    "\n",
    "    - dim_feedforward: the dimension of the feedforward network model (default=2048).\n",
    "\n",
    "    - dropout: the dropout value (default=0.1).\n",
    "\n",
    "    - activation: the activation function of intermediate layer, relu or gelu (default=relu).\n",
    "\n",
    "- TransformerEncoder:\n",
    "  - TransformerEncoder is a stack of N transformer encoder layers\n",
    "  - Parameters:\n",
    "    - encoder_layer: an instance of the TransformerEncoderLayer() class (required).\n",
    "\n",
    "    - num_layers: the number of sub-encoder-layers in the encoder (required).\n",
    "\n",
    "    - norm: the layer normalization component (optional)."
   ]
  },
  {
   "cell_type": "code",
   "execution_count": 6,
   "metadata": {
    "id": "iXZ5B0EKJGs8"
   },
   "outputs": [],
   "source": [
    "import torch\n",
    "import torch.nn as nn\n",
    "import torch.nn.functional as F\n",
    "\n",
    "\n",
    "class Classifier(nn.Module):\n",
    "    def __init__(self, d_model=512, n_spks=600, dropout=0.1):\n",
    "        super().__init__()\n",
    "        # Project the dimension of features from that of input into d_model.\n",
    "        self.prenet = nn.Linear(40, d_model)\n",
    "        # TODO:\n",
    "        #   Change Transformer to Conformer.\n",
    "        #   https://arxiv.org/abs/2005.08100\n",
    "        self.encoder_layer = nn.TransformerEncoderLayer(\n",
    "            d_model=d_model, dim_feedforward=256, nhead=16\n",
    "        )\n",
    "        # self.encoder = nn.TransformerEncoder(self.encoder_layer, num_layers=2)\n",
    "\n",
    "        # Project the the dimension of features from d_model into speaker nums.\n",
    "        self.pred_layer = nn.Sequential(\n",
    "            nn.Linear(d_model, 2 * d_model),\n",
    "            nn.Sigmoid(),\n",
    "            nn.Dropout(dropout),\n",
    "            nn.Linear(2 * d_model, n_spks),\n",
    "        )\n",
    "\n",
    "    def forward(self, mels):\n",
    "        \"\"\"\n",
    "        args:\n",
    "            mels: (batch size, length, 40)\n",
    "        return:\n",
    "            out: (batch size, n_spks)\n",
    "        \"\"\"\n",
    "        # out: (batch size, length, d_model)\n",
    "        out = self.prenet(mels)\n",
    "        # out: (length, batch size, d_model)\n",
    "        out = out.permute(1, 0, 2)\n",
    "        # The encoder layer expect features in the shape of (length, batch size, d_model).\n",
    "        out = self.encoder_layer(out)\n",
    "        # out: (batch size, length, d_model)\n",
    "        out = out.transpose(0, 1)\n",
    "        # mean pooling\n",
    "        stats = out.mean(dim=1)\n",
    "\n",
    "        # out: (batch, n_spks)\n",
    "        out = self.pred_layer(stats)\n",
    "        return out"
   ]
  },
  {
   "cell_type": "markdown",
   "metadata": {
    "id": "W7yX8JinM5Ly"
   },
   "source": [
    "# Learning rate schedule\n",
    "- For transformer architecture, the design of learning rate schedule is different from that of CNN.\n",
    "- Previous works show that the warmup of learning rate is useful for training models with transformer architectures.\n",
    "- The warmup schedule\n",
    "  - Set learning rate to 0 in the beginning.\n",
    "  - The learning rate increases linearly from 0 to initial learning rate during warmup period."
   ]
  },
  {
   "cell_type": "code",
   "execution_count": 7,
   "metadata": {
    "id": "ykt0N1nVJJi2"
   },
   "outputs": [],
   "source": [
    "import math\n",
    "\n",
    "import torch\n",
    "from torch.optim import Optimizer\n",
    "from torch.optim.lr_scheduler import LambdaLR\n",
    "\n",
    "\n",
    "def get_cosine_schedule_with_warmup(\n",
    "    optimizer: Optimizer,\n",
    "    num_warmup_steps: int,\n",
    "    num_training_steps: int,\n",
    "    num_cycles: float = 0.5,\n",
    "    last_epoch: int = -1,\n",
    "):\n",
    "    \"\"\"\n",
    "    Create a schedule with a learning rate that decreases following the values of the cosine function between the\n",
    "    initial lr set in the optimizer to 0, after a warmup period during which it increases linearly between 0 and the\n",
    "    initial lr set in the optimizer.\n",
    "\n",
    "    Args:\n",
    "        optimizer (:class:`~torch.optim.Optimizer`):\n",
    "        The optimizer for which to schedule the learning rate.\n",
    "        num_warmup_steps (:obj:`int`):\n",
    "        The number of steps for the warmup phase.\n",
    "        num_training_steps (:obj:`int`):\n",
    "        The total number of training steps.\n",
    "        num_cycles (:obj:`float`, `optional`, defaults to 0.5):\n",
    "        The number of waves in the cosine schedule (the defaults is to just decrease from the max value to 0\n",
    "        following a half-cosine).\n",
    "        last_epoch (:obj:`int`, `optional`, defaults to -1):\n",
    "        The index of the last epoch when resuming training.\n",
    "\n",
    "    Return:\n",
    "        :obj:`torch.optim.lr_scheduler.LambdaLR` with the appropriate schedule.\n",
    "    \"\"\"\n",
    "    def lr_lambda(current_step):\n",
    "        # Warmup\n",
    "        if current_step < num_warmup_steps:\n",
    "            return float(current_step) / float(max(1, num_warmup_steps))\n",
    "        # decadence\n",
    "        progress = float(current_step - num_warmup_steps) / float(\n",
    "            max(1, num_training_steps - num_warmup_steps)\n",
    "        )\n",
    "        return max(\n",
    "            0.0, 0.5 * (1.0 + math.cos(math.pi * float(num_cycles) * 2.0 * progress))\n",
    "        )\n",
    "\n",
    "    return LambdaLR(optimizer, lr_lambda, last_epoch)"
   ]
  },
  {
   "cell_type": "markdown",
   "metadata": {
    "id": "-LN2XkteM_uH"
   },
   "source": [
    "# Model Function\n",
    "- Model forward function."
   ]
  },
  {
   "cell_type": "code",
   "execution_count": 8,
   "metadata": {
    "id": "N-rr8529JMz0"
   },
   "outputs": [],
   "source": [
    "import torch\n",
    "\n",
    "\n",
    "def model_fn(batch, model, criterion, device):\n",
    "\t\"\"\"Forward a batch through the model.\"\"\"\n",
    "\n",
    "\tmels, labels = batch\n",
    "\tmels = mels.to(device)\n",
    "\tlabels = labels.to(device)\n",
    "\n",
    "\touts = model(mels)\n",
    "\n",
    "\tloss = criterion(outs, labels)\n",
    "\n",
    "\t# Get the speaker id with highest probability.\n",
    "\tpreds = outs.argmax(1)\n",
    "\t# Compute accuracy.\n",
    "\taccuracy = torch.mean((preds == labels).float())\n",
    "\n",
    "\treturn loss, accuracy"
   ]
  },
  {
   "cell_type": "markdown",
   "metadata": {
    "id": "cwM_xyOtNCI2"
   },
   "source": [
    "# Validate\n",
    "- Calculate accuracy of the validation set."
   ]
  },
  {
   "cell_type": "code",
   "execution_count": 9,
   "metadata": {
    "id": "YAiv6kpdJRTJ"
   },
   "outputs": [],
   "source": [
    "from tqdm.notebook import tqdm\n",
    "import torch\n",
    "\n",
    "\n",
    "def valid(dataloader, model, criterion, device): \n",
    "    \"\"\"Validate on validation set.\"\"\"\n",
    "\n",
    "    model.eval()\n",
    "    running_loss = 0.0\n",
    "    running_accuracy = 0.0\n",
    "    pbar = tqdm(total=len(dataloader.dataset), ncols=0, desc=\"Valid\", unit=\" uttr\")\n",
    "\n",
    "    for i, batch in enumerate(dataloader):\n",
    "        with torch.no_grad():\n",
    "            loss, accuracy = model_fn(batch, model, criterion, device)\n",
    "            running_loss += loss.item()\n",
    "            running_accuracy += accuracy.item()\n",
    "\n",
    "        pbar.update(dataloader.batch_size)\n",
    "        pbar.set_postfix(\n",
    "            loss=f\"{running_loss / (i+1):.2f}\",\n",
    "            accuracy=f\"{running_accuracy / (i+1):.2f}\",\n",
    "        )\n",
    "\n",
    "    pbar.close()\n",
    "    model.train()\n",
    "\n",
    "    return running_accuracy / len(dataloader)"
   ]
  },
  {
   "cell_type": "markdown",
   "metadata": {
    "id": "g6ne9G-eNEdG"
   },
   "source": [
    "# Main function"
   ]
  },
  {
   "cell_type": "code",
   "execution_count": 10,
   "metadata": {
    "colab": {
     "base_uri": "https://localhost:8080/"
    },
    "id": "Usv9s-CuJSG7",
    "outputId": "f4f6a983-3559-4f36-efae-402bbf790473",
    "tags": []
   },
   "outputs": [
    {
     "name": "stdout",
     "output_type": "stream",
     "text": [
      "[Info]: Use cuda now!\n",
      "[Info]: Finish loading data!\n",
      "[Info]: Finish creating model!\n"
     ]
    },
    {
     "name": "stderr",
     "output_type": "stream",
     "text": [
      "Train: 100% 2000/2000 [00:23<00:00, 86.36 step/s, accuracy=0.28, loss=3.41, step=2000]\n",
      "Valid: 100% 5664/5667 [00:00<00:00, 7162.54 uttr/s, accuracy=0.16, loss=4.01]\n",
      "Train: 100% 2000/2000 [00:22<00:00, 88.81 step/s, accuracy=0.25, loss=3.61, step=4000]\n",
      "Valid: 100% 5664/5667 [00:00<00:00, 7214.80 uttr/s, accuracy=0.28, loss=3.29]\n",
      "Train: 100% 2000/2000 [00:22<00:00, 88.81 step/s, accuracy=0.50, loss=2.59, step=6000]\n",
      "Valid: 100% 5664/5667 [00:00<00:00, 7292.91 uttr/s, accuracy=0.37, loss=2.83]\n",
      "Train: 100% 2000/2000 [00:22<00:00, 88.43 step/s, accuracy=0.53, loss=1.88, step=8000]\n",
      "Valid: 100% 5664/5667 [00:00<00:00, 7245.57 uttr/s, accuracy=0.41, loss=2.65]\n",
      "Train: 100% 2000/2000 [00:22<00:00, 88.80 step/s, accuracy=0.38, loss=2.22, step=1e+4]\n",
      "Valid: 100% 5664/5667 [00:00<00:00, 7332.39 uttr/s, accuracy=0.45, loss=2.44]\n",
      "Train:   1% 18/2000 [00:00<00:23, 84.34 step/s, accuracy=0.53, loss=1.55, step=1e+4]"
     ]
    },
    {
     "name": "stdout",
     "output_type": "stream",
     "text": [
      "Step 10000, best model saved. (accuracy=0.4454)\n"
     ]
    },
    {
     "name": "stderr",
     "output_type": "stream",
     "text": [
      "Train: 100% 2000/2000 [00:22<00:00, 88.77 step/s, accuracy=0.62, loss=1.43, step=12000]\n",
      "Valid: 100% 5664/5667 [00:00<00:00, 7225.56 uttr/s, accuracy=0.48, loss=2.32]\n",
      "Train: 100% 2000/2000 [00:22<00:00, 88.87 step/s, accuracy=0.41, loss=2.45, step=14000]\n",
      "Valid: 100% 5664/5667 [00:00<00:00, 7237.85 uttr/s, accuracy=0.49, loss=2.22]\n",
      "Train: 100% 2000/2000 [00:22<00:00, 88.34 step/s, accuracy=0.62, loss=1.92, step=16000]\n",
      "Valid: 100% 5664/5667 [00:00<00:00, 7286.52 uttr/s, accuracy=0.53, loss=2.07]\n",
      "Train: 100% 2000/2000 [00:22<00:00, 88.76 step/s, accuracy=0.59, loss=1.91, step=18000]\n",
      "Valid: 100% 5664/5667 [00:00<00:00, 7193.37 uttr/s, accuracy=0.55, loss=2.01]\n",
      "Train: 100% 2000/2000 [00:22<00:00, 88.69 step/s, accuracy=0.56, loss=1.47, step=2e+4] \n",
      "Valid: 100% 5664/5667 [00:00<00:00, 7129.95 uttr/s, accuracy=0.56, loss=1.95]\n",
      "Train:   1% 18/2000 [00:00<00:23, 84.95 step/s, accuracy=0.56, loss=2.07, step=2e+4]"
     ]
    },
    {
     "name": "stdout",
     "output_type": "stream",
     "text": [
      "Step 20000, best model saved. (accuracy=0.5595)\n"
     ]
    },
    {
     "name": "stderr",
     "output_type": "stream",
     "text": [
      "Train: 100% 2000/2000 [00:22<00:00, 88.73 step/s, accuracy=0.56, loss=1.44, step=22000]\n",
      "Valid: 100% 5664/5667 [00:00<00:00, 7208.31 uttr/s, accuracy=0.57, loss=1.94]\n",
      "Train: 100% 2000/2000 [00:22<00:00, 88.29 step/s, accuracy=0.78, loss=0.93, step=24000]\n",
      "Valid: 100% 5664/5667 [00:00<00:00, 7253.03 uttr/s, accuracy=0.59, loss=1.83]\n",
      "Train: 100% 2000/2000 [00:22<00:00, 88.71 step/s, accuracy=0.75, loss=0.87, step=26000]\n",
      "Valid: 100% 5664/5667 [00:00<00:00, 7266.04 uttr/s, accuracy=0.61, loss=1.75]\n",
      "Train: 100% 2000/2000 [00:22<00:00, 88.68 step/s, accuracy=0.78, loss=0.91, step=28000]\n",
      "Valid: 100% 5664/5667 [00:00<00:00, 7248.82 uttr/s, accuracy=0.63, loss=1.68]\n",
      "Train: 100% 2000/2000 [00:22<00:00, 88.71 step/s, accuracy=0.56, loss=1.60, step=3e+4] \n",
      "Valid: 100% 5664/5667 [00:00<00:00, 7193.18 uttr/s, accuracy=0.63, loss=1.65]\n",
      "Train:   1% 18/2000 [00:00<00:22, 87.85 step/s, accuracy=0.84, loss=0.90, step=3e+4]"
     ]
    },
    {
     "name": "stdout",
     "output_type": "stream",
     "text": [
      "Step 30000, best model saved. (accuracy=0.6301)\n"
     ]
    },
    {
     "name": "stderr",
     "output_type": "stream",
     "text": [
      "Train: 100% 2000/2000 [00:22<00:00, 88.20 step/s, accuracy=0.72, loss=1.09, step=32000]\n",
      "Valid: 100% 5664/5667 [00:00<00:00, 7315.34 uttr/s, accuracy=0.64, loss=1.65]\n",
      "Train: 100% 2000/2000 [00:22<00:00, 88.73 step/s, accuracy=0.84, loss=0.67, step=34000]\n",
      "Valid: 100% 5664/5667 [00:00<00:00, 7201.57 uttr/s, accuracy=0.64, loss=1.65]\n",
      "Train: 100% 2000/2000 [00:22<00:00, 88.64 step/s, accuracy=0.91, loss=0.52, step=36000]\n",
      "Valid: 100% 5664/5667 [00:00<00:00, 7112.70 uttr/s, accuracy=0.66, loss=1.56]\n",
      "Train: 100% 2000/2000 [00:22<00:00, 88.70 step/s, accuracy=0.78, loss=0.92, step=38000]\n",
      "Valid: 100% 5664/5667 [00:00<00:00, 7288.34 uttr/s, accuracy=0.66, loss=1.54]\n",
      "Train: 100% 2000/2000 [00:22<00:00, 88.27 step/s, accuracy=0.84, loss=0.58, step=4e+4] \n",
      "Valid: 100% 5664/5667 [00:00<00:00, 7319.11 uttr/s, accuracy=0.67, loss=1.49]\n",
      "Train:   1% 18/2000 [00:00<00:23, 84.53 step/s, accuracy=0.81, loss=0.66, step=4e+4]"
     ]
    },
    {
     "name": "stdout",
     "output_type": "stream",
     "text": [
      "Step 40000, best model saved. (accuracy=0.6741)\n"
     ]
    },
    {
     "name": "stderr",
     "output_type": "stream",
     "text": [
      "Train: 100% 2000/2000 [00:22<00:00, 88.70 step/s, accuracy=0.91, loss=0.50, step=42000]\n",
      "Valid: 100% 5664/5667 [00:00<00:00, 7340.65 uttr/s, accuracy=0.68, loss=1.43]\n",
      "Train: 100% 2000/2000 [00:22<00:00, 88.74 step/s, accuracy=0.84, loss=0.48, step=44000]\n",
      "Valid: 100% 5664/5667 [00:00<00:00, 7154.72 uttr/s, accuracy=0.68, loss=1.43]\n",
      "Train: 100% 2000/2000 [00:22<00:00, 88.56 step/s, accuracy=0.72, loss=0.91, step=46000]\n",
      "Valid: 100% 5664/5667 [00:00<00:00, 7249.52 uttr/s, accuracy=0.69, loss=1.41]\n",
      "Train: 100% 2000/2000 [00:22<00:00, 88.24 step/s, accuracy=0.94, loss=0.64, step=48000]\n",
      "Valid: 100% 5664/5667 [00:00<00:00, 7250.19 uttr/s, accuracy=0.69, loss=1.43]\n",
      "Train: 100% 2000/2000 [00:22<00:00, 88.75 step/s, accuracy=0.88, loss=0.56, step=5e+4] \n",
      "Valid: 100% 5664/5667 [00:00<00:00, 7251.47 uttr/s, accuracy=0.71, loss=1.32]\n",
      "Train:   1% 18/2000 [00:00<00:23, 84.46 step/s, accuracy=0.94, loss=0.40, step=5e+4]"
     ]
    },
    {
     "name": "stdout",
     "output_type": "stream",
     "text": [
      "Step 50000, best model saved. (accuracy=0.7073)\n"
     ]
    },
    {
     "name": "stderr",
     "output_type": "stream",
     "text": [
      "Train: 100% 2000/2000 [00:22<00:00, 88.63 step/s, accuracy=0.91, loss=0.47, step=52000]\n",
      "Valid: 100% 5664/5667 [00:00<00:00, 7315.00 uttr/s, accuracy=0.70, loss=1.35]\n",
      "Train: 100% 2000/2000 [00:22<00:00, 88.66 step/s, accuracy=0.91, loss=0.44, step=54000]\n",
      "Valid: 100% 5664/5667 [00:00<00:00, 7166.67 uttr/s, accuracy=0.69, loss=1.38]\n",
      "Train: 100% 2000/2000 [00:22<00:00, 88.24 step/s, accuracy=0.91, loss=0.50, step=56000]\n",
      "Valid: 100% 5664/5667 [00:00<00:00, 7258.93 uttr/s, accuracy=0.71, loss=1.31]\n",
      "Train: 100% 2000/2000 [00:22<00:00, 88.75 step/s, accuracy=0.78, loss=0.64, step=58000]\n",
      "Valid: 100% 5664/5667 [00:00<00:00, 7316.11 uttr/s, accuracy=0.72, loss=1.28]\n",
      "Train: 100% 2000/2000 [00:22<00:00, 88.71 step/s, accuracy=0.91, loss=0.63, step=6e+4] \n",
      "Valid: 100% 5664/5667 [00:00<00:00, 7247.97 uttr/s, accuracy=0.72, loss=1.31]\n",
      "Train:   1% 18/2000 [00:00<00:23, 84.12 step/s, accuracy=0.84, loss=0.73, step=6e+4]"
     ]
    },
    {
     "name": "stdout",
     "output_type": "stream",
     "text": [
      "Step 60000, best model saved. (accuracy=0.7189)\n"
     ]
    },
    {
     "name": "stderr",
     "output_type": "stream",
     "text": [
      "Train: 100% 2000/2000 [00:22<00:00, 88.59 step/s, accuracy=0.88, loss=0.51, step=62000]\n",
      "Valid: 100% 5664/5667 [00:00<00:00, 7303.67 uttr/s, accuracy=0.72, loss=1.26]\n",
      "Train: 100% 2000/2000 [00:22<00:00, 88.11 step/s, accuracy=0.75, loss=0.92, step=64000]\n",
      "Valid: 100% 5664/5667 [00:00<00:00, 7168.24 uttr/s, accuracy=0.72, loss=1.26]\n",
      "Train: 100% 2000/2000 [00:22<00:00, 88.75 step/s, accuracy=0.91, loss=0.45, step=66000]\n",
      "Valid: 100% 5664/5667 [00:00<00:00, 7271.37 uttr/s, accuracy=0.72, loss=1.25]\n",
      "Train: 100% 2000/2000 [00:22<00:00, 88.69 step/s, accuracy=0.91, loss=0.41, step=68000]\n",
      "Valid: 100% 5664/5667 [00:00<00:00, 7350.55 uttr/s, accuracy=0.72, loss=1.29]\n",
      "Train: 100% 2000/2000 [00:22<00:00, 88.58 step/s, accuracy=0.91, loss=0.28, step=7e+4] \n",
      "Valid: 100% 5664/5667 [00:00<00:00, 7313.60 uttr/s, accuracy=0.72, loss=1.28]\n",
      "Train:   0% 0/2000 [00:00<?, ? step/s]\n"
     ]
    },
    {
     "name": "stdout",
     "output_type": "stream",
     "text": [
      "Step 70000, best model saved. (accuracy=0.7244)\n"
     ]
    }
   ],
   "source": [
    "from tqdm import tqdm\n",
    "\n",
    "import torch\n",
    "import torch.nn as nn\n",
    "from torch.optim import AdamW\n",
    "from torch.utils.data import DataLoader, random_split\n",
    "\n",
    "from torch.utils.tensorboard import SummaryWriter\n",
    "\n",
    "def parse_args():\n",
    "    \"\"\"arguments\"\"\"\n",
    "    config = {\n",
    "        \"data_dir\": \"./Dataset\",\n",
    "        \"save_path\": \"model.ckpt\",\n",
    "        \"batch_size\": 32,\n",
    "        \"n_workers\": 8,\n",
    "        \"valid_steps\": 2000,\n",
    "        \"warmup_steps\": 1000,\n",
    "        \"save_steps\": 10000,\n",
    "        \"total_steps\": 70000,\n",
    "    }\n",
    "\n",
    "    return config\n",
    "\n",
    "\n",
    "def main(\n",
    "    data_dir,\n",
    "    save_path,\n",
    "    batch_size,\n",
    "    n_workers,\n",
    "    valid_steps,\n",
    "    warmup_steps,\n",
    "    total_steps,\n",
    "    save_steps,\n",
    "):\n",
    "    \"\"\"Main function.\"\"\"\n",
    "    device = torch.device(\"cuda\" if torch.cuda.is_available() else \"cpu\")\n",
    "    print(f\"[Info]: Use {device} now!\")\n",
    "\n",
    "    train_loader, valid_loader, speaker_num = get_dataloader(data_dir, batch_size, n_workers)\n",
    "    train_iterator = iter(train_loader)\n",
    "    print(f\"[Info]: Finish loading data!\",flush = True)\n",
    "\n",
    "    model = Classifier(n_spks=speaker_num).to(device)\n",
    "    criterion = nn.CrossEntropyLoss()\n",
    "    optimizer = AdamW(model.parameters(), lr=1e-3)\n",
    "    scheduler = get_cosine_schedule_with_warmup(optimizer, warmup_steps, total_steps)\n",
    "    print(f\"[Info]: Finish creating model!\",flush = True)\n",
    "\n",
    "    best_accuracy = -1.0\n",
    "    best_state_dict = None\n",
    "\n",
    "    writer = SummaryWriter()\n",
    "    pbar = tqdm(total=valid_steps, ncols=0, desc=\"Train\", unit=\" step\")\n",
    "\n",
    "    for step in range(total_steps):\n",
    "        # Get data\n",
    "        try:\n",
    "            batch = next(train_iterator)\n",
    "        except StopIteration:\n",
    "            train_iterator = iter(train_loader)\n",
    "            batch = next(train_iterator)\n",
    "\n",
    "        loss, accuracy = model_fn(batch, model, criterion, device)\n",
    "        batch_loss = loss.item()\n",
    "        batch_accuracy = accuracy.item()\n",
    "\n",
    "        # Updata model\n",
    "        loss.backward()\n",
    "        optimizer.step()\n",
    "        scheduler.step()\n",
    "        optimizer.zero_grad()\n",
    "\n",
    "        # Log\n",
    "        pbar.update()\n",
    "        pbar.set_postfix(\n",
    "            loss=f\"{batch_loss:.2f}\",\n",
    "            accuracy=f\"{batch_accuracy:.2f}\",\n",
    "            step=step + 1,\n",
    "        )\n",
    "\n",
    "        # Do validation\n",
    "        if (step + 1) % valid_steps == 0:\n",
    "            pbar.close()\n",
    "\n",
    "            valid_accuracy = valid(valid_loader, model, criterion, device)\n",
    "\n",
    "            # keep the best model\n",
    "            if valid_accuracy > best_accuracy:\n",
    "                best_accuracy = valid_accuracy\n",
    "                best_state_dict = model.state_dict()\n",
    "\n",
    "            pbar = tqdm(total=valid_steps, ncols=0, desc=\"Train\", unit=\" step\")\n",
    "            writer.add_scalar('Acc/train', batch_accuracy, step)\n",
    "            writer.add_scalar('Acc/valid', valid_accuracy, step)\n",
    "            writer.add_scalar('lr', optimizer.state_dict()['param_groups'][0]['lr'], step)\n",
    "\n",
    "        # Save the best model so far.\n",
    "        if (step + 1) % save_steps == 0 and best_state_dict is not None:\n",
    "            torch.save(best_state_dict, save_path)\n",
    "            pbar.write(f\"Step {step + 1}, best model saved. (accuracy={best_accuracy:.4f})\")\n",
    "\n",
    "    pbar.close()\n",
    "\n",
    "\n",
    "if __name__ == \"__main__\":\n",
    "    main(**parse_args())"
   ]
  },
  {
   "cell_type": "markdown",
   "metadata": {
    "id": "NLatBYAhNNMx"
   },
   "source": [
    "# Inference\n",
    "\n",
    "## Dataset of inference"
   ]
  },
  {
   "cell_type": "code",
   "execution_count": 11,
   "metadata": {
    "id": "efS4pCmAJXJH",
    "tags": []
   },
   "outputs": [],
   "source": [
    "import os\n",
    "import json\n",
    "import torch\n",
    "from pathlib import Path\n",
    "from torch.utils.data import Dataset\n",
    "\n",
    "\n",
    "class InferenceDataset(Dataset):\n",
    "    def __init__(self, data_dir):\n",
    "        testdata_path = Path(data_dir) / \"testdata.json\"\n",
    "        metadata = json.load(testdata_path.open())\n",
    "        self.data_dir = data_dir\n",
    "        self.data = metadata[\"utterances\"]\n",
    "\n",
    "    def __len__(self):\n",
    "        return len(self.data)\n",
    "\n",
    "    def __getitem__(self, index):\n",
    "        utterance = self.data[index]\n",
    "        feat_path = utterance[\"feature_path\"]\n",
    "        mel = torch.load(os.path.join(self.data_dir, feat_path))\n",
    "\n",
    "        return feat_path, mel\n",
    "\n",
    "\n",
    "def inference_collate_batch(batch):\n",
    "    \"\"\"Collate a batch of data.\"\"\"\n",
    "    feat_paths, mels = zip(*batch)\n",
    "\n",
    "    return feat_paths, torch.stack(mels)"
   ]
  },
  {
   "cell_type": "markdown",
   "metadata": {
    "id": "tl0WnYwxNK_S"
   },
   "source": [
    "## Main funcrion of Inference"
   ]
  },
  {
   "cell_type": "code",
   "execution_count": 12,
   "metadata": {
    "colab": {
     "base_uri": "https://localhost:8080/",
     "height": 103,
     "referenced_widgets": [
      "6786c2b0e2614ad389620246cb2178f2",
      "0d592098920140dab61aac5410568c36",
      "da681e3cc353420cb142d56df0fce231",
      "401ae722b95c4ff59b836422dbe71edc",
      "4efbfb7c7cb54276862e5321209d57fa",
      "f6dcb3ec9c624171966bb889808dbcb3",
      "100abf072991474abfcee871d2b83f37",
      "decc12da6f5742ec8b7ec7789ee434ab",
      "0117ac88c98440b29ab1f452107cbe1a",
      "3d64942a0eaa409a93df049bb594c062",
      "8c8721e504cf434eb9e263fb9983969a"
     ]
    },
    "id": "i8SAbuXEJb2A",
    "outputId": "3808f409-19c9-426c-dc15-1b88b0c21645",
    "tags": []
   },
   "outputs": [
    {
     "name": "stdout",
     "output_type": "stream",
     "text": [
      "[Info]: Use cuda now!\n",
      "[Info]: Finish loading data!\n",
      "[Info]: Finish creating model!\n"
     ]
    },
    {
     "data": {
      "application/vnd.jupyter.widget-view+json": {
       "model_id": "fd5565b11c5a43ea85c4380c56de27f4",
       "version_major": 2,
       "version_minor": 0
      },
      "text/plain": [
       "  0%|          | 0/8000 [00:00<?, ?it/s]"
      ]
     },
     "metadata": {},
     "output_type": "display_data"
    }
   ],
   "source": [
    "import json\n",
    "import csv\n",
    "from pathlib import Path\n",
    "from tqdm.notebook import tqdm\n",
    "\n",
    "import torch\n",
    "from torch.utils.data import DataLoader\n",
    "\n",
    "def parse_args():\n",
    "    \"\"\"arguments\"\"\"\n",
    "    config = {\n",
    "        \"data_dir\": \"./Dataset\",\n",
    "        \"model_path\": \"./model.ckpt\",\n",
    "        \"output_path\": \"./output.csv\",\n",
    "    }\n",
    "\n",
    "    return config\n",
    "\n",
    "\n",
    "def main(\n",
    "    data_dir,\n",
    "    model_path,\n",
    "    output_path,\n",
    "):\n",
    "    \"\"\"Main function.\"\"\"\n",
    "    device = torch.device(\"cuda\" if torch.cuda.is_available() else \"cpu\")\n",
    "    print(f\"[Info]: Use {device} now!\")\n",
    "\n",
    "    mapping_path = Path(data_dir) / \"mapping.json\"\n",
    "    mapping = json.load(mapping_path.open())\n",
    "\n",
    "    dataset = InferenceDataset(data_dir)\n",
    "    dataloader = DataLoader(\n",
    "        dataset,\n",
    "        batch_size=1,\n",
    "        shuffle=False,\n",
    "        drop_last=False,\n",
    "        num_workers=8,\n",
    "        collate_fn=inference_collate_batch,\n",
    "    )\n",
    "    print(f\"[Info]: Finish loading data!\",flush = True)\n",
    "\n",
    "    speaker_num = len(mapping[\"id2speaker\"])\n",
    "    model = Classifier(n_spks=speaker_num).to(device)\n",
    "    model.load_state_dict(torch.load(model_path))\n",
    "    model.eval()\n",
    "    print(f\"[Info]: Finish creating model!\",flush = True)\n",
    "\n",
    "    results = [[\"Id\", \"Category\"]]\n",
    "    for feat_paths, mels in tqdm(dataloader):\n",
    "        with torch.no_grad():\n",
    "            mels = mels.to(device)\n",
    "            outs = model(mels)\n",
    "            preds = outs.argmax(1).cpu().numpy()\n",
    "            for feat_path, pred in zip(feat_paths, preds):\n",
    "                results.append([feat_path, mapping[\"id2speaker\"][str(pred)]])\n",
    "\n",
    "    with open(output_path, 'w', newline='') as csvfile:\n",
    "        writer = csv.writer(csvfile)\n",
    "        writer.writerows(results)\n",
    "\n",
    "\n",
    "if __name__ == \"__main__\":\n",
    "    main(**parse_args())"
   ]
  },
  {
   "cell_type": "code",
   "execution_count": null,
   "metadata": {},
   "outputs": [],
   "source": []
  }
 ],
 "metadata": {
  "accelerator": "GPU",
  "colab": {
   "provenance": []
  },
  "gpuClass": "standard",
  "kernelspec": {
   "display_name": "DL",
   "language": "python",
   "name": "dl"
  },
  "language_info": {
   "codemirror_mode": {
    "name": "ipython",
    "version": 3
   },
   "file_extension": ".py",
   "mimetype": "text/x-python",
   "name": "python",
   "nbconvert_exporter": "python",
   "pygments_lexer": "ipython3",
   "version": "3.9.16"
  },
  "widgets": {
   "application/vnd.jupyter.widget-state+json": {
    "0117ac88c98440b29ab1f452107cbe1a": {
     "model_module": "@jupyter-widgets/controls",
     "model_module_version": "1.5.0",
     "model_name": "ProgressStyleModel",
     "state": {
      "_model_module": "@jupyter-widgets/controls",
      "_model_module_version": "1.5.0",
      "_model_name": "ProgressStyleModel",
      "_view_count": null,
      "_view_module": "@jupyter-widgets/base",
      "_view_module_version": "1.2.0",
      "_view_name": "StyleView",
      "bar_color": null,
      "description_width": ""
     }
    },
    "0d592098920140dab61aac5410568c36": {
     "model_module": "@jupyter-widgets/controls",
     "model_module_version": "1.5.0",
     "model_name": "HTMLModel",
     "state": {
      "_dom_classes": [],
      "_model_module": "@jupyter-widgets/controls",
      "_model_module_version": "1.5.0",
      "_model_name": "HTMLModel",
      "_view_count": null,
      "_view_module": "@jupyter-widgets/controls",
      "_view_module_version": "1.5.0",
      "_view_name": "HTMLView",
      "description": "",
      "description_tooltip": null,
      "layout": "IPY_MODEL_f6dcb3ec9c624171966bb889808dbcb3",
      "placeholder": "​",
      "style": "IPY_MODEL_100abf072991474abfcee871d2b83f37",
      "value": "100%"
     }
    },
    "100abf072991474abfcee871d2b83f37": {
     "model_module": "@jupyter-widgets/controls",
     "model_module_version": "1.5.0",
     "model_name": "DescriptionStyleModel",
     "state": {
      "_model_module": "@jupyter-widgets/controls",
      "_model_module_version": "1.5.0",
      "_model_name": "DescriptionStyleModel",
      "_view_count": null,
      "_view_module": "@jupyter-widgets/base",
      "_view_module_version": "1.2.0",
      "_view_name": "StyleView",
      "description_width": ""
     }
    },
    "3d64942a0eaa409a93df049bb594c062": {
     "model_module": "@jupyter-widgets/base",
     "model_module_version": "1.2.0",
     "model_name": "LayoutModel",
     "state": {
      "_model_module": "@jupyter-widgets/base",
      "_model_module_version": "1.2.0",
      "_model_name": "LayoutModel",
      "_view_count": null,
      "_view_module": "@jupyter-widgets/base",
      "_view_module_version": "1.2.0",
      "_view_name": "LayoutView",
      "align_content": null,
      "align_items": null,
      "align_self": null,
      "border": null,
      "bottom": null,
      "display": null,
      "flex": null,
      "flex_flow": null,
      "grid_area": null,
      "grid_auto_columns": null,
      "grid_auto_flow": null,
      "grid_auto_rows": null,
      "grid_column": null,
      "grid_gap": null,
      "grid_row": null,
      "grid_template_areas": null,
      "grid_template_columns": null,
      "grid_template_rows": null,
      "height": null,
      "justify_content": null,
      "justify_items": null,
      "left": null,
      "margin": null,
      "max_height": null,
      "max_width": null,
      "min_height": null,
      "min_width": null,
      "object_fit": null,
      "object_position": null,
      "order": null,
      "overflow": null,
      "overflow_x": null,
      "overflow_y": null,
      "padding": null,
      "right": null,
      "top": null,
      "visibility": null,
      "width": null
     }
    },
    "401ae722b95c4ff59b836422dbe71edc": {
     "model_module": "@jupyter-widgets/controls",
     "model_module_version": "1.5.0",
     "model_name": "HTMLModel",
     "state": {
      "_dom_classes": [],
      "_model_module": "@jupyter-widgets/controls",
      "_model_module_version": "1.5.0",
      "_model_name": "HTMLModel",
      "_view_count": null,
      "_view_module": "@jupyter-widgets/controls",
      "_view_module_version": "1.5.0",
      "_view_name": "HTMLView",
      "description": "",
      "description_tooltip": null,
      "layout": "IPY_MODEL_3d64942a0eaa409a93df049bb594c062",
      "placeholder": "​",
      "style": "IPY_MODEL_8c8721e504cf434eb9e263fb9983969a",
      "value": " 8000/8000 [00:33&lt;00:00, 256.07it/s]"
     }
    },
    "4efbfb7c7cb54276862e5321209d57fa": {
     "model_module": "@jupyter-widgets/base",
     "model_module_version": "1.2.0",
     "model_name": "LayoutModel",
     "state": {
      "_model_module": "@jupyter-widgets/base",
      "_model_module_version": "1.2.0",
      "_model_name": "LayoutModel",
      "_view_count": null,
      "_view_module": "@jupyter-widgets/base",
      "_view_module_version": "1.2.0",
      "_view_name": "LayoutView",
      "align_content": null,
      "align_items": null,
      "align_self": null,
      "border": null,
      "bottom": null,
      "display": null,
      "flex": null,
      "flex_flow": null,
      "grid_area": null,
      "grid_auto_columns": null,
      "grid_auto_flow": null,
      "grid_auto_rows": null,
      "grid_column": null,
      "grid_gap": null,
      "grid_row": null,
      "grid_template_areas": null,
      "grid_template_columns": null,
      "grid_template_rows": null,
      "height": null,
      "justify_content": null,
      "justify_items": null,
      "left": null,
      "margin": null,
      "max_height": null,
      "max_width": null,
      "min_height": null,
      "min_width": null,
      "object_fit": null,
      "object_position": null,
      "order": null,
      "overflow": null,
      "overflow_x": null,
      "overflow_y": null,
      "padding": null,
      "right": null,
      "top": null,
      "visibility": null,
      "width": null
     }
    },
    "6786c2b0e2614ad389620246cb2178f2": {
     "model_module": "@jupyter-widgets/controls",
     "model_module_version": "1.5.0",
     "model_name": "HBoxModel",
     "state": {
      "_dom_classes": [],
      "_model_module": "@jupyter-widgets/controls",
      "_model_module_version": "1.5.0",
      "_model_name": "HBoxModel",
      "_view_count": null,
      "_view_module": "@jupyter-widgets/controls",
      "_view_module_version": "1.5.0",
      "_view_name": "HBoxView",
      "box_style": "",
      "children": [
       "IPY_MODEL_0d592098920140dab61aac5410568c36",
       "IPY_MODEL_da681e3cc353420cb142d56df0fce231",
       "IPY_MODEL_401ae722b95c4ff59b836422dbe71edc"
      ],
      "layout": "IPY_MODEL_4efbfb7c7cb54276862e5321209d57fa"
     }
    },
    "8c8721e504cf434eb9e263fb9983969a": {
     "model_module": "@jupyter-widgets/controls",
     "model_module_version": "1.5.0",
     "model_name": "DescriptionStyleModel",
     "state": {
      "_model_module": "@jupyter-widgets/controls",
      "_model_module_version": "1.5.0",
      "_model_name": "DescriptionStyleModel",
      "_view_count": null,
      "_view_module": "@jupyter-widgets/base",
      "_view_module_version": "1.2.0",
      "_view_name": "StyleView",
      "description_width": ""
     }
    },
    "da681e3cc353420cb142d56df0fce231": {
     "model_module": "@jupyter-widgets/controls",
     "model_module_version": "1.5.0",
     "model_name": "FloatProgressModel",
     "state": {
      "_dom_classes": [],
      "_model_module": "@jupyter-widgets/controls",
      "_model_module_version": "1.5.0",
      "_model_name": "FloatProgressModel",
      "_view_count": null,
      "_view_module": "@jupyter-widgets/controls",
      "_view_module_version": "1.5.0",
      "_view_name": "ProgressView",
      "bar_style": "success",
      "description": "",
      "description_tooltip": null,
      "layout": "IPY_MODEL_decc12da6f5742ec8b7ec7789ee434ab",
      "max": 8000,
      "min": 0,
      "orientation": "horizontal",
      "style": "IPY_MODEL_0117ac88c98440b29ab1f452107cbe1a",
      "value": 8000
     }
    },
    "decc12da6f5742ec8b7ec7789ee434ab": {
     "model_module": "@jupyter-widgets/base",
     "model_module_version": "1.2.0",
     "model_name": "LayoutModel",
     "state": {
      "_model_module": "@jupyter-widgets/base",
      "_model_module_version": "1.2.0",
      "_model_name": "LayoutModel",
      "_view_count": null,
      "_view_module": "@jupyter-widgets/base",
      "_view_module_version": "1.2.0",
      "_view_name": "LayoutView",
      "align_content": null,
      "align_items": null,
      "align_self": null,
      "border": null,
      "bottom": null,
      "display": null,
      "flex": null,
      "flex_flow": null,
      "grid_area": null,
      "grid_auto_columns": null,
      "grid_auto_flow": null,
      "grid_auto_rows": null,
      "grid_column": null,
      "grid_gap": null,
      "grid_row": null,
      "grid_template_areas": null,
      "grid_template_columns": null,
      "grid_template_rows": null,
      "height": null,
      "justify_content": null,
      "justify_items": null,
      "left": null,
      "margin": null,
      "max_height": null,
      "max_width": null,
      "min_height": null,
      "min_width": null,
      "object_fit": null,
      "object_position": null,
      "order": null,
      "overflow": null,
      "overflow_x": null,
      "overflow_y": null,
      "padding": null,
      "right": null,
      "top": null,
      "visibility": null,
      "width": null
     }
    },
    "f6dcb3ec9c624171966bb889808dbcb3": {
     "model_module": "@jupyter-widgets/base",
     "model_module_version": "1.2.0",
     "model_name": "LayoutModel",
     "state": {
      "_model_module": "@jupyter-widgets/base",
      "_model_module_version": "1.2.0",
      "_model_name": "LayoutModel",
      "_view_count": null,
      "_view_module": "@jupyter-widgets/base",
      "_view_module_version": "1.2.0",
      "_view_name": "LayoutView",
      "align_content": null,
      "align_items": null,
      "align_self": null,
      "border": null,
      "bottom": null,
      "display": null,
      "flex": null,
      "flex_flow": null,
      "grid_area": null,
      "grid_auto_columns": null,
      "grid_auto_flow": null,
      "grid_auto_rows": null,
      "grid_column": null,
      "grid_gap": null,
      "grid_row": null,
      "grid_template_areas": null,
      "grid_template_columns": null,
      "grid_template_rows": null,
      "height": null,
      "justify_content": null,
      "justify_items": null,
      "left": null,
      "margin": null,
      "max_height": null,
      "max_width": null,
      "min_height": null,
      "min_width": null,
      "object_fit": null,
      "object_position": null,
      "order": null,
      "overflow": null,
      "overflow_x": null,
      "overflow_y": null,
      "padding": null,
      "right": null,
      "top": null,
      "visibility": null,
      "width": null
     }
    }
   }
  }
 },
 "nbformat": 4,
 "nbformat_minor": 4
}
