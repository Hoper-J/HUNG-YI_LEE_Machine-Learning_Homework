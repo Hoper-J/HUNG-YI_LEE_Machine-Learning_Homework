{
 "cells": [
  {
   "cell_type": "markdown",
   "metadata": {},
   "source": [
    "# Medium Baseline\n",
    "你可以通过搜索 \"Medium\" 来检查是哪些地方做了改变 (Ctrl + F 或者 Command + F)"
   ]
  },
  {
   "cell_type": "markdown",
   "metadata": {
    "id": "AFEKWoh3p1Mv"
   },
   "source": [
    "# 作业描述\n",
    "- 英译中(繁体)\n",
    "  - 输入: an English sentence         (e.g.\t\ttom is a student .)\n",
    "  - 输出: the Chinese translation  (e.g. \t\t湯姆 是 個 學生 。)\n",
    "\n",
    "- TODO\n",
    "    - 训练一个 seq2seq 的简单的 RNN 模型来完成翻译\n",
    "    - 转变模型架构为 transformer，提升性能\n",
    "    - 使用 Back-translation 进一步提升性能"
   ]
  },
  {
   "cell_type": "code",
   "execution_count": 1,
   "metadata": {
    "colab": {
     "background_save": true
    },
    "id": "3Vf1Q79XPQ3D",
    "outputId": "29b944cd-90f2-47b4-901e-0f267baa2e30"
   },
   "outputs": [
    {
     "name": "stdout",
     "output_type": "stream",
     "text": [
      "Wed Nov 15 18:12:08 2023       \n",
      "+-----------------------------------------------------------------------------+\n",
      "| NVIDIA-SMI 525.89.02    Driver Version: 525.89.02    CUDA Version: 12.0     |\n",
      "|-------------------------------+----------------------+----------------------+\n",
      "| GPU  Name        Persistence-M| Bus-Id        Disp.A | Volatile Uncorr. ECC |\n",
      "| Fan  Temp  Perf  Pwr:Usage/Cap|         Memory-Usage | GPU-Util  Compute M. |\n",
      "|                               |                      |               MIG M. |\n",
      "|===============================+======================+======================|\n",
      "|   0  NVIDIA GeForce ...  Off  | 00000000:01:00.0  On |                  N/A |\n",
      "|  0%   28C    P8    20W / 170W |    367MiB / 12288MiB |     13%      Default |\n",
      "|                               |                      |                  N/A |\n",
      "+-------------------------------+----------------------+----------------------+\n",
      "                                                                               \n",
      "+-----------------------------------------------------------------------------+\n",
      "| Processes:                                                                  |\n",
      "|  GPU   GI   CI        PID   Type   Process name                  GPU Memory |\n",
      "|        ID   ID                                                   Usage      |\n",
      "|=============================================================================|\n",
      "|    0   N/A  N/A      1190      G   /usr/lib/xorg/Xorg                153MiB |\n",
      "|    0   N/A  N/A      1505      G   /usr/bin/gnome-shell               24MiB |\n",
      "|    0   N/A  N/A      1708      G   ...nlogin/bin/sunloginclient        6MiB |\n",
      "|    0   N/A  N/A     53123      G   /usr/lib/firefox/firefox          180MiB |\n",
      "+-----------------------------------------------------------------------------+\n"
     ]
    }
   ],
   "source": [
    "!nvidia-smi"
   ]
  },
  {
   "cell_type": "markdown",
   "metadata": {
    "id": "59neB_Sxp5Ub"
   },
   "source": [
    "# 下载和导入需要的包"
   ]
  },
  {
   "cell_type": "code",
   "execution_count": null,
   "metadata": {
    "id": "rRlFbfFRpZYT",
    "outputId": "c2e805a7-0964-4191-82d0-3466b6d0c10e"
   },
   "outputs": [],
   "source": [
    "!pip install 'torch>=1.6.0' editdistance matplotlib sacrebleu sacremoses sentencepiece tqdm wandb\n",
    "!pip install --upgrade jupyter ipywidgets"
   ]
  },
  {
   "cell_type": "code",
   "execution_count": null,
   "metadata": {
    "id": "fSksMTdmp-Wt",
    "outputId": "f54c747c-2b8f-4fb5-b87e-a293194d217d"
   },
   "outputs": [],
   "source": [
    "!git clone https://github.com/pytorch/fairseq.git\n",
    "!cd fairseq && git checkout 3f6ba43\n",
    "!pip install --upgrade ./fairseq/"
   ]
  },
  {
   "cell_type": "code",
   "execution_count": 4,
   "metadata": {
    "id": "uRLTiuIuqGNc",
    "outputId": "d23f6974-20ef-40eb-d0cb-11e8a0b48159",
    "tags": []
   },
   "outputs": [],
   "source": [
    "import sys\n",
    "import pdb\n",
    "import pprint\n",
    "import logging\n",
    "import os\n",
    "import random\n",
    "\n",
    "import torch\n",
    "import torch.nn as nn\n",
    "import torch.nn.functional as F\n",
    "from torch.utils import data\n",
    "import numpy as np\n",
    "import tqdm.auto as tqdm\n",
    "from pathlib import Path\n",
    "from argparse import Namespace\n",
    "from fairseq import utils\n",
    "\n",
    "import matplotlib.pyplot as plt"
   ]
  },
  {
   "cell_type": "markdown",
   "metadata": {
    "id": "0n07Za1XqJzA"
   },
   "source": [
    "# 固定随机数种子"
   ]
  },
  {
   "cell_type": "code",
   "execution_count": 5,
   "metadata": {
    "id": "xllxxyWxqI7s",
    "tags": []
   },
   "outputs": [],
   "source": [
    "seed = 33\n",
    "random.seed(seed)\n",
    "torch.manual_seed(seed)\n",
    "if torch.cuda.is_available():\n",
    "    torch.cuda.manual_seed(seed)\n",
    "    torch.cuda.manual_seed_all(seed)\n",
    "np.random.seed(seed)\n",
    "torch.backends.cudnn.benchmark = False\n",
    "torch.backends.cudnn.deterministic = True"
   ]
  },
  {
   "cell_type": "markdown",
   "metadata": {
    "id": "N5ORDJ-2qdYw"
   },
   "source": [
    "# 数据集\n",
    "\n",
    "## 英-中 对应的语料\n",
    "* TED2020\n",
    "    - 原始: 400,726 (句子)   \n",
    "    - 处理后: 394,052 (句子)\n",
    "    \n",
    "\n",
    "## 测试集\n",
    "- 大小: 4,000 (句子)\n",
    "- **没有提供中文的翻译。(.zh)文件是伪翻译，其中每一行是'。'**"
   ]
  },
  {
   "cell_type": "markdown",
   "metadata": {
    "id": "GQw2mY4Dqkzd"
   },
   "source": [
    "## 数据集下载"
   ]
  },
  {
   "cell_type": "code",
   "execution_count": 6,
   "metadata": {
    "id": "SXT42xQtqijD"
   },
   "outputs": [
    {
     "name": "stdout",
     "output_type": "stream",
     "text": [
      "raw.en\n",
      "raw.zh\n",
      "test.en\n",
      "test.zh\n"
     ]
    }
   ],
   "source": [
    "data_dir = './DATA/rawdata'\n",
    "dataset_name = 'ted2020'\n",
    "urls = (\n",
    "    \"https://github.com/figisiwirf/ml2023-hw5-dataset/releases/download/v1.0.1/ml2023.hw5.data.tgz\",\n",
    "    \"https://github.com/figisiwirf/ml2023-hw5-dataset/releases/download/v1.0.1/ml2023.hw5.test.tgz\"\n",
    ")\n",
    "file_names = (\n",
    "    'ted2020.tgz', # train & dev\n",
    "    'test.tgz', # test\n",
    ")\n",
    "prefix = Path(data_dir).absolute() / dataset_name\n",
    "\n",
    "prefix.mkdir(parents=True, exist_ok=True)\n",
    "for u, f in zip(urls, file_names):\n",
    "    path = prefix/f\n",
    "    if not path.exists():\n",
    "        !wget {u} -O {path}\n",
    "    if path.suffix == \".tgz\":\n",
    "        !tar -xvf {path} -C {prefix}\n",
    "    elif path.suffix == \".zip\":\n",
    "        !unzip -o {path} -d {prefix}\n",
    "!mv {prefix/'raw.en'} {prefix/'train_dev.raw.en'}\n",
    "!mv {prefix/'raw.zh'} {prefix/'train_dev.raw.zh'}\n",
    "!mv {prefix/'test.en'} {prefix/'test.raw.en'}\n",
    "!mv {prefix/'test.zh'} {prefix/'test.raw.zh'}"
   ]
  },
  {
   "cell_type": "markdown",
   "metadata": {
    "id": "YLkJwNiFrIwZ"
   },
   "source": [
    "## 语言"
   ]
  },
  {
   "cell_type": "code",
   "execution_count": 7,
   "metadata": {
    "id": "_uJYkCncrKJb"
   },
   "outputs": [],
   "source": [
    "src_lang = 'en'\n",
    "tgt_lang = 'zh'\n",
    "\n",
    "data_prefix = f'{prefix}/train_dev.raw'\n",
    "test_prefix = f'{prefix}/test.raw'"
   ]
  },
  {
   "cell_type": "code",
   "execution_count": 8,
   "metadata": {
    "id": "0t2CPt1brOT3"
   },
   "outputs": [
    {
     "name": "stdout",
     "output_type": "stream",
     "text": [
      "Thank you so much, Chris.\n",
      "And it's truly a great honor to have the opportunity to come to this stage twice; I'm extremely grateful.\n",
      "I have been blown away by this conference, and I want to thank all of you for the many nice comments about what I had to say the other night.\n",
      "And I say that sincerely, partly because I need that.\n",
      "Put yourselves in my position.\n",
      "非常謝謝你，克里斯。能有這個機會第二度踏上這個演講台\n",
      "真是一大榮幸。我非常感激。\n",
      "這個研討會給我留下了極為深刻的印象，我想感謝大家 對我之前演講的好評。\n",
      "我是由衷的想這麼說，有部份原因是因為 —— 我真的有需要!\n",
      "請你們設身處地為我想一想！\n"
     ]
    }
   ],
   "source": [
    "!head {data_prefix+'.'+src_lang} -n 5\n",
    "!head {data_prefix+'.'+tgt_lang} -n 5"
   ]
  },
  {
   "cell_type": "markdown",
   "metadata": {
    "id": "pRoE9UK7r1gY"
   },
   "source": [
    "## 预处理文件\n",
    "- strQ2B(): 将全角字符转变为半角字符\n",
    "- clean_s(): 清洗文本，将逗号/破折号/空格等字符删除\n",
    "- len_s(): 返回文本长度\n",
    "- clean_corpus: 使用上面的函数对指定的文本文件进行清洗"
   ]
  },
  {
   "cell_type": "code",
   "execution_count": 9,
   "metadata": {
    "id": "3tzFwtnFrle3"
   },
   "outputs": [],
   "source": [
    "import re\n",
    "\n",
    "def strQ2B(ustring):\n",
    "    \"\"\"Full width -> half width\"\"\"\n",
    "    # reference:https://ithelp.ithome.com.tw/articles/10233122\n",
    "    ss = []\n",
    "    for s in ustring:\n",
    "        rstring = \"\"\n",
    "        for uchar in s:\n",
    "            inside_code = ord(uchar)\n",
    "            if inside_code == 12288:  # Full width space: direct conversion\n",
    "                inside_code = 32\n",
    "            elif (inside_code >= 65281 and inside_code <= 65374):  # Full width chars (except space) conversion\n",
    "                inside_code -= 65248\n",
    "            rstring += chr(inside_code)\n",
    "        ss.append(rstring)\n",
    "    return ''.join(ss)\n",
    "\n",
    "def clean_s(s, lang):\n",
    "    if lang == 'en':\n",
    "        s = re.sub(r\"\\([^()]*\\)\", \"\", s) # remove ([text])\n",
    "        s = s.replace('-', '') # remove '-'\n",
    "        s = re.sub('([.,;!?()\\\"])', r' \\1 ', s) # keep punctuation\n",
    "    elif lang == 'zh':\n",
    "        s = strQ2B(s) # Q2B\n",
    "        s = re.sub(r\"\\([^()]*\\)\", \"\", s) # remove ([text])\n",
    "        s = s.replace(' ', '')\n",
    "        s = s.replace('—', '')\n",
    "        s = s.replace('“', '\"')\n",
    "        s = s.replace('”', '\"')\n",
    "        s = s.replace('_', '')\n",
    "        s = re.sub('([。,;!?()\\\"~「」])', r' \\1 ', s) # keep punctuation\n",
    "    s = ' '.join(s.strip().split())\n",
    "    return s\n",
    "\n",
    "def len_s(s, lang):\n",
    "    if lang == 'zh':\n",
    "        return len(s)\n",
    "    return len(s.split())\n",
    "\n",
    "def clean_corpus(prefix, l1, l2, ratio=9, max_len=1000, min_len=1):\n",
    "    if Path(f'{prefix}.clean.{l1}').exists() and Path(f'{prefix}.clean.{l2}').exists():\n",
    "        print(f'{prefix}.clean.{l1} & {l2} exists. skipping clean.')\n",
    "        return\n",
    "    with open(f'{prefix}.{l1}', 'r') as l1_in_f:\n",
    "        with open(f'{prefix}.{l2}', 'r') as l2_in_f:\n",
    "            with open(f'{prefix}.clean.{l1}', 'w') as l1_out_f:\n",
    "                with open(f'{prefix}.clean.{l2}', 'w') as l2_out_f:\n",
    "                    for s1 in l1_in_f:\n",
    "                        s1 = s1.strip()\n",
    "                        s2 = l2_in_f.readline().strip()\n",
    "                        s1 = clean_s(s1, l1)\n",
    "                        s2 = clean_s(s2, l2)\n",
    "                        s1_len = len_s(s1, l1)\n",
    "                        s2_len = len_s(s2, l2)\n",
    "                        if min_len > 0: # remove short sentence\n",
    "                            if s1_len < min_len or s2_len < min_len:\n",
    "                                continue\n",
    "                        if max_len > 0: # remove long sentence\n",
    "                            if s1_len > max_len or s2_len > max_len:\n",
    "                                continue\n",
    "                        if ratio > 0: # remove by ratio of length\n",
    "                            if s1_len/s2_len > ratio or s2_len/s1_len > ratio:\n",
    "                                continue\n",
    "                        print(s1, file=l1_out_f)\n",
    "                        print(s2, file=l2_out_f)"
   ]
  },
  {
   "cell_type": "code",
   "execution_count": 10,
   "metadata": {
    "id": "h_i8b1PRr9Nf"
   },
   "outputs": [
    {
     "name": "stdout",
     "output_type": "stream",
     "text": [
      "/home/hoperj/DeepLearning/HUNG-YI_LEE_Machine-Learning_Homework/HW05/zh/DATA/rawdata/ted2020/train_dev.raw.clean.en & zh exists. skipping clean.\n",
      "/home/hoperj/DeepLearning/HUNG-YI_LEE_Machine-Learning_Homework/HW05/zh/DATA/rawdata/ted2020/test.raw.clean.en & zh exists. skipping clean.\n"
     ]
    }
   ],
   "source": [
    "clean_corpus(data_prefix, src_lang, tgt_lang)\n",
    "clean_corpus(test_prefix, src_lang, tgt_lang, ratio=-1, min_len=-1, max_len=-1)"
   ]
  },
  {
   "cell_type": "code",
   "execution_count": 11,
   "metadata": {
    "id": "gjT3XCy9r_rj"
   },
   "outputs": [
    {
     "name": "stdout",
     "output_type": "stream",
     "text": [
      "Thank you so much , Chris .\n",
      "And it's truly a great honor to have the opportunity to come to this stage twice ; I'm extremely grateful .\n",
      "I have been blown away by this conference , and I want to thank all of you for the many nice comments about what I had to say the other night .\n",
      "And I say that sincerely , partly because I need that .\n",
      "Put yourselves in my position .\n",
      "非常謝謝你 , 克里斯 。 能有這個機會第二度踏上這個演講台\n",
      "真是一大榮幸 。 我非常感激 。\n",
      "這個研討會給我留下了極為深刻的印象 , 我想感謝大家對我之前演講的好評 。\n",
      "我是由衷的想這麼說 , 有部份原因是因為我真的有需要 !\n",
      "請你們設身處地為我想一想 !\n"
     ]
    }
   ],
   "source": [
    "!head {data_prefix+'.clean.'+src_lang} -n 5\n",
    "!head {data_prefix+'.clean.'+tgt_lang} -n 5"
   ]
  },
  {
   "cell_type": "markdown",
   "metadata": {
    "id": "nKb4u67-sT_Z"
   },
   "source": [
    "## 划分训练/验证集"
   ]
  },
  {
   "cell_type": "code",
   "execution_count": 12,
   "metadata": {
    "id": "AuFKeDz3sGHL"
   },
   "outputs": [],
   "source": [
    "valid_ratio = 0.01 # 3000～4000 就够用了\n",
    "train_ratio = 1 - valid_ratio"
   ]
  },
  {
   "cell_type": "code",
   "execution_count": 13,
   "metadata": {
    "id": "QR2NVldqsXyY"
   },
   "outputs": [
    {
     "name": "stdout",
     "output_type": "stream",
     "text": [
      "train/valid splits exists. skipping split.\n"
     ]
    }
   ],
   "source": [
    "if (prefix/f'train.clean.{src_lang}').exists() \\\n",
    "and (prefix/f'train.clean.{tgt_lang}').exists() \\\n",
    "and (prefix/f'valid.clean.{src_lang}').exists() \\\n",
    "and (prefix/f'valid.clean.{tgt_lang}').exists():\n",
    "    print(f'train/valid splits exists. skipping split.')\n",
    "else:\n",
    "    line_num = sum(1 for line in open(f'{data_prefix}.clean.{src_lang}'))\n",
    "    labels = list(range(line_num))\n",
    "    random.shuffle(labels)\n",
    "    for lang in [src_lang, tgt_lang]:\n",
    "        train_f = open(os.path.join(data_dir, dataset_name, f'train.clean.{lang}'), 'w')\n",
    "        valid_f = open(os.path.join(data_dir, dataset_name, f'valid.clean.{lang}'), 'w')\n",
    "        count = 0\n",
    "        for line in open(f'{data_prefix}.clean.{lang}', 'r'):\n",
    "            if labels[count]/line_num < train_ratio:\n",
    "                train_f.write(line)\n",
    "            else:\n",
    "                valid_f.write(line)\n",
    "            count += 1\n",
    "        train_f.close()\n",
    "        valid_f.close()"
   ]
  },
  {
   "cell_type": "markdown",
   "metadata": {
    "id": "n1rwQysTsdJq"
   },
   "source": [
    "## 子词单位\n",
    "不在词表中的单词（OOV）是机器翻译面临的主要问题。这个问题可以通过使用子词（subword）作为基本单位来缓解\n",
    "- 我们将使用 [sentencepiece](#kudo-richardson-2018-sentencepiece) 包\n",
    "- 选择 unigram 或者 byte-pair encoding (BPE) 算法"
   ]
  },
  {
   "cell_type": "code",
   "execution_count": 14,
   "metadata": {
    "id": "Ecwllsa7sZRA"
   },
   "outputs": [
    {
     "name": "stdout",
     "output_type": "stream",
     "text": [
      "/home/hoperj/DeepLearning/HUNG-YI_LEE_Machine-Learning_Homework/HW05/zh/DATA/rawdata/ted2020/spm8000.model exists. skipping spm_train.\n"
     ]
    }
   ],
   "source": [
    "import sentencepiece as spm\n",
    "vocab_size = 8000\n",
    "if (prefix/f'spm{vocab_size}.model').exists():\n",
    "    print(f'{prefix}/spm{vocab_size}.model exists. skipping spm_train.')\n",
    "else:\n",
    "    spm.SentencePieceTrainer.train(\n",
    "        input=','.join([f'{prefix}/train.clean.{src_lang}',\n",
    "                        f'{prefix}/valid.clean.{src_lang}',\n",
    "                        f'{prefix}/train.clean.{tgt_lang}',\n",
    "                        f'{prefix}/valid.clean.{tgt_lang}']),\n",
    "        model_prefix=prefix/f'spm{vocab_size}',\n",
    "        vocab_size=vocab_size,\n",
    "        character_coverage=1,\n",
    "        model_type='unigram', # 'bpe' works as well\n",
    "        input_sentence_size=1e6,\n",
    "        shuffle_input_sentence=True,\n",
    "        normalization_rule_name='nmt_nfkc_cf',\n",
    "    )"
   ]
  },
  {
   "cell_type": "code",
   "execution_count": 15,
   "metadata": {
    "id": "lQPRNldqse_V"
   },
   "outputs": [
    {
     "name": "stdout",
     "output_type": "stream",
     "text": [
      "/home/hoperj/DeepLearning/HUNG-YI_LEE_Machine-Learning_Homework/HW05/zh/DATA/rawdata/ted2020/train.en exists. skipping spm_encode.\n",
      "/home/hoperj/DeepLearning/HUNG-YI_LEE_Machine-Learning_Homework/HW05/zh/DATA/rawdata/ted2020/train.zh exists. skipping spm_encode.\n",
      "/home/hoperj/DeepLearning/HUNG-YI_LEE_Machine-Learning_Homework/HW05/zh/DATA/rawdata/ted2020/valid.en exists. skipping spm_encode.\n",
      "/home/hoperj/DeepLearning/HUNG-YI_LEE_Machine-Learning_Homework/HW05/zh/DATA/rawdata/ted2020/valid.zh exists. skipping spm_encode.\n"
     ]
    }
   ],
   "source": [
    "spm_model = spm.SentencePieceProcessor(model_file=str(prefix/f'spm{vocab_size}.model'))\n",
    "in_tag = {\n",
    "    'train': 'train.clean',\n",
    "    'valid': 'valid.clean',\n",
    "    'test': 'test.raw.clean',\n",
    "}\n",
    "for split in ['train', 'valid', 'test']:\n",
    "    for lang in [src_lang, tgt_lang]:\n",
    "        out_path = prefix/f'{split}.{lang}'\n",
    "        if out_path.exists():\n",
    "            print(f\"{out_path} exists. skipping spm_encode.\")\n",
    "        else:\n",
    "            with open(prefix/f'{split}.{lang}', 'w') as out_f:\n",
    "                with open(prefix/f'{in_tag[split]}.{lang}', 'r') as in_f:\n",
    "                    for line in in_f:\n",
    "                        line = line.strip()\n",
    "                        tok = spm_model.encode(line, out_type=str)\n",
    "                        print(' '.join(tok), file=out_f)"
   ]
  },
  {
   "cell_type": "code",
   "execution_count": 16,
   "metadata": {
    "id": "4j6lXHjAsjXa"
   },
   "outputs": [
    {
     "name": "stdout",
     "output_type": "stream",
     "text": [
      "▁thank ▁you ▁so ▁much ▁, ▁chris ▁.\n",
      "▁and ▁it ' s ▁tr u ly ▁a ▁great ▁ho n or ▁to ▁have ▁the ▁ op port un ity ▁to ▁come ▁to ▁this ▁st age ▁ t wi ce ▁; ▁i ' m ▁ex t re me ly ▁gr ate ful ▁.\n",
      "▁i ▁have ▁been ▁ bl own ▁away ▁by ▁this ▁con fer ence ▁, ▁and ▁i ▁want ▁to ▁thank ▁all ▁of ▁you ▁for ▁the ▁many ▁ ni ce ▁ com ment s ▁about ▁what ▁i ▁had ▁to ▁say ▁the ▁other ▁night ▁.\n",
      "▁and ▁i ▁say ▁that ▁since re ly ▁, ▁part ly ▁because ▁i ▁need ▁that ▁.\n",
      "▁put ▁your s el ve s ▁in ▁my ▁po s ition ▁.\n",
      "▁ 非常 謝 謝 你 ▁, ▁ 克 里 斯 ▁。 ▁ 能 有 這個 機會 第二 度 踏 上 這個 演講 台\n",
      "▁ 真 是 一 大 榮 幸 ▁。 ▁我 非常 感 激 ▁。\n",
      "▁這個 研 討 會 給我 留 下 了 極 為 深 刻 的 印 象 ▁, ▁我想 感 謝 大家 對我 之前 演講 的 好 評 ▁。\n",
      "▁我 是由 衷 的 想 這麼 說 ▁, ▁有 部份 原因 是因為 我 真的 有 需要 ▁!\n",
      "▁ 請 你們 設 身 處 地 為 我想 一 想 ▁!\n"
     ]
    }
   ],
   "source": [
    "!head {data_dir+'/'+dataset_name+'/train.'+src_lang} -n 5\n",
    "!head {data_dir+'/'+dataset_name+'/train.'+tgt_lang} -n 5"
   ]
  },
  {
   "cell_type": "markdown",
   "metadata": {
    "id": "59si_C0Wsms7"
   },
   "source": [
    "## 数据二值化（使用 fairseq）\n",
    "配对源语言和目标语言的文件。\n",
    "\n",
    "如果没有对应的文件，就生成伪配对来方便二值化。"
   ]
  },
  {
   "cell_type": "code",
   "execution_count": 17,
   "metadata": {
    "id": "w-cHVLSpsknh"
   },
   "outputs": [
    {
     "name": "stdout",
     "output_type": "stream",
     "text": [
      "DATA/data-bin/ted2020 exists, will not overwrite!\n"
     ]
    }
   ],
   "source": [
    "binpath = Path('./DATA/data-bin', dataset_name)\n",
    "if binpath.exists():\n",
    "    print(binpath, \"exists, will not overwrite!\")\n",
    "else:\n",
    "    !python -m fairseq_cli.preprocess \\\n",
    "        --source-lang {src_lang}\\\n",
    "        --target-lang {tgt_lang}\\\n",
    "        --trainpref {prefix/'train'}\\\n",
    "        --validpref {prefix/'valid'}\\\n",
    "        --testpref {prefix/'test'}\\\n",
    "        --destdir {binpath}\\\n",
    "        --joined-dictionary\\\n",
    "        --workers 2"
   ]
  },
  {
   "cell_type": "markdown",
   "metadata": {
    "id": "szMuH1SWLPWA"
   },
   "source": [
    "# 实验配置"
   ]
  },
  {
   "cell_type": "code",
   "execution_count": 18,
   "metadata": {
    "id": "5Luz3_tVLUxs"
   },
   "outputs": [],
   "source": [
    "config = Namespace(\n",
    "    datadir = \"./DATA/data-bin/ted2020\",\n",
    "    savedir = \"./checkpoints/rnn\",\n",
    "    source_lang = src_lang,\n",
    "    target_lang = tgt_lang,\n",
    "\n",
    "    # 设置取数据和处理数据时 cpu 的线程数\n",
    "    num_workers=2,\n",
    "    # batch size 按照 token 数量来计算。梯度累积可以增加有效的 batch size。\n",
    "    max_tokens=8192,\n",
    "    accum_steps=2,\n",
    "\n",
    "    # 学习率通过 Noam 调度器进行计算。你可以修改lr_factor来调整最大的学习率。\n",
    "    lr_factor=2.,\n",
    "    lr_warmup=4000,\n",
    "\n",
    "    # 梯度裁剪可以缓解梯度爆炸\n",
    "    clip_norm=1.0,\n",
    "\n",
    "    # 训练的最大轮数 (Medium)\n",
    "    max_epoch=30,\n",
    "    start_epoch=1,\n",
    "\n",
    "    # 集束搜索中的 beam size\n",
    "    beam=5,\n",
    "    # 生成的序列的最大长度为 ax + b，其中 x 是源长度\n",
    "    max_len_a=1.2,\n",
    "    max_len_b=10,\n",
    "    # 解码时，通过去除 sentencepiece 符号和 jieba 分词来后处理句子。\n",
    "    post_process = \"sentencepiece\",\n",
    "\n",
    "    # 检查点\n",
    "    keep_last_epochs=5,\n",
    "    resume=None, # if resume 则根据 checkpoint name 进行恢复（文件保存在 config.savedir 下）\n",
    "\n",
    "    # 日志记录\n",
    "    use_wandb=False,\n",
    ")"
   ]
  },
  {
   "cell_type": "markdown",
   "metadata": {
    "id": "cjrJFvyQLg86"
   },
   "source": [
    "# 日志\n",
    "- logging 包用于记录普通的信息\n",
    "- wandb 记录训练过程中的损失/bleu等"
   ]
  },
  {
   "cell_type": "code",
   "execution_count": 19,
   "metadata": {
    "id": "-ZiMyDWALbDk"
   },
   "outputs": [],
   "source": [
    "logging.basicConfig(\n",
    "    format=\"%(asctime)s | %(levelname)s | %(name)s | %(message)s\",\n",
    "    datefmt=\"%Y-%m-%d %H:%M:%S\",\n",
    "    level=\"INFO\", # \"DEBUG\" \"WARNING\" \"ERROR\"\n",
    "    stream=sys.stdout,\n",
    ")\n",
    "proj = \"hw5.seq2seq\"\n",
    "logger = logging.getLogger(proj)\n",
    "if config.use_wandb:\n",
    "    import wandb\n",
    "    wandb.init(project=proj, name=Path(config.savedir).stem, config=config)"
   ]
  },
  {
   "cell_type": "markdown",
   "metadata": {
    "id": "BNoSkK45Lmqc"
   },
   "source": [
    "# CUDA 环境"
   ]
  },
  {
   "cell_type": "code",
   "execution_count": 20,
   "metadata": {
    "id": "oqrsbmcoLqMl"
   },
   "outputs": [
    {
     "name": "stderr",
     "output_type": "stream",
     "text": [
      "2023-11-15 18:13:17 | INFO | fairseq.utils | ***********************CUDA enviroments for all 1 workers***********************\n",
      "2023-11-15 18:13:17 | INFO | fairseq.utils | rank   0: capabilities =  8.6  ; total memory = 11.759 GB ; name = NVIDIA GeForce RTX 3060                 \n",
      "2023-11-15 18:13:17 | INFO | fairseq.utils | ***********************CUDA enviroments for all 1 workers***********************\n"
     ]
    }
   ],
   "source": [
    "cuda_env = utils.CudaEnvironment()\n",
    "utils.CudaEnvironment.pretty_print_cuda_env_list([cuda_env])\n",
    "device = torch.device('cuda:0' if torch.cuda.is_available() else 'cpu')"
   ]
  },
  {
   "cell_type": "markdown",
   "metadata": {
    "id": "TbJuBIHLLt2D"
   },
   "source": [
    "# 数据导入"
   ]
  },
  {
   "cell_type": "markdown",
   "metadata": {
    "id": "oOpG4EBRLwe_"
   },
   "source": [
    "## 我们采用了 TranslationTask（来自 fairseq）\n",
    "* 用于加载上面创建的二值化数据\n",
    "* 实现数据迭代器（dataloader）\n",
    "* 内置的 task.source_dictionary 和 task.target_dictionary 也很有用\n",
    "* 实现集束搜索解码器"
   ]
  },
  {
   "cell_type": "code",
   "execution_count": 21,
   "metadata": {
    "id": "3gSEy1uFLvVs"
   },
   "outputs": [
    {
     "name": "stderr",
     "output_type": "stream",
     "text": [
      "2023-11-15 18:13:17 | INFO | fairseq.tasks.translation | [en] dictionary: 7992 types\n",
      "2023-11-15 18:13:17 | INFO | fairseq.tasks.translation | [zh] dictionary: 7992 types\n"
     ]
    }
   ],
   "source": [
    "from fairseq.tasks.translation import TranslationConfig, TranslationTask\n",
    "\n",
    "## setup task\n",
    "task_cfg = TranslationConfig(\n",
    "    data=config.datadir,\n",
    "    source_lang=config.source_lang,\n",
    "    target_lang=config.target_lang,\n",
    "    train_subset=\"train\",\n",
    "    required_seq_len_multiple=8,\n",
    "    dataset_impl=\"mmap\",\n",
    "    upsample_primary=1,\n",
    ")\n",
    "task = TranslationTask.setup_task(task_cfg)"
   ]
  },
  {
   "cell_type": "code",
   "execution_count": 22,
   "metadata": {
    "id": "mR7Bhov7L4IU"
   },
   "outputs": [
    {
     "name": "stderr",
     "output_type": "stream",
     "text": [
      "2023-11-15 18:13:17 | INFO | hw5.seq2seq | loading data for epoch 1\n",
      "2023-11-15 18:13:17 | INFO | fairseq.data.data_utils | loaded 390,112 examples from: ./DATA/data-bin/ted2020/train.en-zh.en\n",
      "2023-11-15 18:13:17 | INFO | fairseq.data.data_utils | loaded 390,112 examples from: ./DATA/data-bin/ted2020/train.en-zh.zh\n",
      "2023-11-15 18:13:17 | INFO | fairseq.tasks.translation | ./DATA/data-bin/ted2020 train en-zh 390112 examples\n",
      "2023-11-15 18:13:17 | INFO | fairseq.data.data_utils | loaded 3,940 examples from: ./DATA/data-bin/ted2020/valid.en-zh.en\n",
      "2023-11-15 18:13:17 | INFO | fairseq.data.data_utils | loaded 3,940 examples from: ./DATA/data-bin/ted2020/valid.en-zh.zh\n",
      "2023-11-15 18:13:17 | INFO | fairseq.tasks.translation | ./DATA/data-bin/ted2020 valid en-zh 3940 examples\n"
     ]
    }
   ],
   "source": [
    "logger.info(\"loading data for epoch 1\")\n",
    "task.load_dataset(split=\"train\", epoch=1, combine=True) # combine if you have back-translation data.\n",
    "task.load_dataset(split=\"valid\", epoch=1)"
   ]
  },
  {
   "cell_type": "code",
   "execution_count": 23,
   "metadata": {
    "id": "P0BCEm_9L6ig"
   },
   "outputs": [
    {
     "name": "stdout",
     "output_type": "stream",
     "text": [
      "{'id': 1,\n",
      " 'source': tensor([  24,   63,    5,   90, 1323,  143,  140,  184,  281,   37,    8,   81,\n",
      "         254,   11,   80,   55,   12,  376,   20,  155,   60, 1007,   98,  587,\n",
      "          76,  256,    6,   98, 1465,    7,    2]),\n",
      " 'target': tensor([ 162,  116, 3756,  364,  158, 3055, 2925,    9, 2547,    4,  596,  123,\n",
      "        1518,  455,  667,   64,  406,  566,   74, 1908, 3790,  191,   10,    2])}\n",
      "('Source: you can throw out crazy theories and not have to back it up with '\n",
      " 'data or graphs or research .')\n",
      "'Target: 你能拋開這些瘋狂的理論 , 不用數據圖表、或研究來支撐它 。'\n"
     ]
    }
   ],
   "source": [
    "sample = task.dataset(\"valid\")[1]\n",
    "pprint.pprint(sample)\n",
    "pprint.pprint(\n",
    "    \"Source: \" + \\\n",
    "    task.source_dictionary.string(\n",
    "        sample['source'],\n",
    "        config.post_process,\n",
    "    )\n",
    ")\n",
    "pprint.pprint(\n",
    "    \"Target: \" + \\\n",
    "    task.target_dictionary.string(\n",
    "        sample['target'],\n",
    "        config.post_process,\n",
    "    )\n",
    ")"
   ]
  },
  {
   "cell_type": "markdown",
   "metadata": {
    "id": "UcfCVa2FMBSE"
   },
   "source": [
    "# 数据集迭代器"
   ]
  },
  {
   "cell_type": "markdown",
   "metadata": {
    "id": "yBvc-B_6MKZM"
   },
   "source": [
    "* 控制每个 batch 不超过 N 个 token，这样可以优化 GPU 内存效率\n",
    "* 在每个 epoch 都对训练集进行随机打乱\n",
    "* 忽略超过最大长度的句子\n",
    "* 将一个 batch 中的所有句子填充到相同的长度，这样可以利用 GPU 进行并行计算\n",
    "* 添加 eos 并移动一个 token\n",
    "    - teacher forcing 技术: 为了训练模型根据前缀预测下一个 token，我们将移动后的目标序列作为解码器的输入。\n",
    "    - 一般来说，在目标前面加上 bos 就可以了（如下图所示）\n",
    "![seq2seq](https://i.imgur.com/0zeDyuI.png)\n",
    "    - 但是在 fairseq 中，这是通过将 eos token 移动到开头来实现的。在实验上，这个操作拥有相同的效果。例如:\n",
    "    ```\n",
    "    # 目标输出（target）和解码器输入（prev_output_tokens）:\n",
    "                   eos = 2\n",
    "                target = 419,  711,  238,  888,  792,   60,  968,    8,    2\n",
    "    prev_output_tokens = 2,  419,  711,  238,  888,  792,   60,  968,    8\n",
    "    ```\n",
    "\n"
   ]
  },
  {
   "cell_type": "code",
   "execution_count": 24,
   "metadata": {
    "id": "OWFJFmCnMDXW"
   },
   "outputs": [
    {
     "name": "stderr",
     "output_type": "stream",
     "text": [
      "2023-11-15 18:13:17 | INFO | fairseq.tasks.fairseq_task | can_reuse_epoch_itr = False\n",
      "2023-11-15 18:13:17 | INFO | fairseq.tasks.fairseq_task | reuse_dataloader = True\n",
      "2023-11-15 18:13:17 | INFO | fairseq.tasks.fairseq_task | rebuild_batches = False\n",
      "2023-11-15 18:13:17 | INFO | fairseq.tasks.fairseq_task | creating new batches for epoch 1\n",
      "2023-11-15 18:13:17 | WARNING | fairseq.tasks.fairseq_task | 2,494 samples have invalid sizes and will be skipped, max_positions=(20, 20), first few sample ids=[1856, 2936, 3373, 918, 3863, 3540, 1791, 1246, 1790, 251]\n"
     ]
    },
    {
     "data": {
      "text/plain": [
       "{'id': tensor([3381]),\n",
       " 'nsentences': 1,\n",
       " 'ntokens': 12,\n",
       " 'net_input': {'src_tokens': tensor([[  11,  260,  296,    4,   16, 1083,   19,   14,   34,  233,    4,  260,\n",
       "           1604,  105,    7,    2]]),\n",
       "  'src_lengths': tensor([16]),\n",
       "  'prev_output_tokens': tensor([[   2, 1612,    4, 2475, 1797,    4,  241,  470, 2203, 2835,   35,   10,\n",
       "              1,    1,    1,    1]])},\n",
       " 'target': tensor([[1612,    4, 2475, 1797,    4,  241,  470, 2203, 2835,   35,   10,    2,\n",
       "             1,    1,    1,    1]])}"
      ]
     },
     "execution_count": 24,
     "metadata": {},
     "output_type": "execute_result"
    }
   ],
   "source": [
    "def load_data_iterator(task, split, epoch=1, max_tokens=4000, num_workers=1, cached=True):\n",
    "    batch_iterator = task.get_batch_iterator(\n",
    "        dataset=task.dataset(split),\n",
    "        max_tokens=max_tokens,\n",
    "        max_sentences=None,\n",
    "        max_positions=utils.resolve_max_positions(\n",
    "            task.max_positions(),\n",
    "            max_tokens,\n",
    "        ),\n",
    "        ignore_invalid_inputs=True,\n",
    "        seed=seed,\n",
    "        num_workers=num_workers,\n",
    "        epoch=epoch,\n",
    "        disable_iterator_cache=not cached,\n",
    "        # 如果设置为 False（cached=True），可以加快训练速度。\n",
    "        # 但是，如果设置为 False，那么在第一次调用这个方法之后，再改变 max_tokens就没有效果了。\n",
    "    )\n",
    "    return batch_iterator\n",
    "\n",
    "demo_epoch_obj = load_data_iterator(task, \"valid\", epoch=1, max_tokens=20, num_workers=1, cached=False)\n",
    "demo_iter = demo_epoch_obj.next_epoch_itr(shuffle=True)\n",
    "sample = next(demo_iter)\n",
    "sample"
   ]
  },
  {
   "cell_type": "markdown",
   "metadata": {
    "id": "p86K-0g7Me4M"
   },
   "source": [
    "* each batch is a python dict, with string key and Tensor value. Contents are described below:\n",
    "```python\n",
    "batch = {\n",
    "    \"id\": id, # id for each example\n",
    "    \"nsentences\": len(samples), # batch size (sentences)\n",
    "    \"ntokens\": ntokens, # batch size (tokens)\n",
    "    \"net_input\": {\n",
    "        \"src_tokens\": src_tokens, # sequence in source language\n",
    "        \"src_lengths\": src_lengths, # sequence length of each example before padding\n",
    "        \"prev_output_tokens\": prev_output_tokens, # right shifted target, as mentioned above.\n",
    "    },\n",
    "    \"target\": target, # target sequence\n",
    "}\n",
    "```"
   ]
  },
  {
   "cell_type": "markdown",
   "metadata": {
    "id": "9EyDBE5ZMkFZ"
   },
   "source": [
    "# 模型架构\n",
    "* 我们再次继承 fairseq 的编码器、解码器和模型，以便在测试阶段可以直接利用 fairseq 的集束搜索解码器。"
   ]
  },
  {
   "cell_type": "code",
   "execution_count": 25,
   "metadata": {
    "id": "Hzh74qLIMfW_"
   },
   "outputs": [],
   "source": [
    "from fairseq.models import (\n",
    "    FairseqEncoder,\n",
    "    FairseqIncrementalDecoder,\n",
    "    FairseqEncoderDecoderModel\n",
    ")"
   ]
  },
  {
   "cell_type": "markdown",
   "metadata": {
    "id": "OI46v1z7MotH"
   },
   "source": [
    "# 编码器"
   ]
  },
  {
   "cell_type": "markdown",
   "metadata": {
    "id": "Wn0wSeLLMrbc"
   },
   "source": [
    "- 编码器（Encoder）是一个循环神经网络（RNN）或者 Transformer 中的编码器。下面的描述是针对 RNN 的。对于每一个输入的 token，编码器会生成一个输出向量和一个隐藏状态向量，并且将隐藏状态向量传递给下一步。换句话说，编码器顺序地读入输入序列，并且在每一个时间步输出一个单独的向量，然后在最后一个时间步输出最终的隐藏状态，或者称为内容向量（content vector）。\n",
    "- 参数:\n",
    "  - *args*\n",
    "      - encoder_embed_dim: 嵌入的维度，将 one-hot 向量压缩到固定的维度，实现降维的效果\n",
    "      - encoder_ffn_embed_dim: 隐藏状态和输出向量的维度\n",
    "      - encoder_layers: RNN 编码器的层数\n",
    "      - dropout 确定了一个神经元的激活值被设为 0 的概率，用于防止过拟合。通常这个参数在训练时使用，在测试时移除\n",
    "  - *dictionary*: fairseq 提供的字典。它用于获取填充索引，进而得到编码器的填充掩码（encoder padding mask）\n",
    "  - *embed_tokens*: 一个 token embedding 的实例（nn.Embedding）\n",
    "\n",
    "- Inputs:\n",
    "    - *src_tokens*: 一个表示英语的整数序列，例如: 1, 28, 29, 205, 2\n",
    "- Outputs:\n",
    "    - *outputs*: RNN 在每个时间步的输出，可以由注意力机制（Attention）进一步处理\n",
    "    - *final_hiddens*: 每个时间步的隐藏状态，会被传递给解码器（decoder）进行解码\n",
    "    - *encoder_padding_mask*: 这个参数告诉解码器哪些位置要忽略\n"
   ]
  },
  {
   "cell_type": "code",
   "execution_count": 26,
   "metadata": {
    "id": "WcX3W4iGMq-S"
   },
   "outputs": [],
   "source": [
    "class RNNEncoder(FairseqEncoder):\n",
    "    def __init__(self, args, dictionary, embed_tokens):\n",
    "        super().__init__(dictionary)\n",
    "        self.embed_tokens = embed_tokens\n",
    "\n",
    "        self.embed_dim = args.encoder_embed_dim\n",
    "        self.hidden_dim = args.encoder_ffn_embed_dim\n",
    "        self.num_layers = args.encoder_layers\n",
    "\n",
    "        self.dropout_in_module = nn.Dropout(args.dropout)\n",
    "        self.rnn = nn.GRU(\n",
    "            self.embed_dim,\n",
    "            self.hidden_dim,\n",
    "            self.num_layers,\n",
    "            dropout=args.dropout,\n",
    "            batch_first=False,\n",
    "            bidirectional=True\n",
    "        )\n",
    "        self.dropout_out_module = nn.Dropout(args.dropout)\n",
    "\n",
    "        self.padding_idx = dictionary.pad()\n",
    "\n",
    "    def combine_bidir(self, outs, bsz: int):\n",
    "        out = outs.view(self.num_layers, 2, bsz, -1).transpose(1, 2).contiguous()\n",
    "        return out.view(self.num_layers, bsz, -1)\n",
    "\n",
    "    def forward(self, src_tokens, **unused):\n",
    "        bsz, seqlen = src_tokens.size()\n",
    "\n",
    "        # 获取 embeddings\n",
    "        x = self.embed_tokens(src_tokens)\n",
    "        x = self.dropout_in_module(x)\n",
    "\n",
    "        # B x T x C -> T x B x C\n",
    "        x = x.transpose(0, 1)\n",
    "\n",
    "        # 经过双向的 RNN\n",
    "        h0 = x.new_zeros(2 * self.num_layers, bsz, self.hidden_dim)\n",
    "        x, final_hiddens = self.rnn(x, h0)\n",
    "        outputs = self.dropout_out_module(x)\n",
    "        # outputs = [sequence len, batch size, hid dim * directions]\n",
    "        # hidden =  [num_layers * directions, batch size  , hid dim]\n",
    "\n",
    "        # 由于编码器是双向的，我们需要将两个方向的隐藏状态连接起来\n",
    "        final_hiddens = self.combine_bidir(final_hiddens, bsz)\n",
    "        # hidden =  [num_layers x batch x num_directions*hidden]\n",
    "\n",
    "        encoder_padding_mask = src_tokens.eq(self.padding_idx).t()\n",
    "        return tuple(\n",
    "            (\n",
    "                outputs,  # seq_len x batch x hidden\n",
    "                final_hiddens,  # num_layers x batch x num_directions*hidden\n",
    "                encoder_padding_mask,  # seq_len x batch\n",
    "            )\n",
    "        )\n",
    "\n",
    "    def reorder_encoder_out(self, encoder_out, new_order):\n",
    "        # 这个被用于 fairseq 的集束搜索。它的具体细节和原因并不重要。\n",
    "        return tuple(\n",
    "            (\n",
    "                encoder_out[0].index_select(1, new_order),\n",
    "                encoder_out[1].index_select(1, new_order),\n",
    "                encoder_out[2].index_select(1, new_order),\n",
    "            )\n",
    "        )"
   ]
  },
  {
   "cell_type": "markdown",
   "metadata": {
    "id": "6ZlE_1JnMv56"
   },
   "source": [
    "## 注意力"
   ]
  },
  {
   "cell_type": "markdown",
   "metadata": {
    "id": "ZSFSKt_ZMzgh"
   },
   "source": [
    "- 当输入序列很长时，单独的“内容向量”就不能准确地表示整个序列，注意力机制可以为解码器提供更多信息。\n",
    "- 根据当前时间步的**解码器embeddings**，将**编码器输出**与**解码器 embeddings** 进行匹配，确定相关性，然后将编码器输出按相关性加权求和作为**解码器** RNN 的输入。\n",
    "- 常见的注意力实现使用神经网络/点积作为 **query**（解码器 embeddings）和 **key**（编码器输出）之间的相关性，然后用 **softmax** 得到一个分布，最后用该分布对 **value**（编码器输出）进行**加权求和**。\n",
    "\n",
    "- 参数:\n",
    "  - *input_embed_dim*: key 的维度，应该是解码器中用于 attend 其他向量的向量的维度\n",
    "  - *source_embed_dim*: query 的维度，应该是被 attend 的向量（编码器输出）的维度\n",
    "  - *output_embed_dim*: value 的维度，应该是 after attention 的向量的维度，符合下一层的期望,\n",
    "- Inputs:\n",
    "    - *inputs*: key, 用于 attend 其他向量\n",
    "    - *encoder_outputs*:  query/value, 被 attend 的向量\n",
    "    - *encoder_padding_mask*: 这个告诉解码器应该忽略那些位置\n",
    "- Outputs:\n",
    "    - *output*: attention 后的上下文向量\n",
    "    - *attention score*: attention 的分数\n"
   ]
  },
  {
   "cell_type": "code",
   "execution_count": 27,
   "metadata": {
    "id": "1Atf_YuCMyyF"
   },
   "outputs": [],
   "source": [
    "class AttentionLayer(nn.Module):\n",
    "    def __init__(self, input_embed_dim, source_embed_dim, output_embed_dim, bias=False):\n",
    "        super().__init__()\n",
    "\n",
    "        self.input_proj = nn.Linear(input_embed_dim, source_embed_dim, bias=bias)\n",
    "        self.output_proj = nn.Linear(\n",
    "            input_embed_dim + source_embed_dim, output_embed_dim, bias=bias\n",
    "        )\n",
    "\n",
    "    def forward(self, inputs, encoder_outputs, encoder_padding_mask):\n",
    "        # inputs: T, B, dim\n",
    "        # encoder_outputs: S x B x dim\n",
    "        # padding mask:  S x B\n",
    "\n",
    "        # 将所有的输入的维度改为 batch first\n",
    "        inputs = inputs.transpose(1,0) # B, T, dim\n",
    "        encoder_outputs = encoder_outputs.transpose(1,0) # B, S, dim\n",
    "        encoder_padding_mask = encoder_padding_mask.transpose(1,0) # B, S\n",
    "\n",
    "        # 投影到 encoder_outputs 的维度\n",
    "        x = self.input_proj(inputs)\n",
    "\n",
    "        # 计算 attention\n",
    "        # (B, T, dim) x (B, dim, S) = (B, T, S)\n",
    "        attn_scores = torch.bmm(x, encoder_outputs.transpose(1,2))\n",
    "\n",
    "        # 取消与 padding 相对应的位置的 attention\n",
    "        if encoder_padding_mask is not None:\n",
    "            # leveraging broadcast  B, S -> (B, 1, S)\n",
    "            encoder_padding_mask = encoder_padding_mask.unsqueeze(1)\n",
    "            attn_scores = (\n",
    "                attn_scores.float()\n",
    "                .masked_fill_(encoder_padding_mask, float(\"-inf\"))\n",
    "                .type_as(attn_scores)\n",
    "            )  # FP16 support: cast to float and back\n",
    "\n",
    "        # 在与源序列对应的维度上进行 softmax\n",
    "        attn_scores = F.softmax(attn_scores, dim=-1)\n",
    "\n",
    "        # shape (B, T, S) x (B, S, dim) = (B, T, dim) 加权求和\n",
    "        x = torch.bmm(attn_scores, encoder_outputs)\n",
    "\n",
    "        # (B, T, dim)\n",
    "        x = torch.cat((x, inputs), dim=-1)\n",
    "        x = torch.tanh(self.output_proj(x)) # concat + linear + tanh\n",
    "\n",
    "        # restore shape (B, T, dim) -> (T, B, dim)\n",
    "        return x.transpose(1,0), attn_scores"
   ]
  },
  {
   "cell_type": "markdown",
   "metadata": {
    "id": "doSCOA2gM7fK"
   },
   "source": [
    "# 解码器"
   ]
  },
  {
   "cell_type": "markdown",
   "metadata": {
    "id": "2M8Vod2gNABR"
   },
   "source": [
    "* **解码器**的隐藏状态将由**编码器**的最终隐藏状态（the content vector）初始化\n",
    "* 同时，**解码器**会根据当前时间步的输入（前一时间步的输出）改变其隐藏状态，并生成一个输出\n",
    "* 注意力机制可以提高性能\n",
    "* seq2seq 的步骤是在解码器中实现的，这样以后 Seq2Seq 类可以接受 RNN 和 Transformer，而不需要进一步修改。\n",
    "- 参数:\n",
    "  - *args*\n",
    "      - decoder_embed_dim: 解码器嵌入的维度，类似于 encoder_embed_dim\n",
    "      - decoder_ffn_embed_dim: 解码器 RNN 隐藏状态的维度，类似于 encoder_ffn_embed_dim\n",
    "      - decoder_layers: RNN 解码器的层数\n",
    "      - share_decoder_input_output_embed: 通常，解码器的投影矩阵会与解码器输入 embeddings 共享权重\n",
    "  - *dictionary*: fairseq 提供的字典\n",
    "  - *embed_tokens*: 一个 token embedding 的实例（nn.Embedding）\n",
    "- 输入:\n",
    "    - *prev_output_tokens*: 表示右移目标的整数序列，例如: 1, 28, 29, 205, 2\n",
    "    - *encoder_out*: 编码器的输出\n",
    "    - *incremental_state*: 为了加速测试时的解码，我们会保存每个时间步的隐藏状态。详见forward()。\n",
    "- 输出:\n",
    "    - *outputs*: 解码器在每个时间步的输出的对数（softmax之前）\n",
    "    - *extra*: 未使用"
   ]
  },
  {
   "cell_type": "code",
   "execution_count": 28,
   "metadata": {
    "id": "QfvgqHYDM6Lp"
   },
   "outputs": [],
   "source": [
    "class RNNDecoder(FairseqIncrementalDecoder):\n",
    "    def __init__(self, args, dictionary, embed_tokens):\n",
    "        super().__init__(dictionary)\n",
    "        self.embed_tokens = embed_tokens\n",
    "\n",
    "        assert args.decoder_layers == args.encoder_layers, f\"\"\"seq2seq rnn requires that encoder\n",
    "        and decoder have same layers of rnn. got: {args.encoder_layers, args.decoder_layers}\"\"\"\n",
    "        assert args.decoder_ffn_embed_dim == args.encoder_ffn_embed_dim*2, f\"\"\"seq2seq-rnn requires\n",
    "        that decoder hidden to be 2*encoder hidden dim. got: {args.decoder_ffn_embed_dim, args.encoder_ffn_embed_dim*2}\"\"\"\n",
    "\n",
    "        self.embed_dim = args.decoder_embed_dim\n",
    "        self.hidden_dim = args.decoder_ffn_embed_dim\n",
    "        self.num_layers = args.decoder_layers\n",
    "\n",
    "\n",
    "        self.dropout_in_module = nn.Dropout(args.dropout)\n",
    "        self.rnn = nn.GRU(\n",
    "            self.embed_dim,\n",
    "            self.hidden_dim,\n",
    "            self.num_layers,\n",
    "            dropout=args.dropout,\n",
    "            batch_first=False,\n",
    "            bidirectional=False\n",
    "        )\n",
    "        self.attention = AttentionLayer(\n",
    "            self.embed_dim, self.hidden_dim, self.embed_dim, bias=False\n",
    "        )\n",
    "        # self.attention = None\n",
    "        self.dropout_out_module = nn.Dropout(args.dropout)\n",
    "\n",
    "        if self.hidden_dim != self.embed_dim:\n",
    "            self.project_out_dim = nn.Linear(self.hidden_dim, self.embed_dim)\n",
    "        else:\n",
    "            self.project_out_dim = None\n",
    "\n",
    "        if args.share_decoder_input_output_embed:\n",
    "            self.output_projection = nn.Linear(\n",
    "                self.embed_tokens.weight.shape[1],\n",
    "                self.embed_tokens.weight.shape[0],\n",
    "                bias=False,\n",
    "            )\n",
    "            self.output_projection.weight = self.embed_tokens.weight\n",
    "        else:\n",
    "            self.output_projection = nn.Linear(\n",
    "                self.output_embed_dim, len(dictionary), bias=False\n",
    "            )\n",
    "            nn.init.normal_(\n",
    "                self.output_projection.weight, mean=0, std=self.output_embed_dim ** -0.5\n",
    "            )\n",
    "\n",
    "    def forward(self, prev_output_tokens, encoder_out, incremental_state=None, **unused):\n",
    "        # 从编码器中提取输出\n",
    "        encoder_outputs, encoder_hiddens, encoder_padding_mask = encoder_out\n",
    "        # outputs:          seq_len x batch x num_directions*hidden\n",
    "        # encoder_hiddens:  num_layers x batch x num_directions*encoder_hidden\n",
    "        # padding_mask:     seq_len x batch\n",
    "\n",
    "        if incremental_state is not None and len(incremental_state) > 0:\n",
    "            # 如果保留了上一个时间步的信息，可以从那里继续，而不是从bos开始\n",
    "            prev_output_tokens = prev_output_tokens[:, -1:]\n",
    "            cache_state = self.get_incremental_state(incremental_state, \"cached_state\")\n",
    "            prev_hiddens = cache_state[\"prev_hiddens\"]\n",
    "        else:\n",
    "            # 增量状态不存在，要么是训练时，要么是测试时的第一个时间步\n",
    "            # 为seq2seq做准备：将编码器的隐藏状态传递给解码器的隐藏状态\n",
    "            prev_hiddens = encoder_hiddens\n",
    "\n",
    "        bsz, seqlen = prev_output_tokens.size()\n",
    "\n",
    "        # embed tokens\n",
    "        x = self.embed_tokens(prev_output_tokens)\n",
    "        x = self.dropout_in_module(x)\n",
    "\n",
    "        # B x T x C -> T x B x C\n",
    "        x = x.transpose(0, 1)\n",
    "\n",
    "        # decoder-to-encoder attention\n",
    "        if self.attention is not None:\n",
    "            x, attn = self.attention(x, encoder_outputs, encoder_padding_mask)\n",
    "\n",
    "        # 经过单向的 RNN\n",
    "        x, final_hiddens = self.rnn(x, prev_hiddens)\n",
    "        # outputs = [sequence len, batch size, hid dim]\n",
    "        # hidden =  [num_layers * directions, batch size  , hid dim]\n",
    "        x = self.dropout_out_module(x)\n",
    "\n",
    "        # 投影到 embedding size（如果隐藏状态与 embedding size 不同，并且 share_embedding 为True\n",
    "        # 就需要做一个额外的投影）\n",
    "        if self.project_out_dim != None:\n",
    "            x = self.project_out_dim(x)\n",
    "\n",
    "        # 投影到 vocab size\n",
    "        x = self.output_projection(x)\n",
    "\n",
    "        # T x B x C -> B x T x C\n",
    "        x = x.transpose(1, 0)\n",
    "\n",
    "        # if incremental, 则记录当前时间步的隐藏状态，在下一个时间步恢复\n",
    "        cache_state = {\n",
    "            \"prev_hiddens\": final_hiddens,\n",
    "        }\n",
    "        self.set_incremental_state(incremental_state, \"cached_state\", cache_state)\n",
    "\n",
    "        return x, None\n",
    "\n",
    "    def reorder_incremental_state(self, incremental_state, new_order):\n",
    "        # 这个被用于 fairseq 的集束搜索。它的具体细节和原因并不重要。\n",
    "        cache_state = self.get_incremental_state(incremental_state, \"cached_state\")\n",
    "        prev_hiddens = cache_state[\"prev_hiddens\"]\n",
    "        prev_hiddens = [p.index_select(0, new_order) for p in prev_hiddens]\n",
    "        cache_state = {\n",
    "            \"prev_hiddens\": torch.stack(prev_hiddens),\n",
    "        }\n",
    "        self.set_incremental_state(incremental_state, \"cached_state\", cache_state)\n",
    "        return"
   ]
  },
  {
   "cell_type": "markdown",
   "metadata": {
    "id": "UDAPmxjRNEEL"
   },
   "source": [
    "## Seq2Seq\n",
    "- 由**编码器**和**解码器**组成\n",
    "- 接收输入并传递给**编码器**\n",
    "- 将**编码器**的输出传递给**解码器**\n",
    "- **解码器**会根据前一时间步的输出以及**编码器**的输出进行解码\n",
    "- 解码完成后，返回**解码器**的输出"
   ]
  },
  {
   "cell_type": "code",
   "execution_count": 29,
   "metadata": {
    "id": "oRwKdLa0NEU6"
   },
   "outputs": [],
   "source": [
    "class Seq2Seq(FairseqEncoderDecoderModel):\n",
    "    def __init__(self, args, encoder, decoder):\n",
    "        super().__init__(encoder, decoder)\n",
    "        self.args = args\n",
    "\n",
    "    def forward(\n",
    "        self,\n",
    "        src_tokens,\n",
    "        src_lengths,\n",
    "        prev_output_tokens,\n",
    "        return_all_hiddens: bool = True,\n",
    "    ):\n",
    "        \"\"\"\n",
    "        Run the forward pass for an encoder-decoder model.\n",
    "        \"\"\"\n",
    "        encoder_out = self.encoder(\n",
    "            src_tokens, src_lengths=src_lengths, return_all_hiddens=return_all_hiddens\n",
    "        )\n",
    "        logits, extra = self.decoder(\n",
    "            prev_output_tokens,\n",
    "            encoder_out=encoder_out,\n",
    "            src_lengths=src_lengths,\n",
    "            return_all_hiddens=return_all_hiddens,\n",
    "        )\n",
    "        return logits, extra"
   ]
  },
  {
   "cell_type": "markdown",
   "metadata": {
    "id": "zu3C2JfqNHzk"
   },
   "source": [
    "# 模型初始化"
   ]
  },
  {
   "cell_type": "code",
   "execution_count": 30,
   "metadata": {
    "id": "nyI9FOx-NJ2m"
   },
   "outputs": [],
   "source": [
    "# # 提示: transformer 架构\n",
    "from fairseq.models.transformer import (\n",
    "    TransformerEncoder,\n",
    "    TransformerDecoder,\n",
    ")\n",
    "\n",
    "def build_model(args, task):\n",
    "    \"\"\" build a model instance based on hyperparameters \"\"\"\n",
    "    src_dict, tgt_dict = task.source_dictionary, task.target_dictionary\n",
    "\n",
    "    # token embeddings\n",
    "    encoder_embed_tokens = nn.Embedding(len(src_dict), args.encoder_embed_dim, src_dict.pad())\n",
    "    decoder_embed_tokens = nn.Embedding(len(tgt_dict), args.decoder_embed_dim, tgt_dict.pad())\n",
    "\n",
    "    # encoder decoder\n",
    "    # 提示: TODO: 转变为 TransformerEncoder & TransformerDecoder\n",
    "    encoder = RNNEncoder(args, src_dict, encoder_embed_tokens)\n",
    "    decoder = RNNDecoder(args, tgt_dict, decoder_embed_tokens)\n",
    "    # encoder = TransformerEncoder(args, src_dict, encoder_embed_tokens)\n",
    "    # decoder = TransformerDecoder(args, tgt_dict, decoder_embed_tokens)\n",
    "\n",
    "    # 序列到序列的模型\n",
    "    model = Seq2Seq(args, encoder, decoder)\n",
    "\n",
    "    # 初始化 seq2seq 模型很重要, 需要额外的处理\n",
    "    def init_params(module):\n",
    "        from fairseq.modules import MultiheadAttention\n",
    "        if isinstance(module, nn.Linear):\n",
    "            module.weight.data.normal_(mean=0.0, std=0.02)\n",
    "            if module.bias is not None:\n",
    "                module.bias.data.zero_()\n",
    "        if isinstance(module, nn.Embedding):\n",
    "            module.weight.data.normal_(mean=0.0, std=0.02)\n",
    "            if module.padding_idx is not None:\n",
    "                module.weight.data[module.padding_idx].zero_()\n",
    "        if isinstance(module, MultiheadAttention):\n",
    "            module.q_proj.weight.data.normal_(mean=0.0, std=0.02)\n",
    "            module.k_proj.weight.data.normal_(mean=0.0, std=0.02)\n",
    "            module.v_proj.weight.data.normal_(mean=0.0, std=0.02)\n",
    "        if isinstance(module, nn.RNNBase):\n",
    "            for name, param in module.named_parameters():\n",
    "                if \"weight\" in name or \"bias\" in name:\n",
    "                    param.data.uniform_(-0.1, 0.1)\n",
    "\n",
    "    # 权重初始化\n",
    "    model.apply(init_params)\n",
    "    return model"
   ]
  },
  {
   "cell_type": "markdown",
   "metadata": {
    "id": "ce5n4eS7NQNy"
   },
   "source": [
    "## 架构相关配置\n",
    "\n",
    "为了达成 strong baseline，请参考 [Attention is all you need](#vaswani2017) 中表 3 中 *transformer-base* 的超参数"
   ]
  },
  {
   "cell_type": "code",
   "execution_count": 31,
   "metadata": {
    "id": "Cyn30VoGNT6N"
   },
   "outputs": [],
   "source": [
    "arch_args = Namespace(\n",
    "    encoder_embed_dim=256,\n",
    "    encoder_ffn_embed_dim=512,\n",
    "    encoder_layers=1,\n",
    "    decoder_embed_dim=256,\n",
    "    decoder_ffn_embed_dim=1024,\n",
    "    decoder_layers=1,\n",
    "    share_decoder_input_output_embed=True,\n",
    "    dropout=0.3,\n",
    ")\n",
    "\n",
    "# 提示: 这些是 Transformer 的参数补丁\n",
    "def add_transformer_args(args):\n",
    "    args.encoder_attention_heads=4\n",
    "    args.encoder_normalize_before=True\n",
    "\n",
    "    args.decoder_attention_heads=4\n",
    "    args.decoder_normalize_before=True\n",
    "\n",
    "    args.activation_fn=\"relu\"\n",
    "    args.max_source_positions=1024\n",
    "    args.max_target_positions=1024\n",
    "\n",
    "    # Transformer 默认参数的补丁（未在上面设置的参数）\n",
    "    from fairseq.models.transformer import base_architecture\n",
    "    base_architecture(arch_args)\n",
    "\n",
    "# add_transformer_args(arch_args)"
   ]
  },
  {
   "cell_type": "code",
   "execution_count": 32,
   "metadata": {
    "id": "Nbb76QLCNZZZ"
   },
   "outputs": [],
   "source": [
    "if config.use_wandb:\n",
    "    wandb.config.update(vars(arch_args))"
   ]
  },
  {
   "cell_type": "code",
   "execution_count": 33,
   "metadata": {
    "id": "7ZWfxsCDNatH"
   },
   "outputs": [
    {
     "name": "stderr",
     "output_type": "stream",
     "text": [
      "/home/hoperj/miniconda3/envs/DL/lib/python3.9/site-packages/torch/nn/modules/rnn.py:82: UserWarning: dropout option adds dropout after all but last recurrent layer, so non-zero dropout expects num_layers greater than 1, but got dropout=0.3 and num_layers=1\n",
      "  warnings.warn(\"dropout option adds dropout after all but last \"\n",
      "2023-11-15 18:13:18 | INFO | hw5.seq2seq | Seq2Seq(\n",
      "  (encoder): RNNEncoder(\n",
      "    (embed_tokens): Embedding(7992, 256, padding_idx=1)\n",
      "    (dropout_in_module): Dropout(p=0.3, inplace=False)\n",
      "    (rnn): GRU(256, 512, dropout=0.3, bidirectional=True)\n",
      "    (dropout_out_module): Dropout(p=0.3, inplace=False)\n",
      "  )\n",
      "  (decoder): RNNDecoder(\n",
      "    (embed_tokens): Embedding(7992, 256, padding_idx=1)\n",
      "    (dropout_in_module): Dropout(p=0.3, inplace=False)\n",
      "    (rnn): GRU(256, 1024, dropout=0.3)\n",
      "    (attention): AttentionLayer(\n",
      "      (input_proj): Linear(in_features=256, out_features=1024, bias=False)\n",
      "      (output_proj): Linear(in_features=1280, out_features=256, bias=False)\n",
      "    )\n",
      "    (dropout_out_module): Dropout(p=0.3, inplace=False)\n",
      "    (project_out_dim): Linear(in_features=1024, out_features=256, bias=True)\n",
      "    (output_projection): Linear(in_features=256, out_features=7992, bias=False)\n",
      "  )\n",
      ")\n"
     ]
    }
   ],
   "source": [
    "model = build_model(arch_args, task)\n",
    "logger.info(model)"
   ]
  },
  {
   "cell_type": "markdown",
   "metadata": {
    "id": "aHll7GRNNdqc"
   },
   "source": [
    "# 优化"
   ]
  },
  {
   "cell_type": "markdown",
   "metadata": {
    "id": "rUB9f1WCNgMH"
   },
   "source": [
    "## 损失(Loss): Label Smoothing Regularization\n",
    "* 让模型学习生成更少集中的分布，防止过度自信\n",
    "* 有时候正确答案可能不是唯一的。因此，在计算损失时，我们为错误标签保留一些概率。\n",
    "* 避免过拟合\n",
    "\n",
    "代码 [source](https://fairseq.readthedocs.io/en/latest/_modules/fairseq/criterions/label_smoothed_cross_entropy.html)"
   ]
  },
  {
   "cell_type": "code",
   "execution_count": 34,
   "metadata": {
    "id": "IgspdJn0NdYF"
   },
   "outputs": [],
   "source": [
    "class LabelSmoothedCrossEntropyCriterion(nn.Module):\n",
    "    def __init__(self, smoothing, ignore_index=None, reduce=True):\n",
    "        super().__init__()\n",
    "        self.smoothing = smoothing\n",
    "        self.ignore_index = ignore_index\n",
    "        self.reduce = reduce\n",
    "\n",
    "    def forward(self, lprobs, target):\n",
    "        if target.dim() == lprobs.dim() - 1:\n",
    "            target = target.unsqueeze(-1)\n",
    "        # nll: Negative log likelihood 负对数似然，当目标是 one-hot 时的交叉熵。下一行代码等同于F.nll_loss\n",
    "        nll_loss = -lprobs.gather(dim=-1, index=target)\n",
    "        #  保留一些其他标签的概率，这样在计算交叉熵的时候相当于对所有标签的对数概率求和\n",
    "        smooth_loss = -lprobs.sum(dim=-1, keepdim=True)\n",
    "        if self.ignore_index is not None:\n",
    "            pad_mask = target.eq(self.ignore_index)\n",
    "            nll_loss.masked_fill_(pad_mask, 0.0)\n",
    "            smooth_loss.masked_fill_(pad_mask, 0.0)\n",
    "        else:\n",
    "            nll_loss = nll_loss.squeeze(-1)\n",
    "            smooth_loss = smooth_loss.squeeze(-1)\n",
    "        if self.reduce:\n",
    "            nll_loss = nll_loss.sum()\n",
    "            smooth_loss = smooth_loss.sum()\n",
    "        # 在计算交叉熵的时候，增加其他标签的损失\n",
    "        eps_i = self.smoothing / lprobs.size(-1)\n",
    "        loss = (1.0 - self.smoothing) * nll_loss + eps_i * smooth_loss\n",
    "        return loss\n",
    "\n",
    "# 通常来说，0.1 已经足够好了\n",
    "criterion = LabelSmoothedCrossEntropyCriterion(\n",
    "    smoothing=0.1,\n",
    "    ignore_index=task.target_dictionary.pad(),\n",
    ")"
   ]
  },
  {
   "cell_type": "markdown",
   "metadata": {
    "id": "aRalDto2NkJJ",
    "tags": []
   },
   "source": [
    "## 优化器: Adam + 学习率调度 (Medium)\n",
    "在训练 Transformer 时，平方根倒数调度（Inverse square root scheduling）对于稳定性非常重要，在后面也用于RNN。\n",
    "根据以下公式更新学习率，第一阶段线性增加，然后按时间步的平方根倒数成比例衰减。\n",
    "$$lrate = d_{\\text{model}}^{-0.5}\\cdot\\min({step\\_num}^{-0.5},{step\\_num}\\cdot{warmup\\_steps}^{-1.5})$$"
   ]
  },
  {
   "cell_type": "code",
   "execution_count": 35,
   "metadata": {
    "id": "sS7tQj1ROBYm"
   },
   "outputs": [],
   "source": [
    "import math\n",
    "\n",
    "def get_rate(d_model, step_num, warmup_step):\n",
    "    # TODO: 将 lr 从常数修改为上面显示的公式\n",
    "    lr = 1.0 / math.sqrt(d_model) * min(1.0 / math.sqrt(step_num), step_num / (warmup_step * math.sqrt(warmup_step)))\n",
    "    return lr"
   ]
  },
  {
   "cell_type": "code",
   "execution_count": 36,
   "metadata": {
    "id": "J8hoAjHPNkh3"
   },
   "outputs": [],
   "source": [
    "class NoamOpt:\n",
    "    \"Optim 包装，用于实现 rate\"\n",
    "    def __init__(self, model_size, factor, warmup, optimizer):\n",
    "        self.optimizer = optimizer\n",
    "        self._step = 0\n",
    "        self.warmup = warmup\n",
    "        self.factor = factor\n",
    "        self.model_size = model_size\n",
    "        self._rate = 0\n",
    "\n",
    "    @property\n",
    "    def param_groups(self):\n",
    "        return self.optimizer.param_groups\n",
    "\n",
    "    def multiply_grads(self, c):\n",
    "        \"\"\"将梯度乘以常数*c*.\"\"\"\n",
    "        for group in self.param_groups:\n",
    "            for p in group['params']:\n",
    "                if p.grad is not None:\n",
    "                    p.grad.data.mul_(c)\n",
    "\n",
    "    def step(self):\n",
    "        \"更新参数和 rate\"\n",
    "        self._step += 1\n",
    "        rate = self.rate()\n",
    "        for p in self.param_groups:\n",
    "            p['lr'] = rate\n",
    "        self._rate = rate\n",
    "        self.optimizer.step()\n",
    "\n",
    "    def rate(self, step = None):\n",
    "        \"实现上面的 `lrate`\"\n",
    "        if step is None:\n",
    "            step = self._step\n",
    "        return 0 if not step else self.factor * get_rate(self.model_size, step, self.warmup)"
   ]
  },
  {
   "cell_type": "markdown",
   "metadata": {
    "id": "VFJlkOMONsc6"
   },
   "source": [
    "## 调度可视化"
   ]
  },
  {
   "cell_type": "code",
   "execution_count": 37,
   "metadata": {
    "id": "A135fwPCNrQs"
   },
   "outputs": [
    {
     "data": {
      "image/png": "[encoded data removed]",
      "text/plain": [
       "<Figure size 640x480 with 1 Axes>"
      ]
     },
     "metadata": {},
     "output_type": "display_data"
    }
   ],
   "source": [
    "optimizer = NoamOpt(\n",
    "    model_size=arch_args.encoder_embed_dim,\n",
    "    factor=config.lr_factor,\n",
    "    warmup=config.lr_warmup,\n",
    "    optimizer=torch.optim.AdamW(model.parameters(), lr=0, betas=(0.9, 0.98), eps=1e-9, weight_decay=0.0001))\n",
    "plt.plot(np.arange(1, 100000), [optimizer.rate(i) for i in range(1, 100000)])\n",
    "plt.legend([f\"{optimizer.model_size}:{optimizer.warmup}\"])\n",
    "None"
   ]
  },
  {
   "cell_type": "markdown",
   "metadata": {
    "id": "TOR0g-cVO5ZO"
   },
   "source": [
    "# 训练过程"
   ]
  },
  {
   "cell_type": "markdown",
   "metadata": {
    "id": "f-0ZjbK3O8Iv"
   },
   "source": [
    "## 训练"
   ]
  },
  {
   "cell_type": "code",
   "execution_count": 38,
   "metadata": {
    "id": "foal3xM1O404"
   },
   "outputs": [],
   "source": [
    "from fairseq.data import iterators\n",
    "from torch.cuda.amp import GradScaler, autocast\n",
    "\n",
    "def train_one_epoch(epoch_itr, model, task, criterion, optimizer, accum_steps=1):\n",
    "    itr = epoch_itr.next_epoch_itr(shuffle=True)\n",
    "    itr = iterators.GroupedIterator(itr, accum_steps) # 梯度累积：每 accum_steps 个样本更新一次\n",
    "\n",
    "    stats = {\"loss\": []}\n",
    "    scaler = GradScaler() # 自动混合精度（amp）\n",
    "\n",
    "    model.train()\n",
    "    progress = tqdm.tqdm(itr, desc=f\"train epoch {epoch_itr.epoch}\", leave=False)\n",
    "    for samples in progress:\n",
    "        model.zero_grad()\n",
    "        accum_loss = 0\n",
    "        sample_size = 0\n",
    "        # 梯度累积：每 accum_steps 个样本更新一次\n",
    "        for i, sample in enumerate(samples):\n",
    "            if i == 1:\n",
    "                # 在第一步之后清空 CUDA 缓存可以减少 OOM（out of memory）的机会\n",
    "                torch.cuda.empty_cache()\n",
    "\n",
    "            sample = utils.move_to_cuda(sample, device=device)\n",
    "            target = sample[\"target\"]\n",
    "            sample_size_i = sample[\"ntokens\"]\n",
    "            sample_size += sample_size_i\n",
    "\n",
    "            # 混合精度训练\n",
    "            with autocast():\n",
    "                net_output = model.forward(**sample[\"net_input\"])\n",
    "                lprobs = F.log_softmax(net_output[0], -1)\n",
    "                loss = criterion(lprobs.view(-1, lprobs.size(-1)), target.view(-1))\n",
    "\n",
    "                # 日志记录\n",
    "                accum_loss += loss.item()\n",
    "                # 反向传播\n",
    "                scaler.scale(loss).backward()\n",
    "\n",
    "        scaler.unscale_(optimizer)\n",
    "        optimizer.multiply_grads(1 / (sample_size or 1.0)) # (sample_size or 1.0) 处理零梯度的情况\n",
    "        gnorm = nn.utils.clip_grad_norm_(model.parameters(), config.clip_norm) # 梯度裁剪防止梯度爆炸\n",
    "\n",
    "        scaler.step(optimizer)\n",
    "        scaler.update()\n",
    "\n",
    "        # 日志记录\n",
    "        loss_print = accum_loss/sample_size\n",
    "        stats[\"loss\"].append(loss_print)\n",
    "        progress.set_postfix(loss=loss_print)\n",
    "        if config.use_wandb:\n",
    "            wandb.log({\n",
    "                \"train/loss\": loss_print,\n",
    "                \"train/grad_norm\": gnorm.item(),\n",
    "                \"train/lr\": optimizer.rate(),\n",
    "                \"train/sample_size\": sample_size,\n",
    "            })\n",
    "\n",
    "    loss_print = np.mean(stats[\"loss\"])\n",
    "    logger.info(f\"training loss: {loss_print:.4f}\")\n",
    "    return stats"
   ]
  },
  {
   "cell_type": "markdown",
   "metadata": {
    "id": "Gt1lX3DRO_yU"
   },
   "source": [
    "## 验证 & 推测\n",
    "为了防止过拟合，每个训练周期都需要进行验证，以验证模型在未见过的数据上的性能。\n",
    "- 该过程与训练基本相同，只是多了一个推测步骤。\n",
    "- 在验证后，我们可以保存模型的权重。\n",
    "\n",
    "仅凭验证损失无法描述模型的实际性能\n",
    "- 基于当前模型直接生成翻译假设，然后使用参考翻译计算BLEU\n",
    "- 我们也可以手动检查假设的质量\n",
    "- 我们使用 fairseq 的序列生成器进行集束搜索以生成翻译假设。"
   ]
  },
  {
   "cell_type": "code",
   "execution_count": 39,
   "metadata": {
    "id": "2og80HYQPAKq"
   },
   "outputs": [],
   "source": [
    "# fairseq 的集束搜索生成器\n",
    "# 给定模型和输入序列，通过集束搜索生成翻译假设\n",
    "sequence_generator = task.build_generator([model], config)\n",
    "\n",
    "def decode(toks, dictionary):\n",
    "    # 将 Tensor 转换为人类可读的句子\n",
    "    s = dictionary.string(\n",
    "        toks.int().cpu(),\n",
    "        config.post_process,\n",
    "    )\n",
    "    return s if s else \"<unk>\"\n",
    "\n",
    "def inference_step(sample, model):\n",
    "    gen_out = sequence_generator.generate([model], sample)\n",
    "    srcs = []\n",
    "    hyps = []\n",
    "    refs = []\n",
    "    for i in range(len(gen_out)):\n",
    "        # 对于每个样本，收集输入、假设和参考，稍后用于计算 BLEU\n",
    "        srcs.append(decode(\n",
    "            utils.strip_pad(sample[\"net_input\"][\"src_tokens\"][i], task.source_dictionary.pad()),\n",
    "            task.source_dictionary,\n",
    "        ))\n",
    "        hyps.append(decode(\n",
    "            gen_out[i][0][\"tokens\"], # 0 表示使用集束中的最佳假设\n",
    "            task.target_dictionary,\n",
    "        ))\n",
    "        refs.append(decode(\n",
    "            utils.strip_pad(sample[\"target\"][i], task.target_dictionary.pad()),\n",
    "            task.target_dictionary,\n",
    "        ))\n",
    "    return srcs, hyps, refs"
   ]
  },
  {
   "cell_type": "code",
   "execution_count": 40,
   "metadata": {
    "id": "y1o7LeDkPDsd"
   },
   "outputs": [],
   "source": [
    "import shutil\n",
    "import sacrebleu\n",
    "\n",
    "def validate(model, task, criterion, log_to_wandb=True):\n",
    "    logger.info('begin validation')\n",
    "    itr = load_data_iterator(task, \"valid\", 1, config.max_tokens, config.num_workers).next_epoch_itr(shuffle=False)\n",
    "\n",
    "    stats = {\"loss\":[], \"bleu\": 0, \"srcs\":[], \"hyps\":[], \"refs\":[]}\n",
    "    srcs = []\n",
    "    hyps = []\n",
    "    refs = []\n",
    "\n",
    "    model.eval()\n",
    "    progress = tqdm.tqdm(itr, desc=f\"validation\", leave=False)\n",
    "    with torch.no_grad():\n",
    "        for i, sample in enumerate(progress):\n",
    "            # 验证损失\n",
    "            sample = utils.move_to_cuda(sample, device=device)\n",
    "            net_output = model.forward(**sample[\"net_input\"])\n",
    "\n",
    "            lprobs = F.log_softmax(net_output[0], -1)\n",
    "            target = sample[\"target\"]\n",
    "            sample_size = sample[\"ntokens\"]\n",
    "            loss = criterion(lprobs.view(-1, lprobs.size(-1)), target.view(-1)) / sample_size\n",
    "            progress.set_postfix(valid_loss=loss.item())\n",
    "            stats[\"loss\"].append(loss)\n",
    "\n",
    "            # 做推测\n",
    "            s, h, r = inference_step(sample, model)\n",
    "            srcs.extend(s)\n",
    "            hyps.extend(h)\n",
    "            refs.extend(r)\n",
    "\n",
    "    tok = 'zh' if task.cfg.target_lang == 'zh' else '13a'\n",
    "    stats[\"loss\"] = torch.stack(stats[\"loss\"]).mean().item()\n",
    "    stats[\"bleu\"] = sacrebleu.corpus_bleu(hyps, [refs], tokenize=tok) # 計算BLEU score\n",
    "    stats[\"srcs\"] = srcs\n",
    "    stats[\"hyps\"] = hyps\n",
    "    stats[\"refs\"] = refs\n",
    "\n",
    "    if config.use_wandb and log_to_wandb:\n",
    "        wandb.log({\n",
    "            \"valid/loss\": stats[\"loss\"],\n",
    "            \"valid/bleu\": stats[\"bleu\"].score,\n",
    "        }, commit=False)\n",
    "\n",
    "    showid = np.random.randint(len(hyps))\n",
    "    logger.info(\"example source: \" + srcs[showid])\n",
    "    logger.info(\"example hypothesis: \" + hyps[showid])\n",
    "    logger.info(\"example reference: \" + refs[showid])\n",
    "\n",
    "    # 显示 bleu 结果\n",
    "    logger.info(f\"validation loss:\\t{stats['loss']:.4f}\")\n",
    "    logger.info(stats[\"bleu\"].format())\n",
    "    return stats"
   ]
  },
  {
   "cell_type": "markdown",
   "metadata": {
    "id": "1sRF6nd4PGEE"
   },
   "source": [
    "# 保存和加载模型权重\n"
   ]
  },
  {
   "cell_type": "code",
   "execution_count": 41,
   "metadata": {
    "id": "edBuLlkuPGr9"
   },
   "outputs": [],
   "source": [
    "def validate_and_save(model, task, criterion, optimizer, epoch, save=True):\n",
    "    stats = validate(model, task, criterion)\n",
    "    bleu = stats['bleu']\n",
    "    loss = stats['loss']\n",
    "    if save:\n",
    "        # 保存 epoch checkpoints\n",
    "        savedir = Path(config.savedir).absolute()\n",
    "        savedir.mkdir(parents=True, exist_ok=True)\n",
    "\n",
    "        check = {\n",
    "            \"model\": model.state_dict(),\n",
    "            \"stats\": {\"bleu\": bleu.score, \"loss\": loss},\n",
    "            \"optim\": {\"step\": optimizer._step}\n",
    "        }\n",
    "        torch.save(check, savedir/f\"checkpoint{epoch}.pt\")\n",
    "        shutil.copy(savedir/f\"checkpoint{epoch}.pt\", savedir/f\"checkpoint_last.pt\")\n",
    "        logger.info(f\"saved epoch checkpoint: {savedir}/checkpoint{epoch}.pt\")\n",
    "\n",
    "        # 保存 epoch 样本\n",
    "        with open(savedir/f\"samples{epoch}.{config.source_lang}-{config.target_lang}.txt\", \"w\") as f:\n",
    "            for s, h in zip(stats[\"srcs\"], stats[\"hyps\"]):\n",
    "                f.write(f\"{s}\\t{h}\\n\")\n",
    "\n",
    "        # 获取最佳的验证 bleu\n",
    "        if getattr(validate_and_save, \"best_bleu\", 0) < bleu.score:\n",
    "            validate_and_save.best_bleu = bleu.score\n",
    "            torch.save(check, savedir/f\"checkpoint_best.pt\")\n",
    "\n",
    "        del_file = savedir / f\"checkpoint{epoch - config.keep_last_epochs}.pt\"\n",
    "        if del_file.exists():\n",
    "            del_file.unlink()\n",
    "\n",
    "    return stats\n",
    "\n",
    "def try_load_checkpoint(model, optimizer=None, name=None):\n",
    "    name = name if name else \"checkpoint_last.pt\"\n",
    "    checkpath = Path(config.savedir)/name\n",
    "    if checkpath.exists():\n",
    "        check = torch.load(checkpath)\n",
    "        model.load_state_dict(check[\"model\"])\n",
    "        stats = check[\"stats\"]\n",
    "        step = \"unknown\"\n",
    "        if optimizer != None:\n",
    "            optimizer._step = step = check[\"optim\"][\"step\"]\n",
    "        logger.info(f\"loaded checkpoint {checkpath}: step={step} loss={stats['loss']} bleu={stats['bleu']}\")\n",
    "    else:\n",
    "        logger.info(f\"no checkpoints found at {checkpath}!\")"
   ]
  },
  {
   "cell_type": "markdown",
   "metadata": {
    "id": "KyIFpibfPJ5u"
   },
   "source": [
    "# Main\n",
    "## 训练循环"
   ]
  },
  {
   "cell_type": "code",
   "execution_count": 42,
   "metadata": {
    "id": "hu7RZbCUPKQr"
   },
   "outputs": [],
   "source": [
    "model = model.to(device=device)\n",
    "criterion = criterion.to(device=device)"
   ]
  },
  {
   "cell_type": "code",
   "execution_count": 43,
   "metadata": {
    "id": "5xxlJxU2PeAo"
   },
   "outputs": [
    {
     "name": "stderr",
     "output_type": "stream",
     "text": [
      "2023-11-15 18:13:19 | INFO | hw5.seq2seq | task: TranslationTask\n",
      "2023-11-15 18:13:19 | INFO | hw5.seq2seq | encoder: RNNEncoder\n",
      "2023-11-15 18:13:19 | INFO | hw5.seq2seq | decoder: RNNDecoder\n",
      "2023-11-15 18:13:19 | INFO | hw5.seq2seq | criterion: LabelSmoothedCrossEntropyCriterion\n",
      "2023-11-15 18:13:19 | INFO | hw5.seq2seq | optimizer: NoamOpt\n",
      "2023-11-15 18:13:19 | INFO | hw5.seq2seq | num. model params: 11,247,872 (num. trained: 11,247,872)\n",
      "2023-11-15 18:13:19 | INFO | hw5.seq2seq | max tokens per batch = 8192, accumulate steps = 2\n"
     ]
    }
   ],
   "source": [
    "logger.info(\"task: {}\".format(task.__class__.__name__))\n",
    "logger.info(\"encoder: {}\".format(model.encoder.__class__.__name__))\n",
    "logger.info(\"decoder: {}\".format(model.decoder.__class__.__name__))\n",
    "logger.info(\"criterion: {}\".format(criterion.__class__.__name__))\n",
    "logger.info(\"optimizer: {}\".format(optimizer.__class__.__name__))\n",
    "logger.info(\n",
    "    \"num. model params: {:,} (num. trained: {:,})\".format(\n",
    "        sum(p.numel() for p in model.parameters()),\n",
    "        sum(p.numel() for p in model.parameters() if p.requires_grad),\n",
    "    )\n",
    ")\n",
    "logger.info(f\"max tokens per batch = {config.max_tokens}, accumulate steps = {config.accum_steps}\")"
   ]
  },
  {
   "cell_type": "code",
   "execution_count": 44,
   "metadata": {
    "id": "MSPRqpQUPfaX"
   },
   "outputs": [
    {
     "name": "stderr",
     "output_type": "stream",
     "text": [
      "2023-11-15 18:13:19 | INFO | fairseq.tasks.fairseq_task | can_reuse_epoch_itr = True\n",
      "2023-11-15 18:13:19 | INFO | fairseq.tasks.fairseq_task | reuse_dataloader = True\n",
      "2023-11-15 18:13:19 | INFO | fairseq.tasks.fairseq_task | rebuild_batches = False\n",
      "2023-11-15 18:13:19 | INFO | fairseq.tasks.fairseq_task | creating new batches for epoch 1\n",
      "2023-11-15 18:13:19 | WARNING | fairseq.tasks.fairseq_task | 1 samples have invalid sizes and will be skipped, max_positions=(1024, 1024), first few sample ids=[326653]\n",
      "2023-11-15 18:13:19 | INFO | hw5.seq2seq | no checkpoints found at checkpoints/rnn/checkpoint_last.pt!\n",
      "2023-11-15 18:13:19 | INFO | fairseq.data.iterators | grouped total_num_itrs = 790\n"
     ]
    },
    {
     "data": {
      "application/vnd.jupyter.widget-view+json": {
       "model_id": "",
       "version_major": 2,
       "version_minor": 0
      },
      "text/plain": [
       "train epoch 1:   0%|          | 0/790 [00:00<?, ?it/s]"
      ]
     },
     "metadata": {},
     "output_type": "display_data"
    },
    {
     "name": "stderr",
     "output_type": "stream",
     "text": [
      "2023-11-15 18:14:32 | INFO | hw5.seq2seq | training loss: 7.1006\n",
      "2023-11-15 18:14:32 | INFO | hw5.seq2seq | begin validation\n",
      "2023-11-15 18:14:32 | INFO | fairseq.tasks.fairseq_task | can_reuse_epoch_itr = True\n",
      "2023-11-15 18:14:32 | INFO | fairseq.tasks.fairseq_task | reuse_dataloader = True\n",
      "2023-11-15 18:14:32 | INFO | fairseq.tasks.fairseq_task | rebuild_batches = False\n",
      "2023-11-15 18:14:32 | INFO | fairseq.tasks.fairseq_task | creating new batches for epoch 1\n"
     ]
    },
    {
     "data": {
      "application/vnd.jupyter.widget-view+json": {
       "model_id": "",
       "version_major": 2,
       "version_minor": 0
      },
      "text/plain": [
       "validation:   0%|          | 0/22 [00:00<?, ?it/s]"
      ]
     },
     "metadata": {},
     "output_type": "display_data"
    },
    {
     "name": "stderr",
     "output_type": "stream",
     "text": [
      "2023-11-15 18:14:40 | INFO | hw5.seq2seq | example source: for the first time in the united states , a predominantly white group of voters voted for an africanamerican candidate for president .\n",
      "2023-11-15 18:14:40 | INFO | hw5.seq2seq | example hypothesis: 一年 , 一年 , 一年 , 一年 , 一年 , 一年 。 」\n",
      "2023-11-15 18:14:40 | INFO | hw5.seq2seq | example reference: 美國有史以來 , 大多數白人選民首次投票給一位非洲裔候選人\n",
      "2023-11-15 18:14:40 | INFO | hw5.seq2seq | validation loss:\t6.6061\n",
      "2023-11-15 18:14:40 | INFO | hw5.seq2seq | BLEU = 0.05 17.1/0.6/0.0/0.0 (BP = 0.435 ratio = 0.546 hyp_len = 60297 ref_len = 110430)\n",
      "2023-11-15 18:14:40 | INFO | hw5.seq2seq | saved epoch checkpoint: /home/hoperj/DeepLearning/HUNG-YI_LEE_Machine-Learning_Homework/HW05/zh/checkpoints/rnn/checkpoint1.pt\n",
      "2023-11-15 18:14:40 | INFO | hw5.seq2seq | end of epoch 1\n",
      "2023-11-15 18:14:40 | INFO | fairseq.tasks.fairseq_task | can_reuse_epoch_itr = True\n",
      "2023-11-15 18:14:40 | INFO | fairseq.data.iterators | grouped total_num_itrs = 790\n"
     ]
    },
    {
     "data": {
      "application/vnd.jupyter.widget-view+json": {
       "model_id": "",
       "version_major": 2,
       "version_minor": 0
      },
      "text/plain": [
       "train epoch 2:   0%|          | 0/790 [00:00<?, ?it/s]"
      ]
     },
     "metadata": {},
     "output_type": "display_data"
    },
    {
     "name": "stderr",
     "output_type": "stream",
     "text": [
      "2023-11-15 18:15:54 | INFO | hw5.seq2seq | training loss: 6.3447\n",
      "2023-11-15 18:15:54 | INFO | hw5.seq2seq | begin validation\n",
      "2023-11-15 18:15:54 | INFO | fairseq.tasks.fairseq_task | can_reuse_epoch_itr = True\n"
     ]
    },
    {
     "data": {
      "application/vnd.jupyter.widget-view+json": {
       "model_id": "",
       "version_major": 2,
       "version_minor": 0
      },
      "text/plain": [
       "validation:   0%|          | 0/22 [00:00<?, ?it/s]"
      ]
     },
     "metadata": {},
     "output_type": "display_data"
    },
    {
     "name": "stderr",
     "output_type": "stream",
     "text": [
      "2023-11-15 18:16:03 | INFO | hw5.seq2seq | example source: and it just sounds like the most egotistical request you could make , if you were going to pray .\n",
      "2023-11-15 18:16:03 | INFO | hw5.seq2seq | example hypothesis: 很重要的 , 我們也要在這個人 , 會讓他們 , 都能做什麼 。\n",
      "2023-11-15 18:16:03 | INFO | hw5.seq2seq | example reference: 這聽起來像是你所能想到的最自我中心的禱告祈求 。\n",
      "2023-11-15 18:16:03 | INFO | hw5.seq2seq | validation loss:\t5.9830\n",
      "2023-11-15 18:16:03 | INFO | hw5.seq2seq | BLEU = 0.90 19.2/2.5/0.4/0.1 (BP = 0.865 ratio = 0.873 hyp_len = 96429 ref_len = 110430)\n",
      "2023-11-15 18:16:03 | INFO | hw5.seq2seq | saved epoch checkpoint: /home/hoperj/DeepLearning/HUNG-YI_LEE_Machine-Learning_Homework/HW05/zh/checkpoints/rnn/checkpoint2.pt\n",
      "2023-11-15 18:16:03 | INFO | hw5.seq2seq | end of epoch 2\n",
      "2023-11-15 18:16:03 | INFO | fairseq.tasks.fairseq_task | can_reuse_epoch_itr = True\n",
      "2023-11-15 18:16:03 | INFO | fairseq.data.iterators | grouped total_num_itrs = 790\n"
     ]
    },
    {
     "data": {
      "application/vnd.jupyter.widget-view+json": {
       "model_id": "",
       "version_major": 2,
       "version_minor": 0
      },
      "text/plain": [
       "train epoch 3:   0%|          | 0/790 [00:00<?, ?it/s]"
      ]
     },
     "metadata": {},
     "output_type": "display_data"
    },
    {
     "name": "stderr",
     "output_type": "stream",
     "text": [
      "2023-11-15 18:17:18 | INFO | hw5.seq2seq | training loss: 5.7720\n",
      "2023-11-15 18:17:18 | INFO | hw5.seq2seq | begin validation\n",
      "2023-11-15 18:17:18 | INFO | fairseq.tasks.fairseq_task | can_reuse_epoch_itr = True\n"
     ]
    },
    {
     "data": {
      "application/vnd.jupyter.widget-view+json": {
       "model_id": "",
       "version_major": 2,
       "version_minor": 0
      },
      "text/plain": [
       "validation:   0%|          | 0/22 [00:00<?, ?it/s]"
      ]
     },
     "metadata": {},
     "output_type": "display_data"
    },
    {
     "name": "stderr",
     "output_type": "stream",
     "text": [
      "2023-11-15 18:17:28 | INFO | hw5.seq2seq | example source: but empathy really should get you points if you do it when it's hard to do .\n",
      "2023-11-15 18:17:28 | INFO | hw5.seq2seq | example hypothesis: 但是 , 請你去做什麼事 , 你就知道你會做什麼事 。\n",
      "2023-11-15 18:17:28 | INFO | hw5.seq2seq | example reference: 同理心應該是在很難有同理心的情況下產生才能夠得分才對 。\n",
      "2023-11-15 18:17:28 | INFO | hw5.seq2seq | validation loss:\t5.4271\n",
      "2023-11-15 18:17:28 | INFO | hw5.seq2seq | BLEU = 2.07 18.7/3.7/0.9/0.3 (BP = 1.000 ratio = 1.109 hyp_len = 122463 ref_len = 110430)\n",
      "2023-11-15 18:17:28 | INFO | hw5.seq2seq | saved epoch checkpoint: /home/hoperj/DeepLearning/HUNG-YI_LEE_Machine-Learning_Homework/HW05/zh/checkpoints/rnn/checkpoint3.pt\n",
      "2023-11-15 18:17:28 | INFO | hw5.seq2seq | end of epoch 3\n",
      "2023-11-15 18:17:28 | INFO | fairseq.tasks.fairseq_task | can_reuse_epoch_itr = True\n",
      "2023-11-15 18:17:28 | INFO | fairseq.data.iterators | grouped total_num_itrs = 790\n"
     ]
    },
    {
     "data": {
      "application/vnd.jupyter.widget-view+json": {
       "model_id": "",
       "version_major": 2,
       "version_minor": 0
      },
      "text/plain": [
       "train epoch 4:   0%|          | 0/790 [00:00<?, ?it/s]"
      ]
     },
     "metadata": {},
     "output_type": "display_data"
    },
    {
     "name": "stderr",
     "output_type": "stream",
     "text": [
      "2023-11-15 18:18:43 | INFO | hw5.seq2seq | training loss: 5.3017\n",
      "2023-11-15 18:18:43 | INFO | hw5.seq2seq | begin validation\n",
      "2023-11-15 18:18:43 | INFO | fairseq.tasks.fairseq_task | can_reuse_epoch_itr = True\n"
     ]
    },
    {
     "data": {
      "application/vnd.jupyter.widget-view+json": {
       "model_id": "",
       "version_major": 2,
       "version_minor": 0
      },
      "text/plain": [
       "validation:   0%|          | 0/22 [00:00<?, ?it/s]"
      ]
     },
     "metadata": {},
     "output_type": "display_data"
    },
    {
     "name": "stderr",
     "output_type": "stream",
     "text": [
      "2023-11-15 18:18:52 | INFO | hw5.seq2seq | example source: but most biologics also have a flaw .\n",
      "2023-11-15 18:18:52 | INFO | hw5.seq2seq | example hypothesis: 但大部分生物的生物物種 。\n",
      "2023-11-15 18:18:52 | INFO | hw5.seq2seq | example reference: 但 , 大部分的生物藥都有個瑕疵 。\n",
      "2023-11-15 18:18:52 | INFO | hw5.seq2seq | validation loss:\t4.9340\n",
      "2023-11-15 18:18:52 | INFO | hw5.seq2seq | BLEU = 7.10 31.4/11.5/5.1/2.4 (BP = 0.869 ratio = 0.877 hyp_len = 96809 ref_len = 110430)\n",
      "2023-11-15 18:18:52 | INFO | hw5.seq2seq | saved epoch checkpoint: /home/hoperj/DeepLearning/HUNG-YI_LEE_Machine-Learning_Homework/HW05/zh/checkpoints/rnn/checkpoint4.pt\n",
      "2023-11-15 18:18:52 | INFO | hw5.seq2seq | end of epoch 4\n",
      "2023-11-15 18:18:52 | INFO | fairseq.tasks.fairseq_task | can_reuse_epoch_itr = True\n",
      "2023-11-15 18:18:52 | INFO | fairseq.data.iterators | grouped total_num_itrs = 790\n"
     ]
    },
    {
     "data": {
      "application/vnd.jupyter.widget-view+json": {
       "model_id": "",
       "version_major": 2,
       "version_minor": 0
      },
      "text/plain": [
       "train epoch 5:   0%|          | 0/790 [00:00<?, ?it/s]"
      ]
     },
     "metadata": {},
     "output_type": "display_data"
    },
    {
     "name": "stderr",
     "output_type": "stream",
     "text": [
      "2023-11-15 18:20:06 | INFO | hw5.seq2seq | training loss: 4.9152\n",
      "2023-11-15 18:20:06 | INFO | hw5.seq2seq | begin validation\n",
      "2023-11-15 18:20:06 | INFO | fairseq.tasks.fairseq_task | can_reuse_epoch_itr = True\n"
     ]
    },
    {
     "data": {
      "application/vnd.jupyter.widget-view+json": {
       "model_id": "",
       "version_major": 2,
       "version_minor": 0
      },
      "text/plain": [
       "validation:   0%|          | 0/22 [00:00<?, ?it/s]"
      ]
     },
     "metadata": {},
     "output_type": "display_data"
    },
    {
     "name": "stderr",
     "output_type": "stream",
     "text": [
      "2023-11-15 18:20:15 | INFO | hw5.seq2seq | example source: but i believe now that we're moving into a new age , and that age the new york times dubbed recently as \" the age of behavior . \"\n",
      "2023-11-15 18:20:15 | INFO | hw5.seq2seq | example hypothesis: 但我相信我們現在正在改變一個新的年齡 , 而這個年齡的歷史 , 《紐約時報》的時代 , 數位革命了新時代 。\n",
      "2023-11-15 18:20:15 | INFO | hw5.seq2seq | example reference: 但我相信現在我們正在進入一個新的時代 , 而且最近這個時代被紐約時報稱為 「 行為的時代 」 。\n",
      "2023-11-15 18:20:15 | INFO | hw5.seq2seq | validation loss:\t4.5939\n",
      "2023-11-15 18:20:15 | INFO | hw5.seq2seq | BLEU = 10.33 32.9/14.0/6.9/3.6 (BP = 1.000 ratio = 1.011 hyp_len = 111643 ref_len = 110430)\n",
      "2023-11-15 18:20:15 | INFO | hw5.seq2seq | saved epoch checkpoint: /home/hoperj/DeepLearning/HUNG-YI_LEE_Machine-Learning_Homework/HW05/zh/checkpoints/rnn/checkpoint5.pt\n",
      "2023-11-15 18:20:15 | INFO | hw5.seq2seq | end of epoch 5\n",
      "2023-11-15 18:20:15 | INFO | fairseq.tasks.fairseq_task | can_reuse_epoch_itr = True\n",
      "2023-11-15 18:20:15 | INFO | fairseq.data.iterators | grouped total_num_itrs = 790\n"
     ]
    },
    {
     "data": {
      "application/vnd.jupyter.widget-view+json": {
       "model_id": "",
       "version_major": 2,
       "version_minor": 0
      },
      "text/plain": [
       "train epoch 6:   0%|          | 0/790 [00:00<?, ?it/s]"
      ]
     },
     "metadata": {},
     "output_type": "display_data"
    },
    {
     "name": "stderr",
     "output_type": "stream",
     "text": [
      "2023-11-15 18:21:29 | INFO | hw5.seq2seq | training loss: 4.6943\n",
      "2023-11-15 18:21:29 | INFO | hw5.seq2seq | begin validation\n",
      "2023-11-15 18:21:29 | INFO | fairseq.tasks.fairseq_task | can_reuse_epoch_itr = True\n"
     ]
    },
    {
     "data": {
      "application/vnd.jupyter.widget-view+json": {
       "model_id": "",
       "version_major": 2,
       "version_minor": 0
      },
      "text/plain": [
       "validation:   0%|          | 0/22 [00:00<?, ?it/s]"
      ]
     },
     "metadata": {},
     "output_type": "display_data"
    },
    {
     "name": "stderr",
     "output_type": "stream",
     "text": [
      "2023-11-15 18:21:38 | INFO | hw5.seq2seq | example source: as we have hot blood running through our veins and arteries , so , too , the earth has hot water running through its cracks and faults .\n",
      "2023-11-15 18:21:38 | INFO | hw5.seq2seq | example hypothesis: 隨著我們的海豚和客戶來說 , 地球有熱水流行 , 所以 , 地球的水流動在我們的海域中 , 來到我們的海豚和客戶 。\n",
      "2023-11-15 18:21:38 | INFO | hw5.seq2seq | example reference: 就如我們身體𥚃有熱騰騰的血液經過靜脈和動脈 , 同樣地 , 地球也有熱流穿過它的裂縫和斷層 。\n",
      "2023-11-15 18:21:38 | INFO | hw5.seq2seq | validation loss:\t4.3978\n",
      "2023-11-15 18:21:38 | INFO | hw5.seq2seq | BLEU = 12.22 38.3/17.6/8.9/4.8 (BP = 0.936 ratio = 0.938 hyp_len = 103587 ref_len = 110430)\n",
      "2023-11-15 18:21:38 | INFO | hw5.seq2seq | saved epoch checkpoint: /home/hoperj/DeepLearning/HUNG-YI_LEE_Machine-Learning_Homework/HW05/zh/checkpoints/rnn/checkpoint6.pt\n",
      "2023-11-15 18:21:38 | INFO | hw5.seq2seq | end of epoch 6\n",
      "2023-11-15 18:21:38 | INFO | fairseq.tasks.fairseq_task | can_reuse_epoch_itr = True\n",
      "2023-11-15 18:21:38 | INFO | fairseq.data.iterators | grouped total_num_itrs = 790\n"
     ]
    },
    {
     "data": {
      "application/vnd.jupyter.widget-view+json": {
       "model_id": "",
       "version_major": 2,
       "version_minor": 0
      },
      "text/plain": [
       "train epoch 7:   0%|          | 0/790 [00:00<?, ?it/s]"
      ]
     },
     "metadata": {},
     "output_type": "display_data"
    },
    {
     "name": "stderr",
     "output_type": "stream",
     "text": [
      "2023-11-15 18:22:52 | INFO | hw5.seq2seq | training loss: 4.5340\n",
      "2023-11-15 18:22:52 | INFO | hw5.seq2seq | begin validation\n",
      "2023-11-15 18:22:52 | INFO | fairseq.tasks.fairseq_task | can_reuse_epoch_itr = True\n"
     ]
    },
    {
     "data": {
      "application/vnd.jupyter.widget-view+json": {
       "model_id": "",
       "version_major": 2,
       "version_minor": 0
      },
      "text/plain": [
       "validation:   0%|          | 0/22 [00:00<?, ?it/s]"
      ]
     },
     "metadata": {},
     "output_type": "display_data"
    },
    {
     "name": "stderr",
     "output_type": "stream",
     "text": [
      "2023-11-15 18:23:01 | INFO | hw5.seq2seq | example source: entirely new requirement .\n",
      "2023-11-15 18:23:01 | INFO | hw5.seq2seq | example hypothesis: 全新的需求 。\n",
      "2023-11-15 18:23:01 | INFO | hw5.seq2seq | example reference: 這是全新的要求 。\n",
      "2023-11-15 18:23:01 | INFO | hw5.seq2seq | validation loss:\t4.3023\n",
      "2023-11-15 18:23:01 | INFO | hw5.seq2seq | BLEU = 12.82 43.1/20.6/10.8/6.0 (BP = 0.828 ratio = 0.842 hyp_len = 92933 ref_len = 110430)\n",
      "2023-11-15 18:23:01 | INFO | hw5.seq2seq | saved epoch checkpoint: /home/hoperj/DeepLearning/HUNG-YI_LEE_Machine-Learning_Homework/HW05/zh/checkpoints/rnn/checkpoint7.pt\n",
      "2023-11-15 18:23:01 | INFO | hw5.seq2seq | end of epoch 7\n",
      "2023-11-15 18:23:01 | INFO | fairseq.tasks.fairseq_task | can_reuse_epoch_itr = True\n",
      "2023-11-15 18:23:01 | INFO | fairseq.data.iterators | grouped total_num_itrs = 790\n"
     ]
    },
    {
     "data": {
      "application/vnd.jupyter.widget-view+json": {
       "model_id": "",
       "version_major": 2,
       "version_minor": 0
      },
      "text/plain": [
       "train epoch 8:   0%|          | 0/790 [00:00<?, ?it/s]"
      ]
     },
     "metadata": {},
     "output_type": "display_data"
    },
    {
     "name": "stderr",
     "output_type": "stream",
     "text": [
      "2023-11-15 18:24:14 | INFO | hw5.seq2seq | training loss: 4.4320\n",
      "2023-11-15 18:24:14 | INFO | hw5.seq2seq | begin validation\n",
      "2023-11-15 18:24:14 | INFO | fairseq.tasks.fairseq_task | can_reuse_epoch_itr = True\n"
     ]
    },
    {
     "data": {
      "application/vnd.jupyter.widget-view+json": {
       "model_id": "",
       "version_major": 2,
       "version_minor": 0
      },
      "text/plain": [
       "validation:   0%|          | 0/22 [00:00<?, ?it/s]"
      ]
     },
     "metadata": {},
     "output_type": "display_data"
    },
    {
     "name": "stderr",
     "output_type": "stream",
     "text": [
      "2023-11-15 18:24:23 | INFO | hw5.seq2seq | example source: by 1960 we had telephone bills , bank statements were being produced by computers .\n",
      "2023-11-15 18:24:23 | INFO | hw5.seq2seq | example hypothesis: 1960年 , 銀行的銀行 , 銀行 , 銀行 , 銀行 , 銀行 , 銀行 , 銀行 , 銀行 。\n",
      "2023-11-15 18:24:23 | INFO | hw5.seq2seq | example reference: 到了1960年 , 我們的電話和銀行帳單都交由電腦處理\n",
      "2023-11-15 18:24:23 | INFO | hw5.seq2seq | validation loss:\t4.1894\n",
      "2023-11-15 18:24:23 | INFO | hw5.seq2seq | BLEU = 14.35 42.9/20.8/11.1/6.3 (BP = 0.909 ratio = 0.913 hyp_len = 100858 ref_len = 110430)\n",
      "2023-11-15 18:24:23 | INFO | hw5.seq2seq | saved epoch checkpoint: /home/hoperj/DeepLearning/HUNG-YI_LEE_Machine-Learning_Homework/HW05/zh/checkpoints/rnn/checkpoint8.pt\n",
      "2023-11-15 18:24:23 | INFO | hw5.seq2seq | end of epoch 8\n",
      "2023-11-15 18:24:23 | INFO | fairseq.tasks.fairseq_task | can_reuse_epoch_itr = True\n",
      "2023-11-15 18:24:23 | INFO | fairseq.data.iterators | grouped total_num_itrs = 790\n"
     ]
    },
    {
     "data": {
      "application/vnd.jupyter.widget-view+json": {
       "model_id": "",
       "version_major": 2,
       "version_minor": 0
      },
      "text/plain": [
       "train epoch 9:   0%|          | 0/790 [00:00<?, ?it/s]"
      ]
     },
     "metadata": {},
     "output_type": "display_data"
    },
    {
     "name": "stderr",
     "output_type": "stream",
     "text": [
      "2023-11-15 18:25:37 | INFO | hw5.seq2seq | training loss: 4.3585\n",
      "2023-11-15 18:25:37 | INFO | hw5.seq2seq | begin validation\n",
      "2023-11-15 18:25:37 | INFO | fairseq.tasks.fairseq_task | can_reuse_epoch_itr = True\n"
     ]
    },
    {
     "data": {
      "application/vnd.jupyter.widget-view+json": {
       "model_id": "",
       "version_major": 2,
       "version_minor": 0
      },
      "text/plain": [
       "validation:   0%|          | 0/22 [00:00<?, ?it/s]"
      ]
     },
     "metadata": {},
     "output_type": "display_data"
    },
    {
     "name": "stderr",
     "output_type": "stream",
     "text": [
      "2023-11-15 18:25:46 | INFO | hw5.seq2seq | example source: they started making their own video games .\n",
      "2023-11-15 18:25:46 | INFO | hw5.seq2seq | example hypothesis: 他們開始製作自己的影片遊戲 。\n",
      "2023-11-15 18:25:46 | INFO | hw5.seq2seq | example reference: 他們開始製造自己的電玩遊戲 。\n",
      "2023-11-15 18:25:46 | INFO | hw5.seq2seq | validation loss:\t4.1391\n",
      "2023-11-15 18:25:46 | INFO | hw5.seq2seq | BLEU = 15.06 43.1/21.1/11.3/6.3 (BP = 0.944 ratio = 0.946 hyp_len = 104423 ref_len = 110430)\n",
      "2023-11-15 18:25:46 | INFO | hw5.seq2seq | saved epoch checkpoint: /home/hoperj/DeepLearning/HUNG-YI_LEE_Machine-Learning_Homework/HW05/zh/checkpoints/rnn/checkpoint9.pt\n",
      "2023-11-15 18:25:46 | INFO | hw5.seq2seq | end of epoch 9\n",
      "2023-11-15 18:25:46 | INFO | fairseq.tasks.fairseq_task | can_reuse_epoch_itr = True\n",
      "2023-11-15 18:25:46 | INFO | fairseq.data.iterators | grouped total_num_itrs = 790\n"
     ]
    },
    {
     "data": {
      "application/vnd.jupyter.widget-view+json": {
       "model_id": "",
       "version_major": 2,
       "version_minor": 0
      },
      "text/plain": [
       "train epoch 10:   0%|          | 0/790 [00:00<?, ?it/s]"
      ]
     },
     "metadata": {},
     "output_type": "display_data"
    },
    {
     "name": "stderr",
     "output_type": "stream",
     "text": [
      "2023-11-15 18:27:01 | INFO | hw5.seq2seq | training loss: 4.2966\n",
      "2023-11-15 18:27:01 | INFO | hw5.seq2seq | begin validation\n",
      "2023-11-15 18:27:01 | INFO | fairseq.tasks.fairseq_task | can_reuse_epoch_itr = True\n"
     ]
    },
    {
     "data": {
      "application/vnd.jupyter.widget-view+json": {
       "model_id": "",
       "version_major": 2,
       "version_minor": 0
      },
      "text/plain": [
       "validation:   0%|          | 0/22 [00:00<?, ?it/s]"
      ]
     },
     "metadata": {},
     "output_type": "display_data"
    },
    {
     "name": "stderr",
     "output_type": "stream",
     "text": [
      "2023-11-15 18:27:11 | INFO | hw5.seq2seq | example source: a perfect example of this is spanish contemporary artist fernando vicente .\n",
      "2023-11-15 18:27:11 | INFO | hw5.seq2seq | example hypothesis: 一個完美的例子是西班牙藝術家甘迺迪 。\n",
      "2023-11-15 18:27:11 | INFO | hw5.seq2seq | example reference: 一個最有代表性的例子是西班牙現代藝術家費南多·維森特 。\n",
      "2023-11-15 18:27:11 | INFO | hw5.seq2seq | validation loss:\t4.0866\n",
      "2023-11-15 18:27:11 | INFO | hw5.seq2seq | BLEU = 15.55 42.8/20.9/11.3/6.3 (BP = 0.978 ratio = 0.978 hyp_len = 107978 ref_len = 110430)\n",
      "2023-11-15 18:27:11 | INFO | hw5.seq2seq | saved epoch checkpoint: /home/hoperj/DeepLearning/HUNG-YI_LEE_Machine-Learning_Homework/HW05/zh/checkpoints/rnn/checkpoint10.pt\n",
      "2023-11-15 18:27:11 | INFO | hw5.seq2seq | end of epoch 10\n",
      "2023-11-15 18:27:11 | INFO | fairseq.tasks.fairseq_task | can_reuse_epoch_itr = True\n",
      "2023-11-15 18:27:11 | INFO | fairseq.data.iterators | grouped total_num_itrs = 790\n"
     ]
    },
    {
     "data": {
      "application/vnd.jupyter.widget-view+json": {
       "model_id": "",
       "version_major": 2,
       "version_minor": 0
      },
      "text/plain": [
       "train epoch 11:   0%|          | 0/790 [00:00<?, ?it/s]"
      ]
     },
     "metadata": {},
     "output_type": "display_data"
    },
    {
     "name": "stderr",
     "output_type": "stream",
     "text": [
      "2023-11-15 18:28:26 | INFO | hw5.seq2seq | training loss: 4.2502\n",
      "2023-11-15 18:28:26 | INFO | hw5.seq2seq | begin validation\n",
      "2023-11-15 18:28:26 | INFO | fairseq.tasks.fairseq_task | can_reuse_epoch_itr = True\n"
     ]
    },
    {
     "data": {
      "application/vnd.jupyter.widget-view+json": {
       "model_id": "",
       "version_major": 2,
       "version_minor": 0
      },
      "text/plain": [
       "validation:   0%|          | 0/22 [00:00<?, ?it/s]"
      ]
     },
     "metadata": {},
     "output_type": "display_data"
    },
    {
     "name": "stderr",
     "output_type": "stream",
     "text": [
      "2023-11-15 18:28:36 | INFO | hw5.seq2seq | example source: right . as you can see , bart simpson is having a little argument .\n",
      "2023-11-15 18:28:36 | INFO | hw5.seq2seq | example hypothesis: 如你所見 , 巴特·史蒂芬森的辯論是有一些辯論 。\n",
      "2023-11-15 18:28:36 | INFO | hw5.seq2seq | example reference: 好 , 如你所見bartsimpson正和它老爸爭執\n",
      "2023-11-15 18:28:36 | INFO | hw5.seq2seq | validation loss:\t4.0442\n",
      "2023-11-15 18:28:36 | INFO | hw5.seq2seq | BLEU = 15.36 41.0/20.2/10.9/6.2 (BP = 1.000 ratio = 1.051 hyp_len = 116094 ref_len = 110430)\n",
      "2023-11-15 18:28:36 | INFO | hw5.seq2seq | saved epoch checkpoint: /home/hoperj/DeepLearning/HUNG-YI_LEE_Machine-Learning_Homework/HW05/zh/checkpoints/rnn/checkpoint11.pt\n",
      "2023-11-15 18:28:36 | INFO | hw5.seq2seq | end of epoch 11\n",
      "2023-11-15 18:28:36 | INFO | fairseq.tasks.fairseq_task | can_reuse_epoch_itr = True\n",
      "2023-11-15 18:28:36 | INFO | fairseq.data.iterators | grouped total_num_itrs = 790\n"
     ]
    },
    {
     "data": {
      "application/vnd.jupyter.widget-view+json": {
       "model_id": "",
       "version_major": 2,
       "version_minor": 0
      },
      "text/plain": [
       "train epoch 12:   0%|          | 0/790 [00:00<?, ?it/s]"
      ]
     },
     "metadata": {},
     "output_type": "display_data"
    },
    {
     "name": "stderr",
     "output_type": "stream",
     "text": [
      "2023-11-15 18:29:50 | INFO | hw5.seq2seq | training loss: 4.2093\n",
      "2023-11-15 18:29:50 | INFO | hw5.seq2seq | begin validation\n",
      "2023-11-15 18:29:50 | INFO | fairseq.tasks.fairseq_task | can_reuse_epoch_itr = True\n"
     ]
    },
    {
     "data": {
      "application/vnd.jupyter.widget-view+json": {
       "model_id": "",
       "version_major": 2,
       "version_minor": 0
      },
      "text/plain": [
       "validation:   0%|          | 0/22 [00:00<?, ?it/s]"
      ]
     },
     "metadata": {},
     "output_type": "display_data"
    },
    {
     "name": "stderr",
     "output_type": "stream",
     "text": [
      "2023-11-15 18:29:59 | INFO | hw5.seq2seq | example source: and if we look to the future , it's an unsustainable diet .\n",
      "2023-11-15 18:29:59 | INFO | hw5.seq2seq | example hypothesis: 如果我們看看未來 , 它是永續的飲食 。\n",
      "2023-11-15 18:29:59 | INFO | hw5.seq2seq | example reference: 如果我們想一想未來這絕不是長久之計\n",
      "2023-11-15 18:29:59 | INFO | hw5.seq2seq | validation loss:\t4.0163\n",
      "2023-11-15 18:29:59 | INFO | hw5.seq2seq | BLEU = 16.40 45.4/22.8/12.4/7.1 (BP = 0.945 ratio = 0.946 hyp_len = 104481 ref_len = 110430)\n",
      "2023-11-15 18:29:59 | INFO | hw5.seq2seq | saved epoch checkpoint: /home/hoperj/DeepLearning/HUNG-YI_LEE_Machine-Learning_Homework/HW05/zh/checkpoints/rnn/checkpoint12.pt\n",
      "2023-11-15 18:29:59 | INFO | hw5.seq2seq | end of epoch 12\n",
      "2023-11-15 18:29:59 | INFO | fairseq.tasks.fairseq_task | can_reuse_epoch_itr = True\n",
      "2023-11-15 18:29:59 | INFO | fairseq.data.iterators | grouped total_num_itrs = 790\n"
     ]
    },
    {
     "data": {
      "application/vnd.jupyter.widget-view+json": {
       "model_id": "",
       "version_major": 2,
       "version_minor": 0
      },
      "text/plain": [
       "train epoch 13:   0%|          | 0/790 [00:00<?, ?it/s]"
      ]
     },
     "metadata": {},
     "output_type": "display_data"
    },
    {
     "name": "stderr",
     "output_type": "stream",
     "text": [
      "2023-11-15 18:31:13 | INFO | hw5.seq2seq | training loss: 4.1805\n",
      "2023-11-15 18:31:13 | INFO | hw5.seq2seq | begin validation\n",
      "2023-11-15 18:31:13 | INFO | fairseq.tasks.fairseq_task | can_reuse_epoch_itr = True\n"
     ]
    },
    {
     "data": {
      "application/vnd.jupyter.widget-view+json": {
       "model_id": "e6c933070a37444f873edd7698af914c",
       "version_major": 2,
       "version_minor": 0
      },
      "text/plain": [
       "validation:   0%|          | 0/22 [00:00<?, ?it/s]"
      ]
     },
     "metadata": {},
     "output_type": "display_data"
    },
    {
     "name": "stderr",
     "output_type": "stream",
     "text": [
      "2023-11-15 18:31:22 | INFO | hw5.seq2seq | example source: when you govern through fear and you govern through cruelty , it just doesn't work .\n",
      "2023-11-15 18:31:22 | INFO | hw5.seq2seq | example hypothesis: 當你從恐懼中走過來 , 只是沒有工作 。\n",
      "2023-11-15 18:31:22 | INFO | hw5.seq2seq | example reference: 透過恐懼 , 透過殘忍來治理國家 , 這是行不通的 。\n",
      "2023-11-15 18:31:22 | INFO | hw5.seq2seq | validation loss:\t3.9980\n",
      "2023-11-15 18:31:22 | INFO | hw5.seq2seq | BLEU = 16.40 45.7/22.9/12.5/7.2 (BP = 0.938 ratio = 0.940 hyp_len = 103799 ref_len = 110430)\n",
      "2023-11-15 18:31:22 | INFO | hw5.seq2seq | saved epoch checkpoint: /home/hoperj/DeepLearning/HUNG-YI_LEE_Machine-Learning_Homework/HW05/zh/checkpoints/rnn/checkpoint13.pt\n",
      "2023-11-15 18:31:22 | INFO | hw5.seq2seq | end of epoch 13\n",
      "2023-11-15 18:31:22 | INFO | fairseq.tasks.fairseq_task | can_reuse_epoch_itr = True\n",
      "2023-11-15 18:31:22 | INFO | fairseq.data.iterators | grouped total_num_itrs = 790\n"
     ]
    },
    {
     "data": {
      "application/vnd.jupyter.widget-view+json": {
       "model_id": "fbee695b668e4f1d99070dfd7bfdfb21",
       "version_major": 2,
       "version_minor": 0
      },
      "text/plain": [
       "train epoch 14:   0%|          | 0/790 [00:00<?, ?it/s]"
      ]
     },
     "metadata": {},
     "output_type": "display_data"
    },
    {
     "name": "stderr",
     "output_type": "stream",
     "text": [
      "2023-11-15 18:32:35 | INFO | hw5.seq2seq | training loss: 4.1507\n",
      "2023-11-15 18:32:35 | INFO | hw5.seq2seq | begin validation\n",
      "2023-11-15 18:32:35 | INFO | fairseq.tasks.fairseq_task | can_reuse_epoch_itr = True\n"
     ]
    },
    {
     "data": {
      "application/vnd.jupyter.widget-view+json": {
       "model_id": "4f19f8750cf24f8d8c53aea2d0a1c53e",
       "version_major": 2,
       "version_minor": 0
      },
      "text/plain": [
       "validation:   0%|          | 0/22 [00:00<?, ?it/s]"
      ]
     },
     "metadata": {},
     "output_type": "display_data"
    },
    {
     "name": "stderr",
     "output_type": "stream",
     "text": [
      "2023-11-15 18:32:44 | INFO | hw5.seq2seq | example source: this project breaks ground in just two months .\n",
      "2023-11-15 18:32:44 | INFO | hw5.seq2seq | example hypothesis: 這個計畫打破了兩個月 。\n",
      "2023-11-15 18:32:44 | INFO | hw5.seq2seq | example reference: 這個計畫再兩個月就要開工了 。\n",
      "2023-11-15 18:32:44 | INFO | hw5.seq2seq | validation loss:\t3.9808\n",
      "2023-11-15 18:32:44 | INFO | hw5.seq2seq | BLEU = 16.61 46.6/23.6/12.9/7.4 (BP = 0.924 ratio = 0.927 hyp_len = 102377 ref_len = 110430)\n",
      "2023-11-15 18:32:44 | INFO | hw5.seq2seq | saved epoch checkpoint: /home/hoperj/DeepLearning/HUNG-YI_LEE_Machine-Learning_Homework/HW05/zh/checkpoints/rnn/checkpoint14.pt\n",
      "2023-11-15 18:32:44 | INFO | hw5.seq2seq | end of epoch 14\n",
      "2023-11-15 18:32:44 | INFO | fairseq.tasks.fairseq_task | can_reuse_epoch_itr = True\n",
      "2023-11-15 18:32:44 | INFO | fairseq.data.iterators | grouped total_num_itrs = 790\n"
     ]
    },
    {
     "data": {
      "application/vnd.jupyter.widget-view+json": {
       "model_id": "3efb393550914158a461ec1e15cfb068",
       "version_major": 2,
       "version_minor": 0
      },
      "text/plain": [
       "train epoch 15:   0%|          | 0/790 [00:00<?, ?it/s]"
      ]
     },
     "metadata": {},
     "output_type": "display_data"
    },
    {
     "name": "stderr",
     "output_type": "stream",
     "text": [
      "2023-11-15 18:33:58 | INFO | hw5.seq2seq | training loss: 4.1270\n",
      "2023-11-15 18:33:58 | INFO | hw5.seq2seq | begin validation\n",
      "2023-11-15 18:33:58 | INFO | fairseq.tasks.fairseq_task | can_reuse_epoch_itr = True\n"
     ]
    },
    {
     "data": {
      "application/vnd.jupyter.widget-view+json": {
       "model_id": "06f023a947ee4613b33b6f7c3691dbae",
       "version_major": 2,
       "version_minor": 0
      },
      "text/plain": [
       "validation:   0%|          | 0/22 [00:00<?, ?it/s]"
      ]
     },
     "metadata": {},
     "output_type": "display_data"
    },
    {
     "name": "stderr",
     "output_type": "stream",
     "text": [
      "2023-11-15 18:34:07 | INFO | hw5.seq2seq | example source: and these preservatives had been found in breast cancer tumors .\n",
      "2023-11-15 18:34:07 | INFO | hw5.seq2seq | example hypothesis: 這些保守派已經發現了乳癌腫瘤 。\n",
      "2023-11-15 18:34:07 | INFO | hw5.seq2seq | example reference: 而乳癌腫瘤中也發現了這些防腐劑 。\n",
      "2023-11-15 18:34:07 | INFO | hw5.seq2seq | validation loss:\t3.9614\n",
      "2023-11-15 18:34:07 | INFO | hw5.seq2seq | BLEU = 16.97 46.8/23.9/13.1/7.6 (BP = 0.931 ratio = 0.933 hyp_len = 103073 ref_len = 110430)\n",
      "2023-11-15 18:34:07 | INFO | hw5.seq2seq | saved epoch checkpoint: /home/hoperj/DeepLearning/HUNG-YI_LEE_Machine-Learning_Homework/HW05/zh/checkpoints/rnn/checkpoint15.pt\n",
      "2023-11-15 18:34:07 | INFO | hw5.seq2seq | end of epoch 15\n",
      "2023-11-15 18:34:07 | INFO | fairseq.tasks.fairseq_task | can_reuse_epoch_itr = True\n",
      "2023-11-15 18:34:07 | INFO | fairseq.data.iterators | grouped total_num_itrs = 790\n"
     ]
    },
    {
     "data": {
      "application/vnd.jupyter.widget-view+json": {
       "model_id": "3f429e90a21e4f35995ace9a44f3acaa",
       "version_major": 2,
       "version_minor": 0
      },
      "text/plain": [
       "train epoch 16:   0%|          | 0/790 [00:00<?, ?it/s]"
      ]
     },
     "metadata": {},
     "output_type": "display_data"
    },
    {
     "name": "stderr",
     "output_type": "stream",
     "text": [
      "2023-11-15 18:35:21 | INFO | hw5.seq2seq | training loss: 4.1043\n",
      "2023-11-15 18:35:21 | INFO | hw5.seq2seq | begin validation\n",
      "2023-11-15 18:35:21 | INFO | fairseq.tasks.fairseq_task | can_reuse_epoch_itr = True\n"
     ]
    },
    {
     "data": {
      "application/vnd.jupyter.widget-view+json": {
       "model_id": "0833c667592c4a3ab0c65230ba7fcb42",
       "version_major": 2,
       "version_minor": 0
      },
      "text/plain": [
       "validation:   0%|          | 0/22 [00:00<?, ?it/s]"
      ]
     },
     "metadata": {},
     "output_type": "display_data"
    },
    {
     "name": "stderr",
     "output_type": "stream",
     "text": [
      "2023-11-15 18:35:30 | INFO | hw5.seq2seq | example source: history is strewn with the cases when they've all got it wrong .\n",
      "2023-11-15 18:35:30 | INFO | hw5.seq2seq | example hypothesis: 歷史是從這些情況下降低的 , 當他們有了錯誤的情況時 , 他們都錯了 。\n",
      "2023-11-15 18:35:30 | INFO | hw5.seq2seq | example reference: 歷史上到處都有我們全都錯了的實例\n",
      "2023-11-15 18:35:30 | INFO | hw5.seq2seq | validation loss:\t3.9372\n",
      "2023-11-15 18:35:30 | INFO | hw5.seq2seq | BLEU = 17.27 44.6/22.5/12.4/7.2 (BP = 1.000 ratio = 1.000 hyp_len = 110457 ref_len = 110430)\n",
      "2023-11-15 18:35:30 | INFO | hw5.seq2seq | saved epoch checkpoint: /home/hoperj/DeepLearning/HUNG-YI_LEE_Machine-Learning_Homework/HW05/zh/checkpoints/rnn/checkpoint16.pt\n",
      "2023-11-15 18:35:30 | INFO | hw5.seq2seq | end of epoch 16\n",
      "2023-11-15 18:35:30 | INFO | fairseq.tasks.fairseq_task | can_reuse_epoch_itr = True\n",
      "2023-11-15 18:35:30 | INFO | fairseq.data.iterators | grouped total_num_itrs = 790\n"
     ]
    },
    {
     "data": {
      "application/vnd.jupyter.widget-view+json": {
       "model_id": "07a3890a8f6e4fbdacf2b15fbf313355",
       "version_major": 2,
       "version_minor": 0
      },
      "text/plain": [
       "train epoch 17:   0%|          | 0/790 [00:00<?, ?it/s]"
      ]
     },
     "metadata": {},
     "output_type": "display_data"
    },
    {
     "name": "stderr",
     "output_type": "stream",
     "text": [
      "2023-11-15 18:36:44 | INFO | hw5.seq2seq | training loss: 4.0858\n",
      "2023-11-15 18:36:44 | INFO | hw5.seq2seq | begin validation\n",
      "2023-11-15 18:36:44 | INFO | fairseq.tasks.fairseq_task | can_reuse_epoch_itr = True\n"
     ]
    },
    {
     "data": {
      "application/vnd.jupyter.widget-view+json": {
       "model_id": "8753e837edd34cd2b49afa517668e80b",
       "version_major": 2,
       "version_minor": 0
      },
      "text/plain": [
       "validation:   0%|          | 0/22 [00:00<?, ?it/s]"
      ]
     },
     "metadata": {},
     "output_type": "display_data"
    },
    {
     "name": "stderr",
     "output_type": "stream",
     "text": [
      "2023-11-15 18:36:53 | INFO | hw5.seq2seq | example source: please raise your hand if something applies to you .\n",
      "2023-11-15 18:36:53 | INFO | hw5.seq2seq | example hypothesis: 請舉起你的手 , 請舉舉你的手 。\n",
      "2023-11-15 18:36:53 | INFO | hw5.seq2seq | example reference: 如果這些事曾發生在你身上請舉手 。\n",
      "2023-11-15 18:36:53 | INFO | hw5.seq2seq | validation loss:\t3.9238\n",
      "2023-11-15 18:36:53 | INFO | hw5.seq2seq | BLEU = 17.58 45.0/22.9/12.6/7.3 (BP = 1.000 ratio = 1.008 hyp_len = 111361 ref_len = 110430)\n",
      "2023-11-15 18:36:53 | INFO | hw5.seq2seq | saved epoch checkpoint: /home/hoperj/DeepLearning/HUNG-YI_LEE_Machine-Learning_Homework/HW05/zh/checkpoints/rnn/checkpoint17.pt\n",
      "2023-11-15 18:36:53 | INFO | hw5.seq2seq | end of epoch 17\n",
      "2023-11-15 18:36:53 | INFO | fairseq.tasks.fairseq_task | can_reuse_epoch_itr = True\n",
      "2023-11-15 18:36:53 | INFO | fairseq.data.iterators | grouped total_num_itrs = 790\n"
     ]
    },
    {
     "data": {
      "application/vnd.jupyter.widget-view+json": {
       "model_id": "429e6b0c26f445178cc5dd0835558058",
       "version_major": 2,
       "version_minor": 0
      },
      "text/plain": [
       "train epoch 18:   0%|          | 0/790 [00:00<?, ?it/s]"
      ]
     },
     "metadata": {},
     "output_type": "display_data"
    },
    {
     "name": "stderr",
     "output_type": "stream",
     "text": [
      "2023-11-15 18:38:07 | INFO | hw5.seq2seq | training loss: 4.0693\n",
      "2023-11-15 18:38:07 | INFO | hw5.seq2seq | begin validation\n",
      "2023-11-15 18:38:07 | INFO | fairseq.tasks.fairseq_task | can_reuse_epoch_itr = True\n"
     ]
    },
    {
     "data": {
      "application/vnd.jupyter.widget-view+json": {
       "model_id": "0321aa84d03242ceb585d2595c384ace",
       "version_major": 2,
       "version_minor": 0
      },
      "text/plain": [
       "validation:   0%|          | 0/22 [00:00<?, ?it/s]"
      ]
     },
     "metadata": {},
     "output_type": "display_data"
    },
    {
     "name": "stderr",
     "output_type": "stream",
     "text": [
      "2023-11-15 18:38:16 | INFO | hw5.seq2seq | example source: and the fact is , millions is a gross estimate , because we don't really know how many kids die each year of this .\n",
      "2023-11-15 18:38:16 | INFO | hw5.seq2seq | example hypothesis: 事實上 , 數百萬的悲劇是 , 因為我們不知道每年有多少孩子死亡 。\n",
      "2023-11-15 18:38:16 | INFO | hw5.seq2seq | example reference: 而且事實是 , 數百萬只是一個粗略的估計 , 因為我們真的不知道每年究竟有多少孩子死於這些疾病 。\n",
      "2023-11-15 18:38:16 | INFO | hw5.seq2seq | validation loss:\t3.9136\n",
      "2023-11-15 18:38:16 | INFO | hw5.seq2seq | BLEU = 17.74 45.3/23.1/12.7/7.4 (BP = 1.000 ratio = 1.004 hyp_len = 110826 ref_len = 110430)\n",
      "2023-11-15 18:38:16 | INFO | hw5.seq2seq | saved epoch checkpoint: /home/hoperj/DeepLearning/HUNG-YI_LEE_Machine-Learning_Homework/HW05/zh/checkpoints/rnn/checkpoint18.pt\n",
      "2023-11-15 18:38:17 | INFO | hw5.seq2seq | end of epoch 18\n",
      "2023-11-15 18:38:17 | INFO | fairseq.tasks.fairseq_task | can_reuse_epoch_itr = True\n",
      "2023-11-15 18:38:17 | INFO | fairseq.data.iterators | grouped total_num_itrs = 790\n"
     ]
    },
    {
     "data": {
      "application/vnd.jupyter.widget-view+json": {
       "model_id": "da64e3347e2e4e8aacae3520eecd1860",
       "version_major": 2,
       "version_minor": 0
      },
      "text/plain": [
       "train epoch 19:   0%|          | 0/790 [00:00<?, ?it/s]"
      ]
     },
     "metadata": {},
     "output_type": "display_data"
    },
    {
     "name": "stderr",
     "output_type": "stream",
     "text": [
      "2023-11-15 18:39:30 | INFO | hw5.seq2seq | training loss: 4.0533\n",
      "2023-11-15 18:39:30 | INFO | hw5.seq2seq | begin validation\n",
      "2023-11-15 18:39:30 | INFO | fairseq.tasks.fairseq_task | can_reuse_epoch_itr = True\n"
     ]
    },
    {
     "data": {
      "application/vnd.jupyter.widget-view+json": {
       "model_id": "0b0d38ae4d5a475ab59842ec9290608c",
       "version_major": 2,
       "version_minor": 0
      },
      "text/plain": [
       "validation:   0%|          | 0/22 [00:00<?, ?it/s]"
      ]
     },
     "metadata": {},
     "output_type": "display_data"
    },
    {
     "name": "stderr",
     "output_type": "stream",
     "text": [
      "2023-11-15 18:39:39 | INFO | hw5.seq2seq | example source: and he didn’t know it at the time , but over the next five decades , he'd draw on these dueling identities to forge a whole new way to think about pain .\n",
      "2023-11-15 18:39:39 | INFO | hw5.seq2seq | example hypothesis: 當時他還沒知道 , 但在接下來的五十年 , 他會畫出這張圖片 , 去思考痛苦 。\n",
      "2023-11-15 18:39:39 | INFO | hw5.seq2seq | example reference: 在那時他並不知道但在接下來的50年他將會利用這兩個相對決的生命經驗去探索關於疼痛的新思路\n",
      "2023-11-15 18:39:39 | INFO | hw5.seq2seq | validation loss:\t3.9054\n",
      "2023-11-15 18:39:39 | INFO | hw5.seq2seq | BLEU = 17.98 46.0/23.6/13.0/7.6 (BP = 0.993 ratio = 0.993 hyp_len = 109710 ref_len = 110430)\n",
      "2023-11-15 18:39:39 | INFO | hw5.seq2seq | saved epoch checkpoint: /home/hoperj/DeepLearning/HUNG-YI_LEE_Machine-Learning_Homework/HW05/zh/checkpoints/rnn/checkpoint19.pt\n",
      "2023-11-15 18:39:39 | INFO | hw5.seq2seq | end of epoch 19\n",
      "2023-11-15 18:39:39 | INFO | fairseq.tasks.fairseq_task | can_reuse_epoch_itr = True\n",
      "2023-11-15 18:39:39 | INFO | fairseq.data.iterators | grouped total_num_itrs = 790\n"
     ]
    },
    {
     "data": {
      "application/vnd.jupyter.widget-view+json": {
       "model_id": "18ec6122deb9472292c50d91f1c1a23d",
       "version_major": 2,
       "version_minor": 0
      },
      "text/plain": [
       "train epoch 20:   0%|          | 0/790 [00:00<?, ?it/s]"
      ]
     },
     "metadata": {},
     "output_type": "display_data"
    },
    {
     "name": "stderr",
     "output_type": "stream",
     "text": [
      "2023-11-15 18:40:53 | INFO | hw5.seq2seq | training loss: 4.0388\n",
      "2023-11-15 18:40:53 | INFO | hw5.seq2seq | begin validation\n",
      "2023-11-15 18:40:53 | INFO | fairseq.tasks.fairseq_task | can_reuse_epoch_itr = True\n"
     ]
    },
    {
     "data": {
      "application/vnd.jupyter.widget-view+json": {
       "model_id": "015f0a8afd8d4005ac194f4be575a281",
       "version_major": 2,
       "version_minor": 0
      },
      "text/plain": [
       "validation:   0%|          | 0/22 [00:00<?, ?it/s]"
      ]
     },
     "metadata": {},
     "output_type": "display_data"
    },
    {
     "name": "stderr",
     "output_type": "stream",
     "text": [
      "2023-11-15 18:41:02 | INFO | hw5.seq2seq | example source: and i have been fortunate enough to find things like the first eggs in the western hemisphere and the first baby dinosaurs in nests , the first dinosaur embryos and massive accumulations of bones .\n",
      "2023-11-15 18:41:02 | INFO | hw5.seq2seq | example hypothesis: 我很幸運能找到像第一個嬰兒恐龍胚胎和大大的蛋 , 在西半球中 , 第一個嬰兒恐龍胚胎和大大的蛋 。\n",
      "2023-11-15 18:41:02 | INFO | hw5.seq2seq | example reference: 和我已經夠幸運能找到在西半球裡的第一只蛋和第一只恐龍寶寶在巢裡第一個恐龍胚胎和大量積累的骨頭\n",
      "2023-11-15 18:41:02 | INFO | hw5.seq2seq | validation loss:\t3.9010\n",
      "2023-11-15 18:41:02 | INFO | hw5.seq2seq | BLEU = 17.78 47.0/24.0/13.2/7.7 (BP = 0.967 ratio = 0.967 hyp_len = 106821 ref_len = 110430)\n",
      "2023-11-15 18:41:02 | INFO | hw5.seq2seq | saved epoch checkpoint: /home/hoperj/DeepLearning/HUNG-YI_LEE_Machine-Learning_Homework/HW05/zh/checkpoints/rnn/checkpoint20.pt\n",
      "2023-11-15 18:41:02 | INFO | hw5.seq2seq | end of epoch 20\n",
      "2023-11-15 18:41:02 | INFO | fairseq.tasks.fairseq_task | can_reuse_epoch_itr = True\n",
      "2023-11-15 18:41:02 | INFO | fairseq.data.iterators | grouped total_num_itrs = 790\n"
     ]
    },
    {
     "data": {
      "application/vnd.jupyter.widget-view+json": {
       "model_id": "e81f873f61d4474996cc4c7f72e8b42d",
       "version_major": 2,
       "version_minor": 0
      },
      "text/plain": [
       "train epoch 21:   0%|          | 0/790 [00:00<?, ?it/s]"
      ]
     },
     "metadata": {},
     "output_type": "display_data"
    },
    {
     "name": "stderr",
     "output_type": "stream",
     "text": [
      "2023-11-15 18:42:15 | INFO | hw5.seq2seq | training loss: 4.0245\n",
      "2023-11-15 18:42:15 | INFO | hw5.seq2seq | begin validation\n",
      "2023-11-15 18:42:15 | INFO | fairseq.tasks.fairseq_task | can_reuse_epoch_itr = True\n"
     ]
    },
    {
     "data": {
      "application/vnd.jupyter.widget-view+json": {
       "model_id": "9a9ddf3a04c643bca968acac85f67f92",
       "version_major": 2,
       "version_minor": 0
      },
      "text/plain": [
       "validation:   0%|          | 0/22 [00:00<?, ?it/s]"
      ]
     },
     "metadata": {},
     "output_type": "display_data"
    },
    {
     "name": "stderr",
     "output_type": "stream",
     "text": [
      "2023-11-15 18:42:24 | INFO | hw5.seq2seq | example source: we've had the biggest transformation of any ancient subject that i could ever imagine with computers .\n",
      "2023-11-15 18:42:24 | INFO | hw5.seq2seq | example hypothesis: 我們有最大的轉變 , 可能我能想像到電腦 , 任何古代主題都可以想像 。\n",
      "2023-11-15 18:42:25 | INFO | hw5.seq2seq | example reference: 我們經歷了電腦這個最大的變革比任何古往的科目都要巨大\n",
      "2023-11-15 18:42:25 | INFO | hw5.seq2seq | validation loss:\t3.8818\n",
      "2023-11-15 18:42:25 | INFO | hw5.seq2seq | BLEU = 18.18 46.3/23.6/13.1/7.6 (BP = 1.000 ratio = 1.006 hyp_len = 111137 ref_len = 110430)\n",
      "2023-11-15 18:42:25 | INFO | hw5.seq2seq | saved epoch checkpoint: /home/hoperj/DeepLearning/HUNG-YI_LEE_Machine-Learning_Homework/HW05/zh/checkpoints/rnn/checkpoint21.pt\n",
      "2023-11-15 18:42:25 | INFO | hw5.seq2seq | end of epoch 21\n",
      "2023-11-15 18:42:25 | INFO | fairseq.tasks.fairseq_task | can_reuse_epoch_itr = True\n",
      "2023-11-15 18:42:25 | INFO | fairseq.data.iterators | grouped total_num_itrs = 790\n"
     ]
    },
    {
     "data": {
      "application/vnd.jupyter.widget-view+json": {
       "model_id": "93805ddce08d4648a3a8de6640d4c1db",
       "version_major": 2,
       "version_minor": 0
      },
      "text/plain": [
       "train epoch 22:   0%|          | 0/790 [00:00<?, ?it/s]"
      ]
     },
     "metadata": {},
     "output_type": "display_data"
    },
    {
     "name": "stderr",
     "output_type": "stream",
     "text": [
      "2023-11-15 18:43:38 | INFO | hw5.seq2seq | training loss: 4.0140\n",
      "2023-11-15 18:43:38 | INFO | hw5.seq2seq | begin validation\n",
      "2023-11-15 18:43:38 | INFO | fairseq.tasks.fairseq_task | can_reuse_epoch_itr = True\n"
     ]
    },
    {
     "data": {
      "application/vnd.jupyter.widget-view+json": {
       "model_id": "43a2491befb24491a573dcf6e6a4ac8e",
       "version_major": 2,
       "version_minor": 0
      },
      "text/plain": [
       "validation:   0%|          | 0/22 [00:00<?, ?it/s]"
      ]
     },
     "metadata": {},
     "output_type": "display_data"
    },
    {
     "name": "stderr",
     "output_type": "stream",
     "text": [
      "2023-11-15 18:43:47 | INFO | hw5.seq2seq | example source: there is another visual phenomenon that looks similar to floaters but is in fact unrelated .\n",
      "2023-11-15 18:43:47 | INFO | hw5.seq2seq | example hypothesis: 這裡有另一個視覺現象 , 看起來相似的視覺現象 , 但事實不相關 。\n",
      "2023-11-15 18:43:47 | INFO | hw5.seq2seq | example reference: 還有另一個視覺現象看起來像飛蚊症但其實毫無關連\n",
      "2023-11-15 18:43:47 | INFO | hw5.seq2seq | validation loss:\t3.8889\n",
      "2023-11-15 18:43:47 | INFO | hw5.seq2seq | BLEU = 17.99 46.7/24.0/13.3/7.7 (BP = 0.977 ratio = 0.978 hyp_len = 107965 ref_len = 110430)\n",
      "2023-11-15 18:43:47 | INFO | hw5.seq2seq | saved epoch checkpoint: /home/hoperj/DeepLearning/HUNG-YI_LEE_Machine-Learning_Homework/HW05/zh/checkpoints/rnn/checkpoint22.pt\n",
      "2023-11-15 18:43:47 | INFO | hw5.seq2seq | end of epoch 22\n",
      "2023-11-15 18:43:47 | INFO | fairseq.tasks.fairseq_task | can_reuse_epoch_itr = True\n",
      "2023-11-15 18:43:47 | INFO | fairseq.data.iterators | grouped total_num_itrs = 790\n"
     ]
    },
    {
     "data": {
      "application/vnd.jupyter.widget-view+json": {
       "model_id": "c147c2f5bb224fad81d2a4955de6f6cf",
       "version_major": 2,
       "version_minor": 0
      },
      "text/plain": [
       "train epoch 23:   0%|          | 0/790 [00:00<?, ?it/s]"
      ]
     },
     "metadata": {},
     "output_type": "display_data"
    },
    {
     "name": "stderr",
     "output_type": "stream",
     "text": [
      "2023-11-15 18:45:00 | INFO | hw5.seq2seq | training loss: 4.0036\n",
      "2023-11-15 18:45:00 | INFO | hw5.seq2seq | begin validation\n",
      "2023-11-15 18:45:00 | INFO | fairseq.tasks.fairseq_task | can_reuse_epoch_itr = True\n"
     ]
    },
    {
     "data": {
      "application/vnd.jupyter.widget-view+json": {
       "model_id": "35fb63b8dab1472ca92ffc50e052520a",
       "version_major": 2,
       "version_minor": 0
      },
      "text/plain": [
       "validation:   0%|          | 0/22 [00:00<?, ?it/s]"
      ]
     },
     "metadata": {},
     "output_type": "display_data"
    },
    {
     "name": "stderr",
     "output_type": "stream",
     "text": [
      "2023-11-15 18:45:10 | INFO | hw5.seq2seq | example source: ynh: yes , very much so .\n",
      "2023-11-15 18:45:10 | INFO | hw5.seq2seq | example hypothesis: 尤:是的 , 太多了 。\n",
      "2023-11-15 18:45:10 | INFO | hw5.seq2seq | example reference: 尤:是的 , 就是這樣 。\n",
      "2023-11-15 18:45:10 | INFO | hw5.seq2seq | validation loss:\t3.8757\n",
      "2023-11-15 18:45:10 | INFO | hw5.seq2seq | BLEU = 17.90 45.6/23.2/12.9/7.5 (BP = 1.000 ratio = 1.024 hyp_len = 113044 ref_len = 110430)\n",
      "2023-11-15 18:45:10 | INFO | hw5.seq2seq | saved epoch checkpoint: /home/hoperj/DeepLearning/HUNG-YI_LEE_Machine-Learning_Homework/HW05/zh/checkpoints/rnn/checkpoint23.pt\n",
      "2023-11-15 18:45:10 | INFO | hw5.seq2seq | end of epoch 23\n",
      "2023-11-15 18:45:10 | INFO | fairseq.tasks.fairseq_task | can_reuse_epoch_itr = True\n",
      "2023-11-15 18:45:10 | INFO | fairseq.data.iterators | grouped total_num_itrs = 790\n"
     ]
    },
    {
     "data": {
      "application/vnd.jupyter.widget-view+json": {
       "model_id": "3155a0334c8744c78ea618dc5ace9f1c",
       "version_major": 2,
       "version_minor": 0
      },
      "text/plain": [
       "train epoch 24:   0%|          | 0/790 [00:00<?, ?it/s]"
      ]
     },
     "metadata": {},
     "output_type": "display_data"
    },
    {
     "name": "stderr",
     "output_type": "stream",
     "text": [
      "2023-11-15 18:46:23 | INFO | hw5.seq2seq | training loss: 3.9916\n",
      "2023-11-15 18:46:23 | INFO | hw5.seq2seq | begin validation\n",
      "2023-11-15 18:46:23 | INFO | fairseq.tasks.fairseq_task | can_reuse_epoch_itr = True\n"
     ]
    },
    {
     "data": {
      "application/vnd.jupyter.widget-view+json": {
       "model_id": "7f6375eaeba24c58a541ee14abccca88",
       "version_major": 2,
       "version_minor": 0
      },
      "text/plain": [
       "validation:   0%|          | 0/22 [00:00<?, ?it/s]"
      ]
     },
     "metadata": {},
     "output_type": "display_data"
    },
    {
     "name": "stderr",
     "output_type": "stream",
     "text": [
      "2023-11-15 18:46:32 | INFO | hw5.seq2seq | example source: but the first thing you need to do is let go of the bad ideas you have about sex .\n",
      "2023-11-15 18:46:32 | INFO | hw5.seq2seq | example hypothesis: 但你要做的第一件事 , 就是讓壞點子在性別上 。\n",
      "2023-11-15 18:46:32 | INFO | hw5.seq2seq | example reference: 但你需要先做一件事 , 放掉你對於性愛的不好想法 。\n",
      "2023-11-15 18:46:32 | INFO | hw5.seq2seq | validation loss:\t3.8649\n",
      "2023-11-15 18:46:32 | INFO | hw5.seq2seq | BLEU = 18.27 47.0/24.1/13.4/7.8 (BP = 0.985 ratio = 0.985 hyp_len = 108820 ref_len = 110430)\n",
      "2023-11-15 18:46:32 | INFO | hw5.seq2seq | saved epoch checkpoint: /home/hoperj/DeepLearning/HUNG-YI_LEE_Machine-Learning_Homework/HW05/zh/checkpoints/rnn/checkpoint24.pt\n",
      "2023-11-15 18:46:32 | INFO | hw5.seq2seq | end of epoch 24\n",
      "2023-11-15 18:46:32 | INFO | fairseq.tasks.fairseq_task | can_reuse_epoch_itr = True\n",
      "2023-11-15 18:46:32 | INFO | fairseq.data.iterators | grouped total_num_itrs = 790\n"
     ]
    },
    {
     "data": {
      "application/vnd.jupyter.widget-view+json": {
       "model_id": "54d1f1a2c5e9438aa73a2a77cf2a93af",
       "version_major": 2,
       "version_minor": 0
      },
      "text/plain": [
       "train epoch 25:   0%|          | 0/790 [00:00<?, ?it/s]"
      ]
     },
     "metadata": {},
     "output_type": "display_data"
    },
    {
     "name": "stderr",
     "output_type": "stream",
     "text": [
      "2023-11-15 18:47:45 | INFO | hw5.seq2seq | training loss: 3.9839\n",
      "2023-11-15 18:47:45 | INFO | hw5.seq2seq | begin validation\n",
      "2023-11-15 18:47:45 | INFO | fairseq.tasks.fairseq_task | can_reuse_epoch_itr = True\n"
     ]
    },
    {
     "data": {
      "application/vnd.jupyter.widget-view+json": {
       "model_id": "9885ea6e6aa5447596c78007ebf86c77",
       "version_major": 2,
       "version_minor": 0
      },
      "text/plain": [
       "validation:   0%|          | 0/22 [00:00<?, ?it/s]"
      ]
     },
     "metadata": {},
     "output_type": "display_data"
    },
    {
     "name": "stderr",
     "output_type": "stream",
     "text": [
      "2023-11-15 18:47:54 | INFO | hw5.seq2seq | example source: those subsidies stop companies from competing on equal terms .\n",
      "2023-11-15 18:47:54 | INFO | hw5.seq2seq | example hypothesis: 那些補助者停止公司從競爭對平等等等 。\n",
      "2023-11-15 18:47:54 | INFO | hw5.seq2seq | example reference: 那些補助 , 阻礙了公司之間的公平競爭 。\n",
      "2023-11-15 18:47:54 | INFO | hw5.seq2seq | validation loss:\t3.8574\n",
      "2023-11-15 18:47:54 | INFO | hw5.seq2seq | BLEU = 18.25 47.2/24.3/13.5/7.9 (BP = 0.976 ratio = 0.976 hyp_len = 107765 ref_len = 110430)\n",
      "2023-11-15 18:47:54 | INFO | hw5.seq2seq | saved epoch checkpoint: /home/hoperj/DeepLearning/HUNG-YI_LEE_Machine-Learning_Homework/HW05/zh/checkpoints/rnn/checkpoint25.pt\n",
      "2023-11-15 18:47:54 | INFO | hw5.seq2seq | end of epoch 25\n",
      "2023-11-15 18:47:54 | INFO | fairseq.tasks.fairseq_task | can_reuse_epoch_itr = True\n",
      "2023-11-15 18:47:54 | INFO | fairseq.data.iterators | grouped total_num_itrs = 790\n"
     ]
    },
    {
     "data": {
      "application/vnd.jupyter.widget-view+json": {
       "model_id": "42c19354febe41f6b2c7ae2515f19a29",
       "version_major": 2,
       "version_minor": 0
      },
      "text/plain": [
       "train epoch 26:   0%|          | 0/790 [00:00<?, ?it/s]"
      ]
     },
     "metadata": {},
     "output_type": "display_data"
    },
    {
     "name": "stderr",
     "output_type": "stream",
     "text": [
      "2023-11-15 18:49:07 | INFO | hw5.seq2seq | training loss: 3.9701\n",
      "2023-11-15 18:49:07 | INFO | hw5.seq2seq | begin validation\n",
      "2023-11-15 18:49:07 | INFO | fairseq.tasks.fairseq_task | can_reuse_epoch_itr = True\n"
     ]
    },
    {
     "data": {
      "application/vnd.jupyter.widget-view+json": {
       "model_id": "fefcbedc5f814bd991c6fbaff431f9a6",
       "version_major": 2,
       "version_minor": 0
      },
      "text/plain": [
       "validation:   0%|          | 0/22 [00:00<?, ?it/s]"
      ]
     },
     "metadata": {},
     "output_type": "display_data"
    },
    {
     "name": "stderr",
     "output_type": "stream",
     "text": [
      "2023-11-15 18:49:16 | INFO | hw5.seq2seq | example source: i believe so , but before we move on , what do we mean by democracy ?\n",
      "2023-11-15 18:49:16 | INFO | hw5.seq2seq | example hypothesis: 我相信 , 但在我們移動之前 , 我們要怎麼說 ?\n",
      "2023-11-15 18:49:16 | INFO | hw5.seq2seq | example reference: 我相信是對的 , 但在我們繼續談下去之前 , 我們所說的民主是什麼 ?\n",
      "2023-11-15 18:49:16 | INFO | hw5.seq2seq | validation loss:\t3.8530\n",
      "2023-11-15 18:49:16 | INFO | hw5.seq2seq | BLEU = 18.28 47.5/24.5/13.6/7.9 (BP = 0.971 ratio = 0.971 hyp_len = 107269 ref_len = 110430)\n",
      "2023-11-15 18:49:16 | INFO | hw5.seq2seq | saved epoch checkpoint: /home/hoperj/DeepLearning/HUNG-YI_LEE_Machine-Learning_Homework/HW05/zh/checkpoints/rnn/checkpoint26.pt\n",
      "2023-11-15 18:49:16 | INFO | hw5.seq2seq | end of epoch 26\n",
      "2023-11-15 18:49:16 | INFO | fairseq.tasks.fairseq_task | can_reuse_epoch_itr = True\n",
      "2023-11-15 18:49:16 | INFO | fairseq.data.iterators | grouped total_num_itrs = 790\n"
     ]
    },
    {
     "data": {
      "application/vnd.jupyter.widget-view+json": {
       "model_id": "78517f6e3a2e428ba0fbcef97b819c65",
       "version_major": 2,
       "version_minor": 0
      },
      "text/plain": [
       "train epoch 27:   0%|          | 0/790 [00:00<?, ?it/s]"
      ]
     },
     "metadata": {},
     "output_type": "display_data"
    },
    {
     "name": "stderr",
     "output_type": "stream",
     "text": [
      "2023-11-15 18:50:30 | INFO | hw5.seq2seq | training loss: 3.9627\n",
      "2023-11-15 18:50:30 | INFO | hw5.seq2seq | begin validation\n",
      "2023-11-15 18:50:30 | INFO | fairseq.tasks.fairseq_task | can_reuse_epoch_itr = True\n"
     ]
    },
    {
     "data": {
      "application/vnd.jupyter.widget-view+json": {
       "model_id": "33602e1660574dffa03b6c1537024a94",
       "version_major": 2,
       "version_minor": 0
      },
      "text/plain": [
       "validation:   0%|          | 0/22 [00:00<?, ?it/s]"
      ]
     },
     "metadata": {},
     "output_type": "display_data"
    },
    {
     "name": "stderr",
     "output_type": "stream",
     "text": [
      "2023-11-15 18:50:39 | INFO | hw5.seq2seq | example source: so , a team of berkeley researchers with 15 million dollars from the gates foundation is engineering , designing a radical new way to make the key ingredient , called artemisinin , and they're going to make that drug 10 times cheaper .\n",
      "2023-11-15 18:50:39 | INFO | hw5.seq2seq | example hypothesis: 因此 , 一位團隊成員 , 在gates基金會的團隊中 , 設計了一個新的方法 , 創造出一種新的方法 , 創造出一種新的方法 , 來製造出一種更便宜的新方法 , 叫做 「 糖尿病 」 , 大約有15百萬美元 。\n",
      "2023-11-15 18:50:39 | INFO | hw5.seq2seq | example reference: 柏克萊的團隊得到gatesfoundation的1千5百萬的經費 , 以研發設計一顛覆式的新方法來製造一個叫 \" 青蒿素 \" 的關鍵成分希望能製造出10倍便宜的藥物\n",
      "2023-11-15 18:50:39 | INFO | hw5.seq2seq | validation loss:\t3.8493\n",
      "2023-11-15 18:50:39 | INFO | hw5.seq2seq | BLEU = 18.45 47.2/24.3/13.5/7.9 (BP = 0.988 ratio = 0.988 hyp_len = 109148 ref_len = 110430)\n",
      "2023-11-15 18:50:39 | INFO | hw5.seq2seq | saved epoch checkpoint: /home/hoperj/DeepLearning/HUNG-YI_LEE_Machine-Learning_Homework/HW05/zh/checkpoints/rnn/checkpoint27.pt\n",
      "2023-11-15 18:50:39 | INFO | hw5.seq2seq | end of epoch 27\n",
      "2023-11-15 18:50:39 | INFO | fairseq.tasks.fairseq_task | can_reuse_epoch_itr = True\n",
      "2023-11-15 18:50:39 | INFO | fairseq.data.iterators | grouped total_num_itrs = 790\n"
     ]
    },
    {
     "data": {
      "application/vnd.jupyter.widget-view+json": {
       "model_id": "56333525bb80466c98b60f8e310a9f97",
       "version_major": 2,
       "version_minor": 0
      },
      "text/plain": [
       "train epoch 28:   0%|          | 0/790 [00:00<?, ?it/s]"
      ]
     },
     "metadata": {},
     "output_type": "display_data"
    },
    {
     "name": "stderr",
     "output_type": "stream",
     "text": [
      "2023-11-15 18:51:52 | INFO | hw5.seq2seq | training loss: 3.9559\n",
      "2023-11-15 18:51:52 | INFO | hw5.seq2seq | begin validation\n",
      "2023-11-15 18:51:52 | INFO | fairseq.tasks.fairseq_task | can_reuse_epoch_itr = True\n"
     ]
    },
    {
     "data": {
      "application/vnd.jupyter.widget-view+json": {
       "model_id": "184ff9886b0c43c5b638b1fc93008e5f",
       "version_major": 2,
       "version_minor": 0
      },
      "text/plain": [
       "validation:   0%|          | 0/22 [00:00<?, ?it/s]"
      ]
     },
     "metadata": {},
     "output_type": "display_data"
    },
    {
     "name": "stderr",
     "output_type": "stream",
     "text": [
      "2023-11-15 18:52:01 | INFO | hw5.seq2seq | example source: even another black hole won’t destroy it– the two will simply merge into a larger black hole , releasing a bit of energy as gravitational waves in the process .\n",
      "2023-11-15 18:52:01 | INFO | hw5.seq2seq | example hypothesis: 即使另一個黑洞 , 不會摧毀它 , 兩者會將能量轉換成更大的黑洞 , 將能量轉換為重力波 。\n",
      "2023-11-15 18:52:01 | INFO | hw5.seq2seq | example reference: 就連另一個黑洞也無法摧毀它 , 兩個黑洞只會融合成一個更大的黑洞 , 在過程中以重力波的形式釋放出一點能量 。\n",
      "2023-11-15 18:52:01 | INFO | hw5.seq2seq | validation loss:\t3.8453\n",
      "2023-11-15 18:52:01 | INFO | hw5.seq2seq | BLEU = 18.53 47.1/24.2/13.4/7.9 (BP = 0.996 ratio = 0.996 hyp_len = 109952 ref_len = 110430)\n",
      "2023-11-15 18:52:01 | INFO | hw5.seq2seq | saved epoch checkpoint: /home/hoperj/DeepLearning/HUNG-YI_LEE_Machine-Learning_Homework/HW05/zh/checkpoints/rnn/checkpoint28.pt\n",
      "2023-11-15 18:52:01 | INFO | hw5.seq2seq | end of epoch 28\n",
      "2023-11-15 18:52:01 | INFO | fairseq.tasks.fairseq_task | can_reuse_epoch_itr = True\n",
      "2023-11-15 18:52:01 | INFO | fairseq.data.iterators | grouped total_num_itrs = 790\n"
     ]
    },
    {
     "data": {
      "application/vnd.jupyter.widget-view+json": {
       "model_id": "79d0c8b48f9d4d97b8770f2f6b3889af",
       "version_major": 2,
       "version_minor": 0
      },
      "text/plain": [
       "train epoch 29:   0%|          | 0/790 [00:00<?, ?it/s]"
      ]
     },
     "metadata": {},
     "output_type": "display_data"
    },
    {
     "name": "stderr",
     "output_type": "stream",
     "text": [
      "2023-11-15 18:53:14 | INFO | hw5.seq2seq | training loss: 3.9466\n",
      "2023-11-15 18:53:14 | INFO | hw5.seq2seq | begin validation\n",
      "2023-11-15 18:53:14 | INFO | fairseq.tasks.fairseq_task | can_reuse_epoch_itr = True\n"
     ]
    },
    {
     "data": {
      "application/vnd.jupyter.widget-view+json": {
       "model_id": "50c06c3d5ad44f96abfc2bca5f5bb499",
       "version_major": 2,
       "version_minor": 0
      },
      "text/plain": [
       "validation:   0%|          | 0/22 [00:00<?, ?it/s]"
      ]
     },
     "metadata": {},
     "output_type": "display_data"
    },
    {
     "name": "stderr",
     "output_type": "stream",
     "text": [
      "2023-11-15 18:53:23 | INFO | hw5.seq2seq | example source: but the question is: can we own our duality ?\n",
      "2023-11-15 18:53:23 | INFO | hw5.seq2seq | example hypothesis: 但問題是:我們是否能擁有我們的責任 ?\n",
      "2023-11-15 18:53:23 | INFO | hw5.seq2seq | example reference: 但問題是:我們能擁有屬於我們的二元性嗎 ?\n",
      "2023-11-15 18:53:23 | INFO | hw5.seq2seq | validation loss:\t3.8393\n",
      "2023-11-15 18:53:23 | INFO | hw5.seq2seq | BLEU = 18.70 47.4/24.5/13.6/7.9 (BP = 0.993 ratio = 0.993 hyp_len = 109710 ref_len = 110430)\n",
      "2023-11-15 18:53:23 | INFO | hw5.seq2seq | saved epoch checkpoint: /home/hoperj/DeepLearning/HUNG-YI_LEE_Machine-Learning_Homework/HW05/zh/checkpoints/rnn/checkpoint29.pt\n",
      "2023-11-15 18:53:23 | INFO | hw5.seq2seq | end of epoch 29\n",
      "2023-11-15 18:53:23 | INFO | fairseq.tasks.fairseq_task | can_reuse_epoch_itr = True\n",
      "2023-11-15 18:53:23 | INFO | fairseq.data.iterators | grouped total_num_itrs = 790\n"
     ]
    },
    {
     "data": {
      "application/vnd.jupyter.widget-view+json": {
       "model_id": "561981d2bba34d5c89782228a7231f09",
       "version_major": 2,
       "version_minor": 0
      },
      "text/plain": [
       "train epoch 30:   0%|          | 0/790 [00:00<?, ?it/s]"
      ]
     },
     "metadata": {},
     "output_type": "display_data"
    },
    {
     "name": "stderr",
     "output_type": "stream",
     "text": [
      "2023-11-15 18:54:36 | INFO | hw5.seq2seq | training loss: 3.9400\n",
      "2023-11-15 18:54:36 | INFO | hw5.seq2seq | begin validation\n",
      "2023-11-15 18:54:36 | INFO | fairseq.tasks.fairseq_task | can_reuse_epoch_itr = True\n"
     ]
    },
    {
     "data": {
      "application/vnd.jupyter.widget-view+json": {
       "model_id": "5ac3baaf64214b46bfeeaba54cf1df25",
       "version_major": 2,
       "version_minor": 0
      },
      "text/plain": [
       "validation:   0%|          | 0/22 [00:00<?, ?it/s]"
      ]
     },
     "metadata": {},
     "output_type": "display_data"
    },
    {
     "name": "stderr",
     "output_type": "stream",
     "text": [
      "2023-11-15 18:54:46 | INFO | hw5.seq2seq | example source: be serious , it says .\n",
      "2023-11-15 18:54:46 | INFO | hw5.seq2seq | example hypothesis: 很嚴肅 , 說了 。\n",
      "2023-11-15 18:54:46 | INFO | hw5.seq2seq | example reference: 嚴肅起來 , 信裡寫道\n",
      "2023-11-15 18:54:46 | INFO | hw5.seq2seq | validation loss:\t3.8368\n",
      "2023-11-15 18:54:46 | INFO | hw5.seq2seq | BLEU = 17.98 45.7/23.3/12.9/7.6 (BP = 1.000 ratio = 1.044 hyp_len = 115328 ref_len = 110430)\n",
      "2023-11-15 18:54:46 | INFO | hw5.seq2seq | saved epoch checkpoint: /home/hoperj/DeepLearning/HUNG-YI_LEE_Machine-Learning_Homework/HW05/zh/checkpoints/rnn/checkpoint30.pt\n",
      "2023-11-15 18:54:46 | INFO | hw5.seq2seq | end of epoch 30\n",
      "2023-11-15 18:54:46 | INFO | fairseq.tasks.fairseq_task | can_reuse_epoch_itr = True\n"
     ]
    }
   ],
   "source": [
    "epoch_itr = load_data_iterator(task, \"train\", config.start_epoch, config.max_tokens, config.num_workers)\n",
    "try_load_checkpoint(model, optimizer, name=config.resume)\n",
    "while epoch_itr.next_epoch_idx <= config.max_epoch:\n",
    "    # 训练一个 epoch\n",
    "    train_one_epoch(epoch_itr, model, task, criterion, optimizer, config.accum_steps)\n",
    "    stats = validate_and_save(model, task, criterion, optimizer, epoch=epoch_itr.epoch)\n",
    "    logger.info(\"end of epoch {}\".format(epoch_itr.epoch))\n",
    "    epoch_itr = load_data_iterator(task, \"train\", epoch_itr.next_epoch_idx, config.max_tokens, config.num_workers)"
   ]
  },
  {
   "cell_type": "markdown",
   "metadata": {
    "id": "KyjRwllxPjtf"
   },
   "source": [
    "# Submission"
   ]
  },
  {
   "cell_type": "code",
   "execution_count": 45,
   "metadata": {
    "id": "N70Gc6smPi1d"
   },
   "outputs": [
    {
     "name": "stdout",
     "output_type": "stream",
     "text": [
      "Namespace(inputs=['./checkpoints/rnn'], output='./checkpoints/rnn/avg_last_5_checkpoint.pt', num_epoch_checkpoints=5, num_update_checkpoints=None, num_best_checkpoints=0, checkpoint_upper_bound=None)\n",
      "averaging checkpoints:  ['./checkpoints/rnn/checkpoint30.pt', './checkpoints/rnn/checkpoint29.pt', './checkpoints/rnn/checkpoint28.pt', './checkpoints/rnn/checkpoint27.pt', './checkpoints/rnn/checkpoint26.pt']\n",
      "Finished writing averaged checkpoint to ./checkpoints/rnn/avg_last_5_checkpoint.pt\n"
     ]
    }
   ],
   "source": [
    "# 对几个 checkpoints 进行平均可以产生类似于 ensemble 的效果\n",
    "checkdir=config.savedir\n",
    "!python ./fairseq/scripts/average_checkpoints.py \\\n",
    "--inputs {checkdir} \\\n",
    "--num-epoch-checkpoints 5 \\\n",
    "--output {checkdir}/avg_last_5_checkpoint.pt"
   ]
  },
  {
   "cell_type": "markdown",
   "metadata": {
    "id": "BAGMiun8PnZy"
   },
   "source": [
    "## 确定用于生成 submission 的模型权重"
   ]
  },
  {
   "cell_type": "code",
   "execution_count": 46,
   "metadata": {
    "id": "tvRdivVUPnsU"
   },
   "outputs": [
    {
     "name": "stderr",
     "output_type": "stream",
     "text": [
      "2023-11-15 18:54:48 | INFO | hw5.seq2seq | loaded checkpoint checkpoints/rnn/avg_last_5_checkpoint.pt: step=unknown loss=3.8368029594421387 bleu=17.978629598087807\n",
      "2023-11-15 18:54:48 | INFO | hw5.seq2seq | begin validation\n",
      "2023-11-15 18:54:48 | INFO | fairseq.tasks.fairseq_task | can_reuse_epoch_itr = True\n"
     ]
    },
    {
     "data": {
      "application/vnd.jupyter.widget-view+json": {
       "model_id": "",
       "version_major": 2,
       "version_minor": 0
      },
      "text/plain": [
       "validation:   0%|          | 0/22 [00:00<?, ?it/s]"
      ]
     },
     "metadata": {},
     "output_type": "display_data"
    },
    {
     "name": "stderr",
     "output_type": "stream",
     "text": [
      "2023-11-15 18:54:57 | INFO | hw5.seq2seq | example source: and there is also a frontier in research physics here , it's just that nobody talks about it .\n",
      "2023-11-15 18:54:57 | INFO | hw5.seq2seq | example hypothesis: 在研究物理學的領域中 , 這裡有一件更重要的事 , 沒人會談論它 。\n",
      "2023-11-15 18:54:57 | INFO | hw5.seq2seq | example reference: 這裡也有物理研究中尚未完全開拓的疆界 , 只是沒有人在談論它 。\n",
      "2023-11-15 18:54:57 | INFO | hw5.seq2seq | validation loss:\t3.8031\n",
      "2023-11-15 18:54:57 | INFO | hw5.seq2seq | BLEU = 18.90 47.6/24.6/13.8/8.1 (BP = 0.994 ratio = 0.994 hyp_len = 109812 ref_len = 110430)\n"
     ]
    }
   ],
   "source": [
    "# checkpoint_last.pt : 最新的 epoch\n",
    "# checkpoint_best.pt : 最高的验证 BLEU\n",
    "# avg_last_5_checkpoint.pt: 最近 5 次 epoch 的平均值\n",
    "try_load_checkpoint(model, name=\"avg_last_5_checkpoint.pt\")\n",
    "validate(model, task, criterion, log_to_wandb=False)\n",
    "None"
   ]
  },
  {
   "cell_type": "markdown",
   "metadata": {
    "id": "ioAIflXpPsxt"
   },
   "source": [
    "## 生成预测"
   ]
  },
  {
   "cell_type": "code",
   "execution_count": 47,
   "metadata": {
    "id": "oYMxA8FlPtIq"
   },
   "outputs": [],
   "source": [
    "def generate_prediction(model, task, split=\"test\", outfile=\"./prediction.txt\"):\n",
    "    task.load_dataset(split=split, epoch=1)\n",
    "    itr = load_data_iterator(task, split, 1, config.max_tokens, config.num_workers).next_epoch_itr(shuffle=False)\n",
    "\n",
    "    idxs = []\n",
    "    hyps = []\n",
    "\n",
    "    model.eval()\n",
    "    progress = tqdm.tqdm(itr, desc=f\"prediction\")\n",
    "    with torch.no_grad():\n",
    "        for i, sample in enumerate(progress):\n",
    "            # 验证损失\n",
    "            sample = utils.move_to_cuda(sample, device=device)\n",
    "\n",
    "            # 做推测\n",
    "            s, h, r = inference_step(sample, model)\n",
    "\n",
    "            hyps.extend(h)\n",
    "            idxs.extend(list(sample['id']))\n",
    "\n",
    "    # 根据预处理前的顺序进行排序\n",
    "    hyps = [x for _,x in sorted(zip(idxs,hyps))]\n",
    "\n",
    "    with open(outfile, \"w\") as f:\n",
    "        for h in hyps:\n",
    "            f.write(h+\"\\n\")"
   ]
  },
  {
   "cell_type": "code",
   "execution_count": 48,
   "metadata": {
    "id": "Le4RFWXxjmm0"
   },
   "outputs": [
    {
     "name": "stderr",
     "output_type": "stream",
     "text": [
      "2023-11-15 18:54:57 | INFO | fairseq.data.data_utils | loaded 4,000 examples from: ./DATA/data-bin/ted2020/test.en-zh.en\n",
      "2023-11-15 18:54:57 | INFO | fairseq.data.data_utils | loaded 4,000 examples from: ./DATA/data-bin/ted2020/test.en-zh.zh\n",
      "2023-11-15 18:54:57 | INFO | fairseq.tasks.translation | ./DATA/data-bin/ted2020 test en-zh 4000 examples\n",
      "2023-11-15 18:54:57 | INFO | fairseq.tasks.fairseq_task | can_reuse_epoch_itr = True\n",
      "2023-11-15 18:54:57 | INFO | fairseq.tasks.fairseq_task | reuse_dataloader = True\n",
      "2023-11-15 18:54:57 | INFO | fairseq.tasks.fairseq_task | rebuild_batches = False\n",
      "2023-11-15 18:54:57 | INFO | fairseq.tasks.fairseq_task | creating new batches for epoch 1\n"
     ]
    },
    {
     "data": {
      "application/vnd.jupyter.widget-view+json": {
       "model_id": "49152ec8f67c4b5eacbfa57539da11bc",
       "version_major": 2,
       "version_minor": 0
      },
      "text/plain": [
       "prediction:   0%|          | 0/18 [00:00<?, ?it/s]"
      ]
     },
     "metadata": {},
     "output_type": "display_data"
    }
   ],
   "source": [
    "generate_prediction(model, task)"
   ]
  },
  {
   "cell_type": "code",
   "execution_count": 49,
   "metadata": {
    "id": "wvenyi6BPwnD"
   },
   "outputs": [
    {
     "ename": "RuntimeError",
     "evalue": "No active exception to reraise",
     "output_type": "error",
     "traceback": [
      "\u001b[0;31m---------------------------------------------------------------------------\u001b[0m",
      "\u001b[0;31mRuntimeError\u001b[0m                              Traceback (most recent call last)",
      "Cell \u001b[0;32mIn[49], line 1\u001b[0m\n\u001b[0;32m----> 1\u001b[0m \u001b[38;5;28;01mraise\u001b[39;00m\n",
      "\u001b[0;31mRuntimeError\u001b[0m: No active exception to reraise"
     ]
    }
   ],
   "source": [
    "raise"
   ]
  },
  {
   "cell_type": "markdown",
   "metadata": {
    "id": "1z0cJE-wPzaU"
   },
   "source": [
    "# Back-translation"
   ]
  },
  {
   "cell_type": "markdown",
   "metadata": {
    "id": "5-7uPJ2CP0sm"
   },
   "source": [
    "## 训练一个 backward translation 模型"
   ]
  },
  {
   "cell_type": "markdown",
   "metadata": {
    "id": "ppGHjg2ZP3sV"
   },
   "source": [
    "1. 将 **config** 中的 source_lang 和 target_lang 进行切换\n",
    "2. 更改 **config** 中的 savedir(例如: \"./checkpoints/transformer-back\")\n",
    "3. 训练模型"
   ]
  },
  {
   "cell_type": "markdown",
   "metadata": {
    "id": "waTGz29UP6WI"
   },
   "source": [
    "## 用后向模型生成人造数据"
   ]
  },
  {
   "cell_type": "markdown",
   "metadata": {
    "id": "sIeTsPexP8FL"
   },
   "source": [
    "### 下载单语言数据"
   ]
  },
  {
   "cell_type": "code",
   "execution_count": null,
   "metadata": {
    "id": "i7N4QlsbP8fh"
   },
   "outputs": [],
   "source": [
    "mono_dataset_name = 'mono'"
   ]
  },
  {
   "cell_type": "code",
   "execution_count": null,
   "metadata": {
    "id": "396saD9-QBPY"
   },
   "outputs": [],
   "source": [
    "mono_prefix = Path(data_dir).absolute() / mono_dataset_name\n",
    "mono_prefix.mkdir(parents=True, exist_ok=True)\n",
    "\n",
    "urls = (\n",
    "    \"https://github.com/figisiwirf/ml2023-hw5-dataset/releases/download/v1.0.1/ted_zh_corpus.deduped.gz\",\n",
    ")\n",
    "file_names = (\n",
    "    'ted_zh_corpus.deduped.gz',\n",
    ")\n",
    "\n",
    "for u, f in zip(urls, file_names):\n",
    "    path = mono_prefix/f\n",
    "    if not path.exists():\n",
    "        !wget {u} -O {path}\n",
    "    else:\n",
    "        print(f'{f} is exist, skip downloading')\n",
    "    if path.suffix == \".tgz\":\n",
    "        !tar -xvf {path} -C {prefix}\n",
    "    elif path.suffix == \".zip\":\n",
    "        !unzip -o {path} -d {prefix}\n",
    "    elif path.suffix == \".gz\":\n",
    "        !gzip -fkd {path}"
   ]
  },
  {
   "cell_type": "markdown",
   "metadata": {
    "id": "JOVQRHzGQU4-"
   },
   "source": [
    "### TODO: 清洗语料\n",
    "\n",
    "1. 移除太长或者太短的句子\n",
    "2. 统一标点符号\n",
    "\n",
    "提示: 你可以使用之前定义的 clean_s() 来执行此操作"
   ]
  },
  {
   "cell_type": "code",
   "execution_count": null,
   "metadata": {
    "id": "eIYmxfUOQSov"
   },
   "outputs": [],
   "source": []
  },
  {
   "cell_type": "markdown",
   "metadata": {
    "id": "jegH0bvMQVmR"
   },
   "source": [
    "### TODO: 子词单位\n",
    "\n",
    "使用后向模型的 spm 模型将数据标记为子词单位\n",
    "\n",
    "提示: spm 模型位于 DATA/raw-data/\\[dataset\\]/spm\\[vocab_num\\].model"
   ]
  },
  {
   "cell_type": "code",
   "execution_count": null,
   "metadata": {
    "id": "vqgR4uUMQZGY"
   },
   "outputs": [],
   "source": []
  },
  {
   "cell_type": "markdown",
   "metadata": {
    "id": "a65glBVXQZiE"
   },
   "source": [
    "### 二值化\n",
    "\n",
    "使用 fairseq 去二值化数据"
   ]
  },
  {
   "cell_type": "code",
   "execution_count": null,
   "metadata": {
    "id": "b803qA5aQaEu"
   },
   "outputs": [],
   "source": [
    "binpath = Path('./DATA/data-bin', mono_dataset_name)\n",
    "src_dict_file = './DATA/data-bin/ted2020/dict.en.txt'\n",
    "tgt_dict_file = src_dict_file\n",
    "monopref = str(mono_prefix/\"mono.tok\") # whatever filepath you get after applying subword tokenization\n",
    "if binpath.exists():\n",
    "    print(binpath, \"exists, will not overwrite!\")\n",
    "else:\n",
    "    !python -m fairseq_cli.preprocess\\\n",
    "        --source-lang 'zh'\\\n",
    "        --target-lang 'en'\\\n",
    "        --trainpref {monopref}\\\n",
    "        --destdir {binpath}\\\n",
    "        --srcdict {src_dict_file}\\\n",
    "        --tgtdict {tgt_dict_file}\\\n",
    "        --workers 2"
   ]
  },
  {
   "cell_type": "markdown",
   "metadata": {
    "id": "smA0JraEQdxz"
   },
   "source": [
    "### TODO: 用后向模型生成人造数据\n",
    "\n",
    "将二进制化的单语言数据添加到原始数据目录中，并将其命名为 \"split_name\"\n",
    "\n",
    "例如: ./DATA/data-bin/ted2020/\\[split_name\\].zh-en.\\[\"en\", \"zh\"\\].\\[\"bin\", \"idx\"\\]\n",
    "\n",
    "然后你可以使用 'generate_prediction(model, task, split=\"split_name\")' 来生成翻译的预测"
   ]
  },
  {
   "cell_type": "code",
   "execution_count": null,
   "metadata": {
    "id": "jvaOVHeoQfkB"
   },
   "outputs": [],
   "source": [
    "# 将二进制化的单语言数据添加到原始数据目录中，并将其命名为 \"split_name\"\n",
    "# 例如: ./DATA/data-bin/ted2020/\\[split_name\\].zh-en.\\[\"en\", \"zh\"\\].\\[\"bin\", \"idx\"\\]\n",
    "!cp ./DATA/data-bin/mono/train.zh-en.zh.bin ./DATA/data-bin/ted2020/mono.zh-en.zh.bin\n",
    "!cp ./DATA/data-bin/mono/train.zh-en.zh.idx ./DATA/data-bin/ted2020/mono.zh-en.zh.idx\n",
    "!cp ./DATA/data-bin/mono/train.zh-en.en.bin ./DATA/data-bin/ted2020/mono.zh-en.en.bin\n",
    "!cp ./DATA/data-bin/mono/train.zh-en.en.idx ./DATA/data-bin/ted2020/mono.zh-en.en.idx"
   ]
  },
  {
   "cell_type": "code",
   "execution_count": null,
   "metadata": {
    "id": "fFEkxPu-Qhlc"
   },
   "outputs": [],
   "source": [
    "# hint: 在 split='mono' 上做预测来创建 prediction_file\n",
    "# generate_prediction( ... ,split=... ,outfile=... )"
   ]
  },
  {
   "cell_type": "markdown",
   "metadata": {
    "id": "Jn4XeawpQjLk"
   },
   "source": [
    "### TODO: 创建新的数据集\n",
    "\n",
    "1. 将预测数据和单语数据结合\n",
    "2. 使用原始的 spm 模型将数据 tokenize 为子词单位\n",
    "3. 使用 fairseq 将数据二值化"
   ]
  },
  {
   "cell_type": "code",
   "execution_count": null,
   "metadata": {
    "id": "3R35JTaTQjkm"
   },
   "outputs": [],
   "source": [
    "# 将 prediction_file (.en) 和 mono.zh (.zh) 结合为新的数据集\n",
    "#\n",
    "# 提示: 用 spm 模型 tokenize prediction_file\n",
    "# spm_model.encode(line, out_type=str)\n",
    "# 输出: ./DATA/rawdata/mono/mono.tok.en & mono.tok.zh\n",
    "#\n",
    "# 提示: 使用 fairseq 再次二值化这两个文件\n",
    "# binpath = Path('./DATA/data-bin/synthetic')\n",
    "# src_dict_file = './DATA/data-bin/ted2020/dict.en.txt'\n",
    "# tgt_dict_file = src_dict_file\n",
    "# monopref = './DATA/rawdata/mono/mono.tok' # or whatever path after applying subword tokenization, w/o the suffix (.zh/.en)\n",
    "# if binpath.exists():\n",
    "#     print(binpath, \"exists, will not overwrite!\")\n",
    "# else:\n",
    "#     !python -m fairseq_cli.preprocess\\\n",
    "#         --source-lang 'zh'\\\n",
    "#         --target-lang 'en'\\\n",
    "#         --trainpref {monopref}\\\n",
    "#         --destdir {binpath}\\\n",
    "#         --srcdict {src_dict_file}\\\n",
    "#         --tgtdict {tgt_dict_file}\\\n",
    "#         --workers 2"
   ]
  },
  {
   "cell_type": "code",
   "execution_count": null,
   "metadata": {
    "id": "MSkse1tyQnsR"
   },
   "outputs": [],
   "source": [
    "# 根据上面准备的所有文件创建一个新的数据集\n",
    "!cp -r ./DATA/data-bin/ted2020/ ./DATA/data-bin/ted2020_with_mono/\n",
    "\n",
    "!cp ./DATA/data-bin/synthetic/train.zh-en.zh.bin ./DATA/data-bin/ted2020_with_mono/train1.en-zh.zh.bin\n",
    "!cp ./DATA/data-bin/synthetic/train.zh-en.zh.idx ./DATA/data-bin/ted2020_with_mono/train1.en-zh.zh.idx\n",
    "!cp ./DATA/data-bin/synthetic/train.zh-en.en.bin ./DATA/data-bin/ted2020_with_mono/train1.en-zh.en.bin\n",
    "!cp ./DATA/data-bin/synthetic/train.zh-en.en.idx ./DATA/data-bin/ted2020_with_mono/train1.en-zh.en.idx"
   ]
  },
  {
   "cell_type": "markdown",
   "metadata": {
    "id": "YVdxVGO3QrSs"
   },
   "source": [
    "创建新数据集 \"ted2020_with_mono\"\n",
    "\n",
    "1. 修改 **config** 中的 datadir (\"./DATA/data-bin/ted2020_with_mono\")\n",
    "2. 将 **config** 中的 source_lang 和 target_lang 进行切换 (\"en\", \"zh\")\n",
    "2. 更改 **config** 中的 savedir (例如: \"./checkpoints/transformer-bt\")\n",
    "3. 训练模型"
   ]
  },
  {
   "cell_type": "markdown",
   "metadata": {
    "id": "z-m3IsoJrhmd"
   },
   "source": [
    "# References"
   ]
  },
  {
   "cell_type": "markdown",
   "metadata": {
    "id": "_CZU2beUQtl3"
   },
   "source": [
    "1. <a name=ott2019fairseq></a>Ott, M., Edunov, S., Baevski, A., Fan, A., Gross, S., Ng, N., ... & Auli, M. (2019, June). fairseq: A Fast, Extensible Toolkit for Sequence Modeling. In Proceedings of the 2019 Conference of the North American Chapter of the Association for Computational Linguistics (Demonstrations) (pp. 48-53).\n",
    "2. <a name=vaswani2017></a>Vaswani, A., Shazeer, N., Parmar, N., Uszkoreit, J., Jones, L., Gomez, A. N., ... & Polosukhin, I. (2017, December). Attention is all you need. In Proceedings of the 31st International Conference on Neural Information Processing Systems (pp. 6000-6010).\n",
    "3. <a name=reimers-2020-multilingual-sentence-bert></a>Reimers, N., & Gurevych, I. (2020, November). Making Monolingual Sentence Embeddings Multilingual Using Knowledge Distillation. In Proceedings of the 2020 Conference on Empirical Methods in Natural Language Processing (EMNLP) (pp. 4512-4525).\n",
    "4. <a name=tiedemann2012parallel></a>Tiedemann, J. (2012, May). Parallel Data, Tools and Interfaces in OPUS. In Lrec (Vol. 2012, pp. 2214-2218).\n",
    "5. <a name=kudo-richardson-2018-sentencepiece></a>Kudo, T., & Richardson, J. (2018, November). SentencePiece: A simple and language independent subword tokenizer and detokenizer for Neural Text Processing. In Proceedings of the 2018 Conference on Empirical Methods in Natural Language Processing: System Demonstrations (pp. 66-71).\n",
    "6. <a name=sennrich-etal-2016-improving></a>Sennrich, R., Haddow, B., & Birch, A. (2016, August). Improving Neural Machine Translation Models with Monolingual Data. In Proceedings of the 54th Annual Meeting of the Association for Computational Linguistics (Volume 1: Long Papers) (pp. 86-96).\n",
    "7. <a name=edunov-etal-2018-understanding></a>Edunov, S., Ott, M., Auli, M., & Grangier, D. (2018). Understanding Back-Translation at Scale. In Proceedings of the 2018 Conference on Empirical Methods in Natural Language Processing (pp. 489-500).\n",
    "8. https://github.com/ajinkyakulkarni14/TED-Multilingual-Parallel-Corpus\n",
    "9. https://ithelp.ithome.com.tw/articles/10233122\n",
    "10. https://nlp.seas.harvard.edu/2018/04/03/attention.html\n",
    "11. https://colab.research.google.com/github/ga642381/ML2021-Spring/blob/main/HW05/HW05.ipynb"
   ]
  },
  {
   "cell_type": "code",
   "execution_count": null,
   "metadata": {
    "id": "Rrfm6iLJQ0tS"
   },
   "outputs": [],
   "source": []
  }
 ],
 "metadata": {
  "accelerator": "GPU",
  "colab": {
   "collapsed_sections": [
    "nKb4u67-sT_Z",
    "n1rwQysTsdJq",
    "59si_C0Wsms7",
    "oOpG4EBRLwe_",
    "6ZlE_1JnMv56",
    "UDAPmxjRNEEL",
    "ce5n4eS7NQNy",
    "rUB9f1WCNgMH",
    "VFJlkOMONsc6",
    "Gt1lX3DRO_yU",
    "BAGMiun8PnZy",
    "JOVQRHzGQU4-",
    "jegH0bvMQVmR",
    "a65glBVXQZiE",
    "smA0JraEQdxz",
    "Jn4XeawpQjLk",
    "z-m3IsoJrhmd"
   ],
   "provenance": []
  },
  "kernelspec": {
   "display_name": "Python 3 (ipykernel)",
   "language": "python",
   "name": "python3"
  },
  "language_info": {
   "codemirror_mode": {
    "name": "ipython",
    "version": 3
   },
   "file_extension": ".py",
   "mimetype": "text/x-python",
   "name": "python",
   "nbconvert_exporter": "python",
   "pygments_lexer": "ipython3",
   "version": "3.9.16"
  }
 },
 "nbformat": 4,
 "nbformat_minor": 4
}
